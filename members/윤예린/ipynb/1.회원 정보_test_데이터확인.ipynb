{
 "cells": [
  {
   "cell_type": "code",
   "execution_count": 7,
   "id": "6af63a60-af0f-45f6-95af-368a90bb65d3",
   "metadata": {},
   "outputs": [],
   "source": [
    "# 기본\n",
    "import pandas as pd\n",
    "import numpy as np\n",
    "import matplotlib.pyplot as plt\n",
    "import seaborn as sns\n",
    "import glob\n",
    "\n",
    "# 경고 뜨지 않게 설정\n",
    "import warnings\n",
    "warnings.filterwarnings('ignore')\n",
    "\n",
    "# 그래프 설정\n",
    "sns.set()\n",
    "\n",
    "# 그래프 기본 설정\n",
    "plt.rcParams['font.family'] = 'Malgun Gothic'\n",
    "# plt.rcParams['font.family'] = 'AppleGothic'\n",
    "plt.rcParams['figure.figsize'] = 12, 6\n",
    "plt.rcParams['font.size'] = 14\n",
    "plt.rcParams['axes.unicode_minus'] = False\n",
    "\n",
    "# 데이터 전처리 알고리즘\n",
    "from sklearn.preprocessing import LabelEncoder\n",
    "from sklearn.preprocessing import StandardScaler\n",
    "\n",
    "# 학습용과 검증용으로 나누는 함수\n",
    "from sklearn.model_selection import train_test_split\n",
    "\n",
    "# 교차 검증\n",
    "from sklearn.model_selection import cross_val_score\n",
    "from sklearn.model_selection import cross_validate\n",
    "from sklearn.model_selection import KFold\n",
    "from sklearn.model_selection import StratifiedKFold\n",
    "\n",
    "# 평가함수\n",
    "# 분류용\n",
    "from sklearn.metrics import accuracy_score\n",
    "from sklearn.metrics import precision_score\n",
    "from sklearn.metrics import recall_score\n",
    "from sklearn.metrics import f1_score\n",
    "from sklearn.metrics import roc_auc_score\n",
    "\n",
    "# 회귀용\n",
    "from sklearn.metrics import r2_score\n",
    "from sklearn.metrics import mean_squared_error\n",
    "\n",
    "# 모델의 최적의 하이퍼 파라미터를 찾기 위한 도구\n",
    "from sklearn.model_selection import GridSearchCV\n",
    "\n",
    "# 머신러닝 알고리즘 - 분류\n",
    "from sklearn.neighbors import KNeighborsClassifier\n",
    "from sklearn.linear_model import LogisticRegression\n",
    "from sklearn.svm import SVC\n",
    "from sklearn.tree import DecisionTreeClassifier\n",
    "from sklearn.ensemble import RandomForestClassifier\n",
    "from sklearn.ensemble import AdaBoostClassifier\n",
    "from sklearn.ensemble import GradientBoostingClassifier\n",
    "from lightgbm import LGBMClassifier\n",
    "from xgboost import XGBClassifier\n",
    "from sklearn.ensemble import VotingClassifier\n",
    "\n",
    "# 머신러닝 알고리즘 - 회귀\n",
    "from sklearn.neighbors import KNeighborsRegressor\n",
    "from sklearn.linear_model import LinearRegression\n",
    "from sklearn.linear_model import Ridge\n",
    "from sklearn.linear_model import Lasso\n",
    "from sklearn.linear_model import ElasticNet\n",
    "from sklearn.svm import SVR\n",
    "from sklearn.tree import DecisionTreeRegressor\n",
    "from sklearn.ensemble import RandomForestRegressor\n",
    "from sklearn.ensemble import AdaBoostRegressor\n",
    "from sklearn.ensemble import GradientBoostingRegressor\n",
    "from lightgbm import LGBMRegressor\n",
    "from xgboost import XGBRegressor\n",
    "from sklearn.ensemble import VotingRegressor\n",
    "\n",
    "# 차원 축소\n",
    "from sklearn.decomposition import PCA\n",
    "from sklearn.discriminant_analysis import LinearDiscriminantAnalysis\n",
    "\n",
    "# 군집\n",
    "from sklearn.cluster import KMeans\n",
    "from sklearn.cluster import MeanShift\n",
    "from sklearn.cluster import estimate_bandwidth\n",
    "\n",
    "# 학습 모델 저장을 위한 라이브러리\n",
    "import pickle"
   ]
  },
  {
   "cell_type": "code",
   "execution_count": 8,
   "id": "0d43d9f4-ac8d-45b7-a5bd-6c2386792682",
   "metadata": {},
   "outputs": [],
   "source": [
    "import pandas as pd\n",
    "import glob"
   ]
  },
  {
   "cell_type": "code",
   "execution_count": 9,
   "id": "a78c95e0-a40a-423c-b331-cc438cbc22cb",
   "metadata": {},
   "outputs": [
    {
     "name": "stdout",
     "output_type": "stream",
     "text": [
      "(600000, 77)\n"
     ]
    },
    {
     "data": {
      "text/html": [
       "<div>\n",
       "<style scoped>\n",
       "    .dataframe tbody tr th:only-of-type {\n",
       "        vertical-align: middle;\n",
       "    }\n",
       "\n",
       "    .dataframe tbody tr th {\n",
       "        vertical-align: top;\n",
       "    }\n",
       "\n",
       "    .dataframe thead th {\n",
       "        text-align: right;\n",
       "    }\n",
       "</style>\n",
       "<table border=\"1\" class=\"dataframe\">\n",
       "  <thead>\n",
       "    <tr style=\"text-align: right;\">\n",
       "      <th></th>\n",
       "      <th>기준년월</th>\n",
       "      <th>ID</th>\n",
       "      <th>남녀구분코드</th>\n",
       "      <th>연령</th>\n",
       "      <th>회원여부_이용가능</th>\n",
       "      <th>회원여부_이용가능_CA</th>\n",
       "      <th>회원여부_이용가능_카드론</th>\n",
       "      <th>소지여부_신용</th>\n",
       "      <th>소지카드수_유효_신용</th>\n",
       "      <th>소지카드수_이용가능_신용</th>\n",
       "      <th>...</th>\n",
       "      <th>할인금액_제휴연회비_B0M</th>\n",
       "      <th>청구금액_기본연회비_B0M</th>\n",
       "      <th>청구금액_제휴연회비_B0M</th>\n",
       "      <th>상품관련면제카드수_B0M</th>\n",
       "      <th>임직원면제카드수_B0M</th>\n",
       "      <th>우수회원면제카드수_B0M</th>\n",
       "      <th>기타면제카드수_B0M</th>\n",
       "      <th>카드신청건수</th>\n",
       "      <th>Life_Stage</th>\n",
       "      <th>최종카드발급경과월</th>\n",
       "    </tr>\n",
       "  </thead>\n",
       "  <tbody>\n",
       "    <tr>\n",
       "      <th>0</th>\n",
       "      <td>201807</td>\n",
       "      <td>TEST_00000</td>\n",
       "      <td>1</td>\n",
       "      <td>40대</td>\n",
       "      <td>1</td>\n",
       "      <td>1</td>\n",
       "      <td>0</td>\n",
       "      <td>1</td>\n",
       "      <td>2</td>\n",
       "      <td>2</td>\n",
       "      <td>...</td>\n",
       "      <td>0</td>\n",
       "      <td>0</td>\n",
       "      <td>0</td>\n",
       "      <td>0개</td>\n",
       "      <td>0개</td>\n",
       "      <td>0개</td>\n",
       "      <td>0개</td>\n",
       "      <td>0</td>\n",
       "      <td>자녀성장(1)</td>\n",
       "      <td>45</td>\n",
       "    </tr>\n",
       "    <tr>\n",
       "      <th>1</th>\n",
       "      <td>201807</td>\n",
       "      <td>TEST_00001</td>\n",
       "      <td>1</td>\n",
       "      <td>60대</td>\n",
       "      <td>1</td>\n",
       "      <td>1</td>\n",
       "      <td>0</td>\n",
       "      <td>1</td>\n",
       "      <td>1</td>\n",
       "      <td>1</td>\n",
       "      <td>...</td>\n",
       "      <td>0</td>\n",
       "      <td>0</td>\n",
       "      <td>0</td>\n",
       "      <td>0개</td>\n",
       "      <td>0개</td>\n",
       "      <td>0개</td>\n",
       "      <td>0개</td>\n",
       "      <td>0</td>\n",
       "      <td>자녀독립기</td>\n",
       "      <td>19</td>\n",
       "    </tr>\n",
       "    <tr>\n",
       "      <th>2</th>\n",
       "      <td>201807</td>\n",
       "      <td>TEST_00002</td>\n",
       "      <td>1</td>\n",
       "      <td>40대</td>\n",
       "      <td>1</td>\n",
       "      <td>1</td>\n",
       "      <td>1</td>\n",
       "      <td>1</td>\n",
       "      <td>2</td>\n",
       "      <td>2</td>\n",
       "      <td>...</td>\n",
       "      <td>0</td>\n",
       "      <td>0</td>\n",
       "      <td>0</td>\n",
       "      <td>0개</td>\n",
       "      <td>0개</td>\n",
       "      <td>0개</td>\n",
       "      <td>0개</td>\n",
       "      <td>0</td>\n",
       "      <td>자녀성장(1)</td>\n",
       "      <td>5</td>\n",
       "    </tr>\n",
       "    <tr>\n",
       "      <th>3</th>\n",
       "      <td>201807</td>\n",
       "      <td>TEST_00003</td>\n",
       "      <td>2</td>\n",
       "      <td>40대</td>\n",
       "      <td>1</td>\n",
       "      <td>1</td>\n",
       "      <td>1</td>\n",
       "      <td>1</td>\n",
       "      <td>1</td>\n",
       "      <td>1</td>\n",
       "      <td>...</td>\n",
       "      <td>0</td>\n",
       "      <td>0</td>\n",
       "      <td>0</td>\n",
       "      <td>0개</td>\n",
       "      <td>0개</td>\n",
       "      <td>0개</td>\n",
       "      <td>0개</td>\n",
       "      <td>0</td>\n",
       "      <td>자녀성장(1)</td>\n",
       "      <td>7</td>\n",
       "    </tr>\n",
       "    <tr>\n",
       "      <th>4</th>\n",
       "      <td>201807</td>\n",
       "      <td>TEST_00004</td>\n",
       "      <td>2</td>\n",
       "      <td>40대</td>\n",
       "      <td>1</td>\n",
       "      <td>0</td>\n",
       "      <td>1</td>\n",
       "      <td>1</td>\n",
       "      <td>1</td>\n",
       "      <td>1</td>\n",
       "      <td>...</td>\n",
       "      <td>0</td>\n",
       "      <td>0</td>\n",
       "      <td>0</td>\n",
       "      <td>0개</td>\n",
       "      <td>0개</td>\n",
       "      <td>0개</td>\n",
       "      <td>0개</td>\n",
       "      <td>0</td>\n",
       "      <td>자녀성장(1)</td>\n",
       "      <td>1</td>\n",
       "    </tr>\n",
       "    <tr>\n",
       "      <th>5</th>\n",
       "      <td>201807</td>\n",
       "      <td>TEST_00005</td>\n",
       "      <td>2</td>\n",
       "      <td>30대</td>\n",
       "      <td>0</td>\n",
       "      <td>0</td>\n",
       "      <td>0</td>\n",
       "      <td>1</td>\n",
       "      <td>1</td>\n",
       "      <td>0</td>\n",
       "      <td>...</td>\n",
       "      <td>0</td>\n",
       "      <td>0</td>\n",
       "      <td>0</td>\n",
       "      <td>0개</td>\n",
       "      <td>0개</td>\n",
       "      <td>0개</td>\n",
       "      <td>0개</td>\n",
       "      <td>0</td>\n",
       "      <td>자녀성장(1)</td>\n",
       "      <td>19</td>\n",
       "    </tr>\n",
       "    <tr>\n",
       "      <th>6</th>\n",
       "      <td>201807</td>\n",
       "      <td>TEST_00006</td>\n",
       "      <td>1</td>\n",
       "      <td>30대</td>\n",
       "      <td>1</td>\n",
       "      <td>1</td>\n",
       "      <td>1</td>\n",
       "      <td>1</td>\n",
       "      <td>1</td>\n",
       "      <td>1</td>\n",
       "      <td>...</td>\n",
       "      <td>0</td>\n",
       "      <td>0</td>\n",
       "      <td>0</td>\n",
       "      <td>0개</td>\n",
       "      <td>0개</td>\n",
       "      <td>0개</td>\n",
       "      <td>0개</td>\n",
       "      <td>0</td>\n",
       "      <td>가족구축기</td>\n",
       "      <td>24</td>\n",
       "    </tr>\n",
       "    <tr>\n",
       "      <th>7</th>\n",
       "      <td>201807</td>\n",
       "      <td>TEST_00007</td>\n",
       "      <td>1</td>\n",
       "      <td>50대</td>\n",
       "      <td>1</td>\n",
       "      <td>1</td>\n",
       "      <td>1</td>\n",
       "      <td>1</td>\n",
       "      <td>2</td>\n",
       "      <td>2</td>\n",
       "      <td>...</td>\n",
       "      <td>0</td>\n",
       "      <td>0</td>\n",
       "      <td>0</td>\n",
       "      <td>0개</td>\n",
       "      <td>0개</td>\n",
       "      <td>0개</td>\n",
       "      <td>0개</td>\n",
       "      <td>1</td>\n",
       "      <td>자녀성장(2)</td>\n",
       "      <td>3</td>\n",
       "    </tr>\n",
       "    <tr>\n",
       "      <th>8</th>\n",
       "      <td>201807</td>\n",
       "      <td>TEST_00008</td>\n",
       "      <td>1</td>\n",
       "      <td>40대</td>\n",
       "      <td>1</td>\n",
       "      <td>0</td>\n",
       "      <td>0</td>\n",
       "      <td>1</td>\n",
       "      <td>2</td>\n",
       "      <td>2</td>\n",
       "      <td>...</td>\n",
       "      <td>0</td>\n",
       "      <td>0</td>\n",
       "      <td>0</td>\n",
       "      <td>0개</td>\n",
       "      <td>0개</td>\n",
       "      <td>0개</td>\n",
       "      <td>0개</td>\n",
       "      <td>0</td>\n",
       "      <td>자녀성장(1)</td>\n",
       "      <td>19</td>\n",
       "    </tr>\n",
       "    <tr>\n",
       "      <th>9</th>\n",
       "      <td>201807</td>\n",
       "      <td>TEST_00009</td>\n",
       "      <td>2</td>\n",
       "      <td>40대</td>\n",
       "      <td>1</td>\n",
       "      <td>1</td>\n",
       "      <td>1</td>\n",
       "      <td>1</td>\n",
       "      <td>1</td>\n",
       "      <td>1</td>\n",
       "      <td>...</td>\n",
       "      <td>0</td>\n",
       "      <td>0</td>\n",
       "      <td>0</td>\n",
       "      <td>0개</td>\n",
       "      <td>0개</td>\n",
       "      <td>0개</td>\n",
       "      <td>0개</td>\n",
       "      <td>0</td>\n",
       "      <td>자녀성장(2)</td>\n",
       "      <td>23</td>\n",
       "    </tr>\n",
       "  </tbody>\n",
       "</table>\n",
       "<p>10 rows × 77 columns</p>\n",
       "</div>"
      ],
      "text/plain": [
       "     기준년월          ID  남녀구분코드   연령  회원여부_이용가능  회원여부_이용가능_CA  회원여부_이용가능_카드론  \\\n",
       "0  201807  TEST_00000       1  40대          1             1              0   \n",
       "1  201807  TEST_00001       1  60대          1             1              0   \n",
       "2  201807  TEST_00002       1  40대          1             1              1   \n",
       "3  201807  TEST_00003       2  40대          1             1              1   \n",
       "4  201807  TEST_00004       2  40대          1             0              1   \n",
       "5  201807  TEST_00005       2  30대          0             0              0   \n",
       "6  201807  TEST_00006       1  30대          1             1              1   \n",
       "7  201807  TEST_00007       1  50대          1             1              1   \n",
       "8  201807  TEST_00008       1  40대          1             0              0   \n",
       "9  201807  TEST_00009       2  40대          1             1              1   \n",
       "\n",
       "   소지여부_신용  소지카드수_유효_신용  소지카드수_이용가능_신용  ...  할인금액_제휴연회비_B0M  청구금액_기본연회비_B0M  \\\n",
       "0        1            2              2  ...               0               0   \n",
       "1        1            1              1  ...               0               0   \n",
       "2        1            2              2  ...               0               0   \n",
       "3        1            1              1  ...               0               0   \n",
       "4        1            1              1  ...               0               0   \n",
       "5        1            1              0  ...               0               0   \n",
       "6        1            1              1  ...               0               0   \n",
       "7        1            2              2  ...               0               0   \n",
       "8        1            2              2  ...               0               0   \n",
       "9        1            1              1  ...               0               0   \n",
       "\n",
       "   청구금액_제휴연회비_B0M  상품관련면제카드수_B0M  임직원면제카드수_B0M  우수회원면제카드수_B0M  기타면제카드수_B0M  \\\n",
       "0               0             0개            0개             0개           0개   \n",
       "1               0             0개            0개             0개           0개   \n",
       "2               0             0개            0개             0개           0개   \n",
       "3               0             0개            0개             0개           0개   \n",
       "4               0             0개            0개             0개           0개   \n",
       "5               0             0개            0개             0개           0개   \n",
       "6               0             0개            0개             0개           0개   \n",
       "7               0             0개            0개             0개           0개   \n",
       "8               0             0개            0개             0개           0개   \n",
       "9               0             0개            0개             0개           0개   \n",
       "\n",
       "   카드신청건수  Life_Stage 최종카드발급경과월  \n",
       "0       0     자녀성장(1)        45  \n",
       "1       0       자녀독립기        19  \n",
       "2       0     자녀성장(1)         5  \n",
       "3       0     자녀성장(1)         7  \n",
       "4       0     자녀성장(1)         1  \n",
       "5       0     자녀성장(1)        19  \n",
       "6       0       가족구축기        24  \n",
       "7       1     자녀성장(2)         3  \n",
       "8       0     자녀성장(1)        19  \n",
       "9       0     자녀성장(2)        23  \n",
       "\n",
       "[10 rows x 77 columns]"
      ]
     },
     "execution_count": 9,
     "metadata": {},
     "output_type": "execute_result"
    }
   ],
   "source": [
    "# 1. 모든 parquet 파일 경로 가져오기\n",
    "file_list = glob.glob('open/test/1.회원정보/2018*_test_회원정보.parquet')\n",
    "\n",
    "# 2. 데이터프레임 리스트 생성\n",
    "df_list = [pd.read_parquet(f) for f in file_list]\n",
    "\n",
    "# 3. 하나로 합치기\n",
    "all_df = pd.concat(df_list, ignore_index=True)\n",
    "\n",
    "# 4. 확인\n",
    "print(all_df.shape)\n",
    "all_df.head(10)"
   ]
  },
  {
   "cell_type": "code",
   "execution_count": 10,
   "id": "b741c70e-ee70-4950-babd-edc0a9db4879",
   "metadata": {},
   "outputs": [
    {
     "data": {
      "text/plain": [
       "Index(['기준년월', 'ID', '남녀구분코드', '연령', '회원여부_이용가능', '회원여부_이용가능_CA',\n",
       "       '회원여부_이용가능_카드론', '소지여부_신용', '소지카드수_유효_신용', '소지카드수_이용가능_신용', '입회일자_신용',\n",
       "       '입회경과개월수_신용', '회원여부_연체', '이용거절여부_카드론', '동의여부_한도증액안내', '수신거부여부_TM',\n",
       "       '수신거부여부_DM', '수신거부여부_메일', '수신거부여부_SMS', '가입통신회사코드', '탈회횟수_누적',\n",
       "       '최종탈회후경과월', '탈회횟수_발급6개월이내', '탈회횟수_발급1년이내', '거주시도명', '직장시도명', '마케팅동의여부',\n",
       "       '유효카드수_신용체크', '유효카드수_신용', '유효카드수_신용_가족', '유효카드수_체크', '유효카드수_체크_가족',\n",
       "       '이용가능카드수_신용체크', '이용가능카드수_신용', '이용가능카드수_신용_가족', '이용가능카드수_체크',\n",
       "       '이용가능카드수_체크_가족', '이용카드수_신용체크', '이용카드수_신용', '이용카드수_신용_가족', '이용카드수_체크',\n",
       "       '이용카드수_체크_가족', '이용금액_R3M_신용체크', '이용금액_R3M_신용', '이용금액_R3M_신용_가족',\n",
       "       '이용금액_R3M_체크', '이용금액_R3M_체크_가족', '_1순위카드이용금액', '_1순위카드이용건수',\n",
       "       '_1순위신용체크구분', '_2순위카드이용금액', '_2순위카드이용건수', '_2순위신용체크구분',\n",
       "       '최종유효년월_신용_이용가능', '최종유효년월_신용_이용', '최종카드발급일자', '보유여부_해외겸용_본인',\n",
       "       '이용가능여부_해외겸용_본인', '이용여부_3M_해외겸용_본인', '보유여부_해외겸용_신용_본인',\n",
       "       '이용가능여부_해외겸용_신용_본인', '이용여부_3M_해외겸용_신용_본인', '연회비발생카드수_B0M',\n",
       "       '연회비할인카드수_B0M', '기본연회비_B0M', '제휴연회비_B0M', '할인금액_기본연회비_B0M',\n",
       "       '할인금액_제휴연회비_B0M', '청구금액_기본연회비_B0M', '청구금액_제휴연회비_B0M', '상품관련면제카드수_B0M',\n",
       "       '임직원면제카드수_B0M', '우수회원면제카드수_B0M', '기타면제카드수_B0M', '카드신청건수', 'Life_Stage',\n",
       "       '최종카드발급경과월'],\n",
       "      dtype='object')"
      ]
     },
     "execution_count": 10,
     "metadata": {},
     "output_type": "execute_result"
    }
   ],
   "source": [
    "# 컬럼명 확인\n",
    "all_df.columns"
   ]
  },
  {
   "cell_type": "code",
   "execution_count": 5,
   "id": "62a46eeb-8848-4174-8b45-72f65ce11f4e",
   "metadata": {},
   "outputs": [
    {
     "data": {
      "text/plain": [
       "기준년월             0\n",
       "ID               0\n",
       "남녀구분코드           0\n",
       "연령               0\n",
       "회원여부_이용가능        0\n",
       "                ..\n",
       "우수회원면제카드수_B0M    0\n",
       "기타면제카드수_B0M      0\n",
       "카드신청건수           0\n",
       "Life_Stage       0\n",
       "최종카드발급경과월        0\n",
       "Length: 77, dtype: int64"
      ]
     },
     "execution_count": 5,
     "metadata": {},
     "output_type": "execute_result"
    }
   ],
   "source": [
    "# 결측치 확인\n",
    "all_df.isna().sum()"
   ]
  },
  {
   "cell_type": "code",
   "execution_count": 6,
   "id": "28dd6a02-b8d8-49b7-960a-fc4c08dd0bb6",
   "metadata": {},
   "outputs": [
    {
     "data": {
      "text/plain": [
       "Index(['가입통신회사코드', '직장시도명', '_1순위신용체크구분', '_2순위신용체크구분', '최종유효년월_신용_이용가능',\n",
       "       '최종유효년월_신용_이용', '최종카드발급일자'],\n",
       "      dtype='object')"
      ]
     },
     "execution_count": 6,
     "metadata": {},
     "output_type": "execute_result"
    }
   ],
   "source": [
    "# 결측치가 하나라도 있는 컬럼 이름만 보기\n",
    "all_df.columns[all_df.isna().any()]"
   ]
  },
  {
   "cell_type": "markdown",
   "id": "a7922d06-e7f8-4b73-abb7-25fda7b01835",
   "metadata": {},
   "source": [
    "### 데이터 명세서"
   ]
  },
  {
   "cell_type": "markdown",
   "id": "7693a677-41f7-4200-8c42-0dae21fc7b11",
   "metadata": {},
   "source": [
    "- 기준년월\n",
    "- ID\n",
    "- 남녀구분코드\n",
    "- 연령\n",
    "  -  1 = 여성 / 2 = 남성\n",
    "- 회원여부_이용가능\n",
    "- 회원여부_이용가능_CA\n",
    "- 회원여부_이용가능_카드론\n",
    "- 소지여부_신용\n",
    "- 소지카드수_유효_신용\n",
    "- 소지카드수_이용가능_신용"
   ]
  },
  {
   "attachments": {},
   "cell_type": "markdown",
   "id": "354a8d20-1bfb-4cb2-92e8-d7cdd4b16328",
   "metadata": {},
   "source": [
    "### 기준년월\n",
    "- 데이터 기준년월\n",
    "- int64, 범주형 데이터\n"
   ]
  },
  {
   "cell_type": "code",
   "execution_count": 8,
   "id": "5fdba149-9d9b-4e9d-b8b3-302c4f691591",
   "metadata": {},
   "outputs": [
    {
     "data": {
      "text/plain": [
       "기준년월\n",
       "201807    100000\n",
       "201808    100000\n",
       "201809    100000\n",
       "201810    100000\n",
       "201811    100000\n",
       "201812    100000\n",
       "Name: count, dtype: int64"
      ]
     },
     "execution_count": 8,
     "metadata": {},
     "output_type": "execute_result"
    }
   ],
   "source": [
    "# 남녀구분코드 분포\n",
    "all_df['기준년월'].value_counts()"
   ]
  },
  {
   "cell_type": "markdown",
   "id": "fbf2f47e-e40a-4f03-9701-4f3286ffcd35",
   "metadata": {},
   "source": [
    "### ID \n",
    "- 고유 ID\n",
    "- object\n",
    "- 같은 고객(40만명)이 6달 동안 반복적으로 기록된 데이터... "
   ]
  },
  {
   "cell_type": "code",
   "execution_count": 10,
   "id": "cd142d98-f62b-441a-8e88-b584c622fde8",
   "metadata": {},
   "outputs": [
    {
     "data": {
      "text/html": [
       "<div>\n",
       "<style scoped>\n",
       "    .dataframe tbody tr th:only-of-type {\n",
       "        vertical-align: middle;\n",
       "    }\n",
       "\n",
       "    .dataframe tbody tr th {\n",
       "        vertical-align: top;\n",
       "    }\n",
       "\n",
       "    .dataframe thead th {\n",
       "        text-align: right;\n",
       "    }\n",
       "</style>\n",
       "<table border=\"1\" class=\"dataframe\">\n",
       "  <thead>\n",
       "    <tr style=\"text-align: right;\">\n",
       "      <th></th>\n",
       "      <th>기준년월</th>\n",
       "      <th>ID</th>\n",
       "      <th>남녀구분코드</th>\n",
       "      <th>연령</th>\n",
       "      <th>회원여부_이용가능</th>\n",
       "      <th>회원여부_이용가능_CA</th>\n",
       "      <th>회원여부_이용가능_카드론</th>\n",
       "      <th>소지여부_신용</th>\n",
       "      <th>소지카드수_유효_신용</th>\n",
       "      <th>소지카드수_이용가능_신용</th>\n",
       "      <th>...</th>\n",
       "      <th>할인금액_제휴연회비_B0M</th>\n",
       "      <th>청구금액_기본연회비_B0M</th>\n",
       "      <th>청구금액_제휴연회비_B0M</th>\n",
       "      <th>상품관련면제카드수_B0M</th>\n",
       "      <th>임직원면제카드수_B0M</th>\n",
       "      <th>우수회원면제카드수_B0M</th>\n",
       "      <th>기타면제카드수_B0M</th>\n",
       "      <th>카드신청건수</th>\n",
       "      <th>Life_Stage</th>\n",
       "      <th>최종카드발급경과월</th>\n",
       "    </tr>\n",
       "  </thead>\n",
       "  <tbody>\n",
       "    <tr>\n",
       "      <th>100000</th>\n",
       "      <td>201808</td>\n",
       "      <td>TEST_00000</td>\n",
       "      <td>1</td>\n",
       "      <td>40대</td>\n",
       "      <td>1</td>\n",
       "      <td>1</td>\n",
       "      <td>0</td>\n",
       "      <td>1</td>\n",
       "      <td>2</td>\n",
       "      <td>2</td>\n",
       "      <td>...</td>\n",
       "      <td>0</td>\n",
       "      <td>0</td>\n",
       "      <td>0</td>\n",
       "      <td>0개</td>\n",
       "      <td>0개</td>\n",
       "      <td>0개</td>\n",
       "      <td>0개</td>\n",
       "      <td>0</td>\n",
       "      <td>자녀성장(1)</td>\n",
       "      <td>46</td>\n",
       "    </tr>\n",
       "    <tr>\n",
       "      <th>100001</th>\n",
       "      <td>201808</td>\n",
       "      <td>TEST_00001</td>\n",
       "      <td>1</td>\n",
       "      <td>60대</td>\n",
       "      <td>1</td>\n",
       "      <td>1</td>\n",
       "      <td>0</td>\n",
       "      <td>1</td>\n",
       "      <td>1</td>\n",
       "      <td>1</td>\n",
       "      <td>...</td>\n",
       "      <td>0</td>\n",
       "      <td>0</td>\n",
       "      <td>0</td>\n",
       "      <td>0개</td>\n",
       "      <td>0개</td>\n",
       "      <td>0개</td>\n",
       "      <td>0개</td>\n",
       "      <td>0</td>\n",
       "      <td>자녀독립기</td>\n",
       "      <td>20</td>\n",
       "    </tr>\n",
       "    <tr>\n",
       "      <th>100002</th>\n",
       "      <td>201808</td>\n",
       "      <td>TEST_00002</td>\n",
       "      <td>1</td>\n",
       "      <td>40대</td>\n",
       "      <td>1</td>\n",
       "      <td>1</td>\n",
       "      <td>1</td>\n",
       "      <td>1</td>\n",
       "      <td>2</td>\n",
       "      <td>2</td>\n",
       "      <td>...</td>\n",
       "      <td>0</td>\n",
       "      <td>0</td>\n",
       "      <td>0</td>\n",
       "      <td>0개</td>\n",
       "      <td>0개</td>\n",
       "      <td>0개</td>\n",
       "      <td>0개</td>\n",
       "      <td>0</td>\n",
       "      <td>자녀성장(1)</td>\n",
       "      <td>6</td>\n",
       "    </tr>\n",
       "    <tr>\n",
       "      <th>100003</th>\n",
       "      <td>201808</td>\n",
       "      <td>TEST_00003</td>\n",
       "      <td>2</td>\n",
       "      <td>40대</td>\n",
       "      <td>1</td>\n",
       "      <td>1</td>\n",
       "      <td>1</td>\n",
       "      <td>1</td>\n",
       "      <td>1</td>\n",
       "      <td>1</td>\n",
       "      <td>...</td>\n",
       "      <td>0</td>\n",
       "      <td>0</td>\n",
       "      <td>0</td>\n",
       "      <td>0개</td>\n",
       "      <td>0개</td>\n",
       "      <td>0개</td>\n",
       "      <td>0개</td>\n",
       "      <td>0</td>\n",
       "      <td>자녀성장(1)</td>\n",
       "      <td>8</td>\n",
       "    </tr>\n",
       "    <tr>\n",
       "      <th>100004</th>\n",
       "      <td>201808</td>\n",
       "      <td>TEST_00004</td>\n",
       "      <td>2</td>\n",
       "      <td>40대</td>\n",
       "      <td>1</td>\n",
       "      <td>0</td>\n",
       "      <td>1</td>\n",
       "      <td>1</td>\n",
       "      <td>1</td>\n",
       "      <td>1</td>\n",
       "      <td>...</td>\n",
       "      <td>0</td>\n",
       "      <td>0</td>\n",
       "      <td>0</td>\n",
       "      <td>0개</td>\n",
       "      <td>0개</td>\n",
       "      <td>0개</td>\n",
       "      <td>0개</td>\n",
       "      <td>0</td>\n",
       "      <td>자녀성장(2)</td>\n",
       "      <td>2</td>\n",
       "    </tr>\n",
       "  </tbody>\n",
       "</table>\n",
       "<p>5 rows × 77 columns</p>\n",
       "</div>"
      ],
      "text/plain": [
       "          기준년월          ID  남녀구분코드   연령  회원여부_이용가능  회원여부_이용가능_CA  \\\n",
       "100000  201808  TEST_00000       1  40대          1             1   \n",
       "100001  201808  TEST_00001       1  60대          1             1   \n",
       "100002  201808  TEST_00002       1  40대          1             1   \n",
       "100003  201808  TEST_00003       2  40대          1             1   \n",
       "100004  201808  TEST_00004       2  40대          1             0   \n",
       "\n",
       "        회원여부_이용가능_카드론  소지여부_신용  소지카드수_유효_신용  소지카드수_이용가능_신용  ...  \\\n",
       "100000              0        1            2              2  ...   \n",
       "100001              0        1            1              1  ...   \n",
       "100002              1        1            2              2  ...   \n",
       "100003              1        1            1              1  ...   \n",
       "100004              1        1            1              1  ...   \n",
       "\n",
       "        할인금액_제휴연회비_B0M  청구금액_기본연회비_B0M  청구금액_제휴연회비_B0M  상품관련면제카드수_B0M  \\\n",
       "100000               0               0               0             0개   \n",
       "100001               0               0               0             0개   \n",
       "100002               0               0               0             0개   \n",
       "100003               0               0               0             0개   \n",
       "100004               0               0               0             0개   \n",
       "\n",
       "        임직원면제카드수_B0M  우수회원면제카드수_B0M  기타면제카드수_B0M  카드신청건수  Life_Stage 최종카드발급경과월  \n",
       "100000            0개             0개           0개       0     자녀성장(1)        46  \n",
       "100001            0개             0개           0개       0       자녀독립기        20  \n",
       "100002            0개             0개           0개       0     자녀성장(1)         6  \n",
       "100003            0개             0개           0개       0     자녀성장(1)         8  \n",
       "100004            0개             0개           0개       0     자녀성장(2)         2  \n",
       "\n",
       "[5 rows x 77 columns]"
      ]
     },
     "execution_count": 10,
     "metadata": {},
     "output_type": "execute_result"
    }
   ],
   "source": [
    "df_august = all_df[all_df['기준년월'] == 201808]\n",
    "df_august.head()"
   ]
  },
  {
   "cell_type": "code",
   "execution_count": 11,
   "id": "81de95ad-690b-4c4f-8841-9e2dea84314c",
   "metadata": {},
   "outputs": [
    {
     "data": {
      "text/plain": [
       "600000"
      ]
     },
     "execution_count": 11,
     "metadata": {},
     "output_type": "execute_result"
    }
   ],
   "source": [
    "# 총 ID 수 (전체 행 수)\n",
    "len(all_df)"
   ]
  },
  {
   "cell_type": "code",
   "execution_count": 12,
   "id": "268de99f-c2cc-4ea0-bb7f-81e782bbc714",
   "metadata": {},
   "outputs": [
    {
     "data": {
      "text/plain": [
       "100000"
      ]
     },
     "execution_count": 12,
     "metadata": {},
     "output_type": "execute_result"
    }
   ],
   "source": [
    "# 고유한 고객 수\n",
    "all_df['ID'].nunique()"
   ]
  },
  {
   "cell_type": "markdown",
   "id": "8d00a6bd-9f97-4fcb-9dba-77e6575be4ae",
   "metadata": {},
   "source": [
    "### 남녀구분코드\n",
    "- 범주형 데이터, int64\n",
    "- 1 / 2 로 구분되어있음.\n",
    "- 1 : 남성\n",
    "- 2 : 여성"
   ]
  },
  {
   "cell_type": "code",
   "execution_count": 14,
   "id": "976475b5-af6f-4417-a368-ad6dad7b2a9b",
   "metadata": {},
   "outputs": [
    {
     "data": {
      "text/plain": [
       "남녀구분코드\n",
       "1    314316\n",
       "2    285684\n",
       "Name: count, dtype: int64"
      ]
     },
     "execution_count": 14,
     "metadata": {},
     "output_type": "execute_result"
    }
   ],
   "source": [
    "# 남녀구분코드 분포\n",
    "all_df['남녀구분코드'].value_counts()\n"
   ]
  },
  {
   "cell_type": "markdown",
   "id": "2235505d-2433-4252-9e75-f4c7eb6d80a4",
   "metadata": {},
   "source": [
    "### 연령\n",
    "- 나이\n",
    "- 범주형 데이터\n",
    "- 20대, 30대, ..., 60대, 70대 이상"
   ]
  },
  {
   "cell_type": "code",
   "execution_count": 16,
   "id": "e1e8c802-6bab-4a55-82c5-a743692033e3",
   "metadata": {},
   "outputs": [
    {
     "data": {
      "text/plain": [
       "연령\n",
       "40대      183816\n",
       "30대      148890\n",
       "50대      135600\n",
       "60대       62124\n",
       "20대       47028\n",
       "70대이상     22542\n",
       "Name: count, dtype: int64"
      ]
     },
     "execution_count": 16,
     "metadata": {},
     "output_type": "execute_result"
    }
   ],
   "source": [
    "# 연령 분포\n",
    "all_df['연령'].value_counts()"
   ]
  },
  {
   "cell_type": "markdown",
   "id": "8edcb567-b55c-4342-92a4-ad87e6cb7c9e",
   "metadata": {},
   "source": [
    "### 회원여부_이용가능\n",
    "- 분실/연체/한도 소진 등으로 Black List로 등재 되지 않은 회원\n",
    "- 0 / 1 로 구분되어 있음\n",
    "- 보통 관례적으로 1 = 이용가능, 0 = 이용불가"
   ]
  },
  {
   "cell_type": "code",
   "execution_count": 18,
   "id": "26732d1b-4451-44ac-926d-f39b5ef6a16b",
   "metadata": {},
   "outputs": [
    {
     "data": {
      "text/plain": [
       "회원여부_이용가능\n",
       "1    571083\n",
       "0     28917\n",
       "Name: count, dtype: int64"
      ]
     },
     "execution_count": 18,
     "metadata": {},
     "output_type": "execute_result"
    }
   ],
   "source": [
    "# 회원여부_이용가능 분포\n",
    "all_df['회원여부_이용가능'].value_counts()"
   ]
  },
  {
   "cell_type": "markdown",
   "id": "2ea34a3a-3ac6-4ea4-9a93-7a7f14987b7f",
   "metadata": {},
   "source": [
    "### 회원여부_이용가능_CA\n",
    "- 분실/연체/한도 소진 등으로 Black List로 등재 되지 않아 현금서비스 \n",
    "- 0 / 1 로 구분되어 있음\n",
    "- 보통 관례적으로 1 = 이용가능, 0 = 이용불가"
   ]
  },
  {
   "cell_type": "code",
   "execution_count": 20,
   "id": "d2dc0195-2c7a-4727-90eb-ee1a45dbc65f",
   "metadata": {},
   "outputs": [
    {
     "data": {
      "text/plain": [
       "회원여부_이용가능_CA\n",
       "1    527252\n",
       "0     72748\n",
       "Name: count, dtype: int64"
      ]
     },
     "execution_count": 20,
     "metadata": {},
     "output_type": "execute_result"
    }
   ],
   "source": [
    "# 회원여부_이용가능_CA 분포\n",
    "all_df['회원여부_이용가능_CA'].value_counts()"
   ]
  },
  {
   "cell_type": "markdown",
   "id": "9ea2e2ac-5823-4499-97fa-e47434516a82",
   "metadata": {},
   "source": [
    "### 회원여부_이용가능_카드론\n",
    "- 분실/연체/한도 소진 등으로 Black List로 등재 되지 않아 카드장기대출\n",
    "- 0 / 1 로 구분되어 있음\n",
    "- 보통 관례적으로 1 = 이용가능, 0 = 이용불가"
   ]
  },
  {
   "cell_type": "code",
   "execution_count": 22,
   "id": "4cb7d5c4-5a2e-4c1f-a492-53ef4efa79f9",
   "metadata": {},
   "outputs": [
    {
     "data": {
      "text/plain": [
       "회원여부_이용가능_카드론\n",
       "1    372122\n",
       "0    227878\n",
       "Name: count, dtype: int64"
      ]
     },
     "execution_count": 22,
     "metadata": {},
     "output_type": "execute_result"
    }
   ],
   "source": [
    "# 회원여부_이용가능_카드론 분포\n",
    "all_df['회원여부_이용가능_카드론'].value_counts()"
   ]
  },
  {
   "cell_type": "markdown",
   "id": "89068382-00f4-4b78-af20-4e9db4812d17",
   "metadata": {},
   "source": [
    "### 소지여부_신용\n",
    "- 신용카드를 소지한 회원\n",
    "- 0 / 1 로 구분되어 있음\n",
    "- 1 = 있음, 0 = 없음"
   ]
  },
  {
   "cell_type": "code",
   "execution_count": 24,
   "id": "04e78f90-06be-4932-bee1-33042cbd8be5",
   "metadata": {},
   "outputs": [
    {
     "data": {
      "text/plain": [
       "소지여부_신용\n",
       "1    589159\n",
       "0     10841\n",
       "Name: count, dtype: int64"
      ]
     },
     "execution_count": 24,
     "metadata": {},
     "output_type": "execute_result"
    }
   ],
   "source": [
    "# 소지여부_분포\n",
    "all_df['소지여부_신용'].value_counts()"
   ]
  },
  {
   "cell_type": "markdown",
   "id": "84640430-ffe9-44b0-a07b-e3e1b24f5886",
   "metadata": {},
   "source": [
    "### 소지카드수_유효_신용\n",
    "- 유효한 신용카드의 보유 수\n",
    "- 보유 카드 수 : 0, 1, 2, 3, 4장"
   ]
  },
  {
   "cell_type": "code",
   "execution_count": 26,
   "id": "192b0479-9174-4acd-adb3-e40ba982dff0",
   "metadata": {},
   "outputs": [
    {
     "data": {
      "text/plain": [
       "소지카드수_유효_신용\n",
       "1    461086\n",
       "2     98098\n",
       "3     29948\n",
       "0     10849\n",
       "4        19\n",
       "Name: count, dtype: int64"
      ]
     },
     "execution_count": 26,
     "metadata": {},
     "output_type": "execute_result"
    }
   ],
   "source": [
    "# 소지카드수_유효_신용\n",
    "all_df['소지카드수_유효_신용'].value_counts()"
   ]
  },
  {
   "cell_type": "code",
   "execution_count": 27,
   "id": "0e817b65-3ed3-4e86-862b-9e154db9fcd0",
   "metadata": {},
   "outputs": [
    {
     "data": {
      "text/plain": [
       "<Axes: ylabel='count'>"
      ]
     },
     "execution_count": 27,
     "metadata": {},
     "output_type": "execute_result"
    },
    {
     "data": {
      "image/png": "[encoded data removed]",
      "text/plain": [
       "<Figure size 1200x600 with 1 Axes>"
      ]
     },
     "metadata": {},
     "output_type": "display_data"
    }
   ],
   "source": [
    "all_df['소지카드수_유효_신용'].value_counts().plot.pie(autopct='%.1f%%')"
   ]
  },
  {
   "cell_type": "markdown",
   "id": "f04083d7-195a-4a84-8428-2fb3bb87f598",
   "metadata": {},
   "source": [
    "### 소지카드수_이용가능_신용\n",
    "- 유요한 신용카드 중 BL로 등재되지 않아 이용 가능한 신용카드 수\n",
    "- 이용가능 소지카드 수 : 0, 1, 2, 3장"
   ]
  },
  {
   "cell_type": "code",
   "execution_count": 29,
   "id": "69949c2b-32f6-4224-889e-d5ac7d0a3df9",
   "metadata": {},
   "outputs": [
    {
     "data": {
      "text/plain": [
       "소지카드수_이용가능_신용\n",
       "1    430542\n",
       "2     92595\n",
       "0     51910\n",
       "3     24953\n",
       "Name: count, dtype: int64"
      ]
     },
     "execution_count": 29,
     "metadata": {},
     "output_type": "execute_result"
    }
   ],
   "source": [
    "# 소지카드수_이용가능_신용\n",
    "all_df['소지카드수_이용가능_신용'].value_counts()"
   ]
  },
  {
   "cell_type": "code",
   "execution_count": 30,
   "id": "64a10578-857b-4ccf-8296-c82baf38bcaf",
   "metadata": {},
   "outputs": [
    {
     "data": {
      "text/plain": [
       "<Axes: ylabel='count'>"
      ]
     },
     "execution_count": 30,
     "metadata": {},
     "output_type": "execute_result"
    },
    {
     "data": {
      "image/png": "[encoded data removed]",
      "text/plain": [
       "<Figure size 1200x600 with 1 Axes>"
      ]
     },
     "metadata": {},
     "output_type": "display_data"
    }
   ],
   "source": [
    "all_df['소지카드수_이용가능_신용'].value_counts().plot.pie(autopct='%.1f%%')"
   ]
  },
  {
   "attachments": {},
   "cell_type": "markdown",
   "id": "cbb59bae-3eb0-4020-8b24-b951715c77a8",
   "metadata": {},
   "source": [
    "### 입회일자_신용\n",
    "- 카드회원이 된 일자 (입회일자의 일단위 두자리는 01로 변경하여 월단위로 범주화)\n"
   ]
  },
  {
   "cell_type": "code",
   "execution_count": 32,
   "id": "ee0419fe-c38b-4969-ae68-310591c24b92",
   "metadata": {},
   "outputs": [
    {
     "data": {
      "text/plain": [
       "입회일자_신용\n",
       "20180601    78012\n",
       "20171201     6672\n",
       "20180101     6438\n",
       "20180301     6348\n",
       "20171001     6174\n",
       "            ...  \n",
       "19911101       12\n",
       "19920501        6\n",
       "19910701        6\n",
       "19910901        6\n",
       "19911201        6\n",
       "Name: count, Length: 320, dtype: int64"
      ]
     },
     "execution_count": 32,
     "metadata": {},
     "output_type": "execute_result"
    }
   ],
   "source": [
    "# 입회일자_신용\n",
    "all_df['입회일자_신용'].value_counts()"
   ]
  },
  {
   "cell_type": "code",
   "execution_count": 33,
   "id": "6fbd14e8-0ca2-4144-89c4-240895651cba",
   "metadata": {},
   "outputs": [
    {
     "data": {
      "image/png": "[encoded data removed]",
      "text/plain": [
       "<Figure size 1200x600 with 1 Axes>"
      ]
     },
     "metadata": {},
     "output_type": "display_data"
    },
    {
     "name": "stdout",
     "output_type": "stream",
     "text": [
      "count      600000\n",
      "mean     20122713\n",
      "std         60364\n",
      "min      19910701\n",
      "25%      20100301\n",
      "50%      20140701\n",
      "75%      20170601\n",
      "max      20180601\n",
      "Name: 입회일자_신용, dtype: int64\n"
     ]
    },
    {
     "data": {
      "text/plain": [
       "<Axes: xlabel='입회일자_신용'>"
      ]
     },
     "execution_count": 33,
     "metadata": {},
     "output_type": "execute_result"
    },
    {
     "data": {
      "image/png": "[encoded data removed]",
      "text/plain": [
       "<Figure size 1200x600 with 1 Axes>"
      ]
     },
     "metadata": {},
     "output_type": "display_data"
    }
   ],
   "source": [
    "all_df['입회일자_신용'].hist(bins=50)\n",
    "plt.xlabel('입회일자_신용')\n",
    "plt.ylabel('빈도')\n",
    "plt.title('입회일자_신용')\n",
    "plt.show()\n",
    "\n",
    "desc = all_df['입회일자_신용'].describe()\n",
    "print(desc.apply(lambda x: int(x)))\n",
    "\n",
    "# 이상치 탐색\n",
    "sns.boxplot(x=all_df['입회일자_신용'])"
   ]
  },
  {
   "cell_type": "code",
   "execution_count": 34,
   "id": "168ae737-ae77-4944-8419-4bb66c5890f8",
   "metadata": {},
   "outputs": [
    {
     "data": {
      "image/png": "[encoded data removed]",
      "text/plain": [
       "<Figure size 1200x400 with 1 Axes>"
      ]
     },
     "metadata": {},
     "output_type": "display_data"
    }
   ],
   "source": [
    "# 연도, 월 컬럼 추출\n",
    "all_df['입회연도'] = all_df['입회일자_신용'] // 10000\n",
    "all_df['입회월'] = (all_df['입회일자_신용'] % 10000) // 100\n",
    "\n",
    "# 연도별 가입자 수\n",
    "yearly_counts = all_df['입회연도'].value_counts().sort_index()\n",
    "yearly_counts.plot(kind='bar', figsize=(12, 4))\n",
    "plt.title('연도별 입회자 수')\n",
    "plt.xlabel('연도')\n",
    "plt.ylabel('가입자 수')\n",
    "plt.show()"
   ]
  },
  {
   "cell_type": "markdown",
   "id": "fe837c6c-dd35-4e73-805a-89fdeec71691",
   "metadata": {},
   "source": [
    "### 입회경과개월수_신용\n",
    "- 신용카드를 소지한 이후 경과 개월 수"
   ]
  },
  {
   "cell_type": "code",
   "execution_count": 36,
   "id": "c8fe6f17-6357-4bd3-974c-929ccb709a0f",
   "metadata": {},
   "outputs": [
    {
     "data": {
      "text/plain": [
       "입회경과개월수_신용\n",
       "6      29992\n",
       "5      16033\n",
       "4      14975\n",
       "3      13966\n",
       "2      13002\n",
       "       ...  \n",
       "322        5\n",
       "321        3\n",
       "327        3\n",
       "329        2\n",
       "328        1\n",
       "Name: count, Length: 328, dtype: int64"
      ]
     },
     "execution_count": 36,
     "metadata": {},
     "output_type": "execute_result"
    }
   ],
   "source": [
    "# 입회경과개월수_신용\n",
    "all_df['입회경과개월수_신용'].value_counts()"
   ]
  },
  {
   "cell_type": "code",
   "execution_count": 37,
   "id": "563fee2b-0c30-4edc-981d-fe7fa862fe64",
   "metadata": {},
   "outputs": [
    {
     "data": {
      "image/png": "[encoded data removed]",
      "text/plain": [
       "<Figure size 1200x600 with 1 Axes>"
      ]
     },
     "metadata": {},
     "output_type": "display_data"
    },
    {
     "name": "stdout",
     "output_type": "stream",
     "text": [
      "count    600000\n",
      "mean         73\n",
      "std          72\n",
      "min           2\n",
      "25%          17\n",
      "50%          51\n",
      "75%         103\n",
      "max         329\n",
      "Name: 입회경과개월수_신용, dtype: int64\n"
     ]
    },
    {
     "data": {
      "text/plain": [
       "<Axes: xlabel='입회경과개월수_신용'>"
      ]
     },
     "execution_count": 37,
     "metadata": {},
     "output_type": "execute_result"
    },
    {
     "data": {
      "image/png": "[encoded data removed]",
      "text/plain": [
       "<Figure size 1200x600 with 1 Axes>"
      ]
     },
     "metadata": {},
     "output_type": "display_data"
    }
   ],
   "source": [
    "all_df['입회경과개월수_신용'].hist(bins=50)\n",
    "plt.xlabel('입회경과개월수_신용')\n",
    "plt.title('입회경과개월수_신용')\n",
    "plt.show()\n",
    "\n",
    "desc = all_df['입회경과개월수_신용'].describe()\n",
    "print(desc.apply(lambda x: int(x)))\n",
    "\n",
    "# 이상치 탐색\n",
    "sns.boxplot(x=all_df['입회경과개월수_신용'])"
   ]
  },
  {
   "cell_type": "markdown",
   "id": "41219c5f-e2b4-4d9e-8cb8-3307d091ae42",
   "metadata": {},
   "source": [
    "### 회원여부_연체\n",
    "- 연체 여부\n",
    "- 0 / 1 로 구분\n",
    "- 0 = 연체없음, 1 = 연체 있음\n",
    "- 보통 카드사/금융사에서는 1이 위험 고객군(Risky)을 의미함"
   ]
  },
  {
   "cell_type": "code",
   "execution_count": 39,
   "id": "3cfe56a5-4fbc-4a97-875b-9fefe1040bdf",
   "metadata": {},
   "outputs": [
    {
     "data": {
      "text/plain": [
       "회원여부_연체\n",
       "0    589744\n",
       "1     10256\n",
       "Name: count, dtype: int64"
      ]
     },
     "execution_count": 39,
     "metadata": {},
     "output_type": "execute_result"
    }
   ],
   "source": [
    "# 회원여부_연체\n",
    "all_df['회원여부_연체'].value_counts()"
   ]
  },
  {
   "cell_type": "markdown",
   "id": "658e5f69-54fe-4a1c-93b1-5630023c98f2",
   "metadata": {},
   "source": [
    "### 이용거절여부_카드론\n",
    "- 카드론 이용거절여부"
   ]
  },
  {
   "cell_type": "code",
   "execution_count": 41,
   "id": "0513fa38-7519-4f00-bac6-ae77a35c2e18",
   "metadata": {},
   "outputs": [
    {
     "data": {
      "text/plain": [
       "이용거절여부_카드론\n",
       "0    480887\n",
       "1    119113\n",
       "Name: count, dtype: int64"
      ]
     },
     "execution_count": 41,
     "metadata": {},
     "output_type": "execute_result"
    }
   ],
   "source": [
    "# 카드론 이용거절여부\n",
    "all_df['이용거절여부_카드론'].value_counts()"
   ]
  },
  {
   "cell_type": "markdown",
   "id": "72f0275d-1c9e-49c2-9dc2-64680cc2bbf6",
   "metadata": {},
   "source": [
    "### 동의여부_한도증액안내\n",
    "- 한도증액안내 동의여부"
   ]
  },
  {
   "cell_type": "code",
   "execution_count": 43,
   "id": "5080efbb-690b-4d8a-98c2-b5249bd0b592",
   "metadata": {},
   "outputs": [
    {
     "data": {
      "text/plain": [
       "동의여부_한도증액안내\n",
       "0    540696\n",
       "1     59304\n",
       "Name: count, dtype: int64"
      ]
     },
     "execution_count": 43,
     "metadata": {},
     "output_type": "execute_result"
    }
   ],
   "source": [
    "# 동의여부_한도증액안내\n",
    "all_df['동의여부_한도증액안내'].value_counts()"
   ]
  },
  {
   "cell_type": "markdown",
   "id": "b7f59be5-2ffa-4964-93cd-3a9e1929a308",
   "metadata": {},
   "source": [
    "### 수신거부여부_TM\n",
    "- TM 수신거부여부"
   ]
  },
  {
   "cell_type": "code",
   "execution_count": 45,
   "id": "716e561e-5273-4d5d-8c49-d158b9321071",
   "metadata": {},
   "outputs": [
    {
     "data": {
      "text/plain": [
       "수신거부여부_TM\n",
       "0    387581\n",
       "1    212419\n",
       "Name: count, dtype: int64"
      ]
     },
     "execution_count": 45,
     "metadata": {},
     "output_type": "execute_result"
    }
   ],
   "source": [
    "# 수신거부여부_TM\n",
    "all_df['수신거부여부_TM'].value_counts()"
   ]
  },
  {
   "cell_type": "markdown",
   "id": "7cb3bc94-8dec-4592-91d5-0a0365a61538",
   "metadata": {},
   "source": [
    "### 수신거부여부_DM\n",
    "- DM 수신거부여부"
   ]
  },
  {
   "cell_type": "code",
   "execution_count": 47,
   "id": "5f73e793-d335-429d-9cfe-c67d6613c7a7",
   "metadata": {},
   "outputs": [
    {
     "data": {
      "text/plain": [
       "수신거부여부_DM\n",
       "0    413141\n",
       "1    186859\n",
       "Name: count, dtype: int64"
      ]
     },
     "execution_count": 47,
     "metadata": {},
     "output_type": "execute_result"
    }
   ],
   "source": [
    "# 수신거부여부_DM\n",
    "all_df['수신거부여부_DM'].value_counts()"
   ]
  },
  {
   "cell_type": "markdown",
   "id": "6b2592ee-d155-4100-90a6-38f8cc82280b",
   "metadata": {},
   "source": [
    "### 수신거부여부_메일\n",
    "- 메일 수신거부여부"
   ]
  },
  {
   "cell_type": "code",
   "execution_count": 49,
   "id": "fc936665-c3d0-44be-a60f-aca0116e92f7",
   "metadata": {},
   "outputs": [
    {
     "data": {
      "text/plain": [
       "수신거부여부_메일\n",
       "0    409577\n",
       "1    190423\n",
       "Name: count, dtype: int64"
      ]
     },
     "execution_count": 49,
     "metadata": {},
     "output_type": "execute_result"
    }
   ],
   "source": [
    "# 수신거부여부_메일\n",
    "all_df['수신거부여부_메일'].value_counts()"
   ]
  },
  {
   "cell_type": "markdown",
   "id": "4845b253-e9a3-4b04-9d5a-04d85c8278ff",
   "metadata": {},
   "source": [
    "### 수신거부여부_SMS\n",
    "- SMS 수신거부여부"
   ]
  },
  {
   "cell_type": "code",
   "execution_count": 51,
   "id": "a939451a-a1ad-4564-83cd-de70ee22bb70",
   "metadata": {},
   "outputs": [
    {
     "data": {
      "text/plain": [
       "수신거부여부_SMS\n",
       "0    378883\n",
       "1    221117\n",
       "Name: count, dtype: int64"
      ]
     },
     "execution_count": 51,
     "metadata": {},
     "output_type": "execute_result"
    }
   ],
   "source": [
    "# 수신거부여부_SMS\n",
    "all_df['수신거부여부_SMS'].value_counts(dropna=False)"
   ]
  },
  {
   "cell_type": "markdown",
   "id": "3c944a31-378b-4224-9f3a-09fb26e3aafb",
   "metadata": {},
   "source": [
    "### 가입통신회사코드\n",
    "- 가입한 통신사 구분 코드\n",
    "- 결측치 존재 (16.18%)\n",
    "- S사, K사, L사"
   ]
  },
  {
   "cell_type": "code",
   "execution_count": 53,
   "id": "bd61fe75-aeb3-4b17-87f7-04cc9f6608af",
   "metadata": {},
   "outputs": [
    {
     "data": {
      "text/plain": [
       "가입통신회사코드\n",
       "S사      247153\n",
       "K사      142936\n",
       "L사      112828\n",
       "None     97083\n",
       "Name: count, dtype: int64"
      ]
     },
     "execution_count": 53,
     "metadata": {},
     "output_type": "execute_result"
    }
   ],
   "source": [
    "all_df['가입통신회사코드'].value_counts(dropna=False)"
   ]
  },
  {
   "cell_type": "code",
   "execution_count": 54,
   "id": "6ec9ffb1-ffae-45b8-8cf7-8129e1d5d96e",
   "metadata": {},
   "outputs": [
    {
     "name": "stdout",
     "output_type": "stream",
     "text": [
      "결측치 개수: 97083개 (16.18%)\n"
     ]
    }
   ],
   "source": [
    "na_count = all_df['가입통신회사코드'].isna().sum()\n",
    "total_count = len(all_df)\n",
    "print(f\"결측치 개수: {na_count}개 ({na_count / total_count:.2%})\")"
   ]
  },
  {
   "cell_type": "markdown",
   "id": "50f9a99b-12b8-48e2-b566-f2e548ddff45",
   "metadata": {},
   "source": [
    "### 탈회횟수_누적\n",
    "- 누적 탈회횟수"
   ]
  },
  {
   "cell_type": "code",
   "execution_count": 56,
   "id": "55dcdb1f-fcdd-4b71-8aff-8ac8e0d1e4f6",
   "metadata": {},
   "outputs": [
    {
     "data": {
      "text/plain": [
       "탈회횟수_누적\n",
       "0    349801\n",
       "1    190904\n",
       "2     59295\n",
       "Name: count, dtype: int64"
      ]
     },
     "execution_count": 56,
     "metadata": {},
     "output_type": "execute_result"
    }
   ],
   "source": [
    "all_df['탈회횟수_누적'].value_counts(dropna=False)"
   ]
  },
  {
   "cell_type": "code",
   "execution_count": 57,
   "id": "44a1334c-9542-495a-aea5-ae951caaec82",
   "metadata": {},
   "outputs": [
    {
     "data": {
      "text/plain": [
       "<Axes: ylabel='count'>"
      ]
     },
     "execution_count": 57,
     "metadata": {},
     "output_type": "execute_result"
    },
    {
     "data": {
      "image/png": "[encoded data removed]",
      "text/plain": [
       "<Figure size 1200x600 with 1 Axes>"
      ]
     },
     "metadata": {},
     "output_type": "display_data"
    }
   ],
   "source": [
    "all_df['탈회횟수_누적'].value_counts().plot.pie(autopct='%.1f%%')"
   ]
  },
  {
   "cell_type": "markdown",
   "id": "2da7487a-65e3-4029-9fa6-e5840c096cb7",
   "metadata": {},
   "source": [
    "### 최종탈회후경과월\n",
    "- 최종탈회 이후  경과 개월 수\n",
    "- 0 개월이 가장 많음 : 방금 탈회했거나 이번 달 탈회한 사람들\n",
    "- Max : 117 개월 -> 9년 9개월 경과"
   ]
  },
  {
   "cell_type": "code",
   "execution_count": 59,
   "id": "dde9e971-c4e8-4ffa-8e87-053de424dadc",
   "metadata": {},
   "outputs": [
    {
     "data": {
      "text/plain": [
       "최종탈회후경과월\n",
       "0      351845\n",
       "47      19018\n",
       "46      18952\n",
       "48      18357\n",
       "45      16048\n",
       "        ...  \n",
       "116         4\n",
       "40          4\n",
       "91          3\n",
       "90          2\n",
       "117         1\n",
       "Name: count, Length: 67, dtype: int64"
      ]
     },
     "execution_count": 59,
     "metadata": {},
     "output_type": "execute_result"
    }
   ],
   "source": [
    "all_df['최종탈회후경과월'].value_counts(dropna=False)"
   ]
  },
  {
   "cell_type": "code",
   "execution_count": 60,
   "id": "a6121b98-592c-4e68-9517-5eef7ab9d4cd",
   "metadata": {},
   "outputs": [
    {
     "data": {
      "image/png": "[encoded data removed]",
      "text/plain": [
       "<Figure size 1200x600 with 1 Axes>"
      ]
     },
     "metadata": {},
     "output_type": "display_data"
    },
    {
     "name": "stdout",
     "output_type": "stream",
     "text": [
      "count    600000\n",
      "mean         27\n",
      "std          38\n",
      "min           0\n",
      "25%           0\n",
      "50%           0\n",
      "75%          48\n",
      "max         117\n",
      "Name: 최종탈회후경과월, dtype: int64\n"
     ]
    },
    {
     "data": {
      "text/plain": [
       "<Axes: xlabel='최종탈회후경과월'>"
      ]
     },
     "execution_count": 60,
     "metadata": {},
     "output_type": "execute_result"
    },
    {
     "data": {
      "image/png": "[encoded data removed]",
      "text/plain": [
       "<Figure size 1200x600 with 1 Axes>"
      ]
     },
     "metadata": {},
     "output_type": "display_data"
    }
   ],
   "source": [
    "all_df['최종탈회후경과월'].hist(bins=50)\n",
    "plt.xlabel('최종탈회후경과월')\n",
    "plt.title('최종탈회후경과월')\n",
    "plt.show()\n",
    "\n",
    "desc = all_df['최종탈회후경과월'].describe()\n",
    "print(desc.apply(lambda x: int(x)))\n",
    "\n",
    "# 이상치 탐색\n",
    "sns.boxplot(x=all_df['최종탈회후경과월'])"
   ]
  },
  {
   "cell_type": "markdown",
   "id": "efd666cf-6f0d-43a0-a710-3853648bb6ef",
   "metadata": {},
   "source": [
    "### 탈회횟수_발급6개월이내\n",
    "- 발급6개월 이내 탈회 횟수\n",
    "- 0 / 1 로 구분되어 있음."
   ]
  },
  {
   "cell_type": "code",
   "execution_count": 62,
   "id": "362bbc27-019c-4e35-8c4b-33a984df537d",
   "metadata": {},
   "outputs": [
    {
     "data": {
      "text/plain": [
       "탈회횟수_발급6개월이내\n",
       "0    575735\n",
       "1     24265\n",
       "Name: count, dtype: int64"
      ]
     },
     "execution_count": 62,
     "metadata": {},
     "output_type": "execute_result"
    }
   ],
   "source": [
    "all_df['탈회횟수_발급6개월이내'].value_counts(dropna=False)"
   ]
  },
  {
   "cell_type": "markdown",
   "id": "8db2d25d-3fd5-412c-93a7-34fa2b38cb9d",
   "metadata": {},
   "source": [
    "### 탈회횟수_발급1년이내\n",
    "- 발급1년 이내 탈회 횟수\n",
    "- 0 / 1 로 구분되어 있음"
   ]
  },
  {
   "cell_type": "code",
   "execution_count": 64,
   "id": "db9d0c12-8c18-40d5-8c5e-4d17fd65d71a",
   "metadata": {},
   "outputs": [
    {
     "data": {
      "text/plain": [
       "탈회횟수_발급1년이내\n",
       "0    561648\n",
       "1     38352\n",
       "Name: count, dtype: int64"
      ]
     },
     "execution_count": 64,
     "metadata": {},
     "output_type": "execute_result"
    }
   ],
   "source": [
    "all_df['탈회횟수_발급1년이내'].value_counts(dropna=False)"
   ]
  },
  {
   "attachments": {},
   "cell_type": "markdown",
   "id": "fdab49d1-1610-4b3e-b3c3-ac5edfde7463",
   "metadata": {},
   "source": [
    "### 거주시도명\n",
    "- 17개 광역시도명\n",
    "(서울, 부산, 대구, 인천, 광주, 대전, 울산, 세종, 경기, 강원, 충북, 충남, 전북, 전남, 경북, 경남, 제주)"
   ]
  },
  {
   "cell_type": "code",
   "execution_count": 66,
   "id": "0fa22c9f-ab58-4f35-be59-6251b459e978",
   "metadata": {},
   "outputs": [
    {
     "data": {
      "text/plain": [
       "거주시도명\n",
       "서울    173320\n",
       "경기    163559\n",
       "인천     39984\n",
       "부산     37844\n",
       "대전     35741\n",
       "충북     27754\n",
       "경남     23546\n",
       "경북     23185\n",
       "대구     19900\n",
       "울산     17243\n",
       "전남     13791\n",
       "광주      9463\n",
       "충남      7509\n",
       "전북      3579\n",
       "강원      2899\n",
       "제주       638\n",
       "세종        45\n",
       "Name: count, dtype: int64"
      ]
     },
     "execution_count": 66,
     "metadata": {},
     "output_type": "execute_result"
    }
   ],
   "source": [
    "all_df['거주시도명'].value_counts(dropna=False)\n"
   ]
  },
  {
   "cell_type": "markdown",
   "id": "6adcf1ac-8e65-4c51-8fb4-ea6930414531",
   "metadata": {},
   "source": [
    "### 직장시도명\n",
    "- 결측치 존재 (10.37%)"
   ]
  },
  {
   "cell_type": "code",
   "execution_count": 68,
   "id": "88b73eed-5e4d-4421-9d51-20373eff6589",
   "metadata": {},
   "outputs": [
    {
     "data": {
      "text/plain": [
       "직장시도명\n",
       "경기      149122\n",
       "서울      144290\n",
       "None     62233\n",
       "인천       36173\n",
       "부산       33477\n",
       "대전       30201\n",
       "충북       25862\n",
       "경남       23039\n",
       "경북       21206\n",
       "대구       18986\n",
       "울산       16182\n",
       "전남       13182\n",
       "광주        8709\n",
       "충남        6966\n",
       "전북        5160\n",
       "강원        3773\n",
       "세종         778\n",
       "제주         661\n",
       "Name: count, dtype: int64"
      ]
     },
     "execution_count": 68,
     "metadata": {},
     "output_type": "execute_result"
    }
   ],
   "source": [
    "all_df['직장시도명'].value_counts(dropna=False)"
   ]
  },
  {
   "cell_type": "code",
   "execution_count": 69,
   "id": "dba7f306-e27c-40f3-b4f9-a5e52f9f06f8",
   "metadata": {},
   "outputs": [
    {
     "name": "stdout",
     "output_type": "stream",
     "text": [
      "결측치 개수: 62233개 (10.37%)\n"
     ]
    }
   ],
   "source": [
    "na_count = all_df['직장시도명'].isna().sum()\n",
    "total_count = len(all_df)\n",
    "print(f\"결측치 개수: {na_count}개 ({na_count / total_count:.2%})\")"
   ]
  },
  {
   "cell_type": "markdown",
   "id": "4c1f126c-90e0-4fc5-923e-ee188bb7c8f6",
   "metadata": {},
   "source": [
    "### 마케팅동의여부\n",
    "- 마케팅 동의 여부"
   ]
  },
  {
   "cell_type": "code",
   "execution_count": 71,
   "id": "8d078c2f-60db-41be-b22b-e3860b86832d",
   "metadata": {},
   "outputs": [
    {
     "data": {
      "text/plain": [
       "직장시도명\n",
       "경기      149122\n",
       "서울      144290\n",
       "None     62233\n",
       "인천       36173\n",
       "부산       33477\n",
       "대전       30201\n",
       "충북       25862\n",
       "경남       23039\n",
       "경북       21206\n",
       "대구       18986\n",
       "울산       16182\n",
       "전남       13182\n",
       "광주        8709\n",
       "충남        6966\n",
       "전북        5160\n",
       "강원        3773\n",
       "세종         778\n",
       "제주         661\n",
       "Name: count, dtype: int64"
      ]
     },
     "execution_count": 71,
     "metadata": {},
     "output_type": "execute_result"
    }
   ],
   "source": [
    "all_df['직장시도명'].value_counts(dropna=False)"
   ]
  },
  {
   "cell_type": "markdown",
   "id": "20c01183-b4f0-4f50-a5e2-0fce69df6ec5",
   "metadata": {},
   "source": [
    "### 유효카드수_신용체크\n",
    "- 유효한 카드수 (신용체크)"
   ]
  },
  {
   "cell_type": "code",
   "execution_count": 73,
   "id": "8007926b-da64-489d-aa93-0b8f1dcb8652",
   "metadata": {},
   "outputs": [
    {
     "data": {
      "text/plain": [
       "유효카드수_신용체크\n",
       "1    234064\n",
       "2    177002\n",
       "3    101676\n",
       "4     50400\n",
       "5     20028\n",
       "0      7589\n",
       "6      6613\n",
       "7      2400\n",
       "8       228\n",
       "Name: count, dtype: int64"
      ]
     },
     "execution_count": 73,
     "metadata": {},
     "output_type": "execute_result"
    }
   ],
   "source": [
    "all_df['유효카드수_신용체크'].value_counts(dropna=False)"
   ]
  },
  {
   "cell_type": "markdown",
   "id": "7b4ae4b5-138e-4dc2-b633-895f923b926d",
   "metadata": {},
   "source": [
    "### 유효카드수_신용_가족"
   ]
  },
  {
   "cell_type": "code",
   "execution_count": 75,
   "id": "b6e9ae7a-e725-4394-8fd6-2005032f7081",
   "metadata": {},
   "outputs": [
    {
     "data": {
      "text/plain": [
       "유효카드수_신용_가족\n",
       "0    583616\n",
       "1     11604\n",
       "2      4780\n",
       "Name: count, dtype: int64"
      ]
     },
     "execution_count": 75,
     "metadata": {},
     "output_type": "execute_result"
    }
   ],
   "source": [
    "all_df['유효카드수_신용_가족'].value_counts(dropna=False)"
   ]
  },
  {
   "cell_type": "markdown",
   "id": "1d99c32c-8d14-4f7e-b193-33133478250c",
   "metadata": {},
   "source": [
    "### 유효카드수_체크"
   ]
  },
  {
   "cell_type": "code",
   "execution_count": 77,
   "id": "b7ad1893-6181-45a6-8779-0fe0c643d90e",
   "metadata": {},
   "outputs": [
    {
     "data": {
      "text/plain": [
       "유효카드수_체크\n",
       "0    358408\n",
       "1    164987\n",
       "2     54731\n",
       "3     21874\n",
       "Name: count, dtype: int64"
      ]
     },
     "execution_count": 77,
     "metadata": {},
     "output_type": "execute_result"
    }
   ],
   "source": [
    "all_df['유효카드수_체크'].value_counts(dropna=False)"
   ]
  },
  {
   "cell_type": "markdown",
   "id": "3a741e0c-6515-41d3-a09c-74eba46bf4f9",
   "metadata": {},
   "source": [
    "### 유효카드수_체크_가족"
   ]
  },
  {
   "cell_type": "code",
   "execution_count": 79,
   "id": "f2c67959-b8af-4fb4-a0e5-b15c404cfb1a",
   "metadata": {},
   "outputs": [
    {
     "data": {
      "text/plain": [
       "유효카드수_체크_가족\n",
       "0    599994\n",
       "1         6\n",
       "Name: count, dtype: int64"
      ]
     },
     "execution_count": 79,
     "metadata": {},
     "output_type": "execute_result"
    }
   ],
   "source": [
    "all_df['유효카드수_체크_가족'].value_counts(dropna=False)"
   ]
  },
  {
   "cell_type": "markdown",
   "id": "f44946b6-8c79-4830-91f5-28588a2ff1c9",
   "metadata": {},
   "source": [
    "### 이용가능카드수_신용체크"
   ]
  },
  {
   "cell_type": "code",
   "execution_count": 81,
   "id": "d59f67f7-63c8-499e-b6e7-aea565984a66",
   "metadata": {},
   "outputs": [
    {
     "data": {
      "text/plain": [
       "이용가능카드수_신용체크\n",
       "1    236242\n",
       "2    172778\n",
       "3     90396\n",
       "4     45815\n",
       "0     28173\n",
       "5     18227\n",
       "6      6001\n",
       "7      2173\n",
       "8       195\n",
       "Name: count, dtype: int64"
      ]
     },
     "execution_count": 81,
     "metadata": {},
     "output_type": "execute_result"
    }
   ],
   "source": [
    "all_df['이용가능카드수_신용체크'].value_counts(dropna=False)"
   ]
  },
  {
   "cell_type": "markdown",
   "id": "e61ad51d-6bf4-4c47-8a36-9e822a0a239a",
   "metadata": {},
   "source": [
    "### 이용가능카드수_신용"
   ]
  },
  {
   "cell_type": "code",
   "execution_count": 83,
   "id": "218f8554-95b4-46c1-88eb-c80d65183b83",
   "metadata": {},
   "outputs": [
    {
     "data": {
      "text/plain": [
       "이용가능카드수_신용\n",
       "1    362172\n",
       "2    120615\n",
       "0     47568\n",
       "3     43189\n",
       "4     23052\n",
       "5      3404\n",
       "Name: count, dtype: int64"
      ]
     },
     "execution_count": 83,
     "metadata": {},
     "output_type": "execute_result"
    }
   ],
   "source": [
    "all_df['이용가능카드수_신용'].value_counts(dropna=False)"
   ]
  },
  {
   "cell_type": "markdown",
   "id": "dd82c086-8cf2-42d4-8c43-f7a5051c9499",
   "metadata": {},
   "source": [
    "### 이용가능카드수_신용_가족"
   ]
  },
  {
   "cell_type": "code",
   "execution_count": 85,
   "id": "0d01a997-4889-4131-9a3b-838009b2b0b0",
   "metadata": {},
   "outputs": [
    {
     "data": {
      "text/plain": [
       "이용가능카드수_신용_가족\n",
       "0    583690\n",
       "1     11541\n",
       "2      4769\n",
       "Name: count, dtype: int64"
      ]
     },
     "execution_count": 85,
     "metadata": {},
     "output_type": "execute_result"
    }
   ],
   "source": [
    "all_df['이용가능카드수_신용_가족'].value_counts(dropna=False)"
   ]
  },
  {
   "cell_type": "markdown",
   "id": "f091a7a8-eded-4f15-8585-5717f09abc3c",
   "metadata": {},
   "source": [
    "### 이용가능카드수_체크"
   ]
  },
  {
   "cell_type": "code",
   "execution_count": 87,
   "id": "9d93650c-81ae-4b81-8c7c-4e41a0d29b88",
   "metadata": {},
   "outputs": [
    {
     "data": {
      "text/plain": [
       "이용가능카드수_체크\n",
       "0    359088\n",
       "1    165397\n",
       "2     53981\n",
       "3     21534\n",
       "Name: count, dtype: int64"
      ]
     },
     "execution_count": 87,
     "metadata": {},
     "output_type": "execute_result"
    }
   ],
   "source": [
    "all_df['이용가능카드수_체크'].value_counts(dropna=False)"
   ]
  },
  {
   "cell_type": "markdown",
   "id": "ac4b09e2-6293-4aad-b938-119ef46ec620",
   "metadata": {},
   "source": [
    "### 이용가능카드수_체크_가족"
   ]
  },
  {
   "cell_type": "code",
   "execution_count": 89,
   "id": "ba57305b-5926-4a4d-aca3-2fcfe54b452c",
   "metadata": {},
   "outputs": [
    {
     "data": {
      "text/plain": [
       "이용가능카드수_체크_가족\n",
       "0    599998\n",
       "1         2\n",
       "Name: count, dtype: int64"
      ]
     },
     "execution_count": 89,
     "metadata": {},
     "output_type": "execute_result"
    }
   ],
   "source": [
    "all_df['이용가능카드수_체크_가족'].value_counts(dropna=False)"
   ]
  },
  {
   "cell_type": "markdown",
   "id": "be364f38-a1ff-4762-bf13-f7b07a5284a6",
   "metadata": {},
   "source": [
    "### 이용카드수_신용체크\n",
    "- 이용 중인 카드수 (신용체크)"
   ]
  },
  {
   "cell_type": "code",
   "execution_count": 91,
   "id": "a96c970b-d15d-4ce1-9d0a-7436dfc625a6",
   "metadata": {},
   "outputs": [
    {
     "data": {
      "text/plain": [
       "이용카드수_신용체크\n",
       "1    282260\n",
       "2    132778\n",
       "0    109621\n",
       "3     54539\n",
       "4     18253\n",
       "5      2464\n",
       "6        85\n",
       "Name: count, dtype: int64"
      ]
     },
     "execution_count": 91,
     "metadata": {},
     "output_type": "execute_result"
    }
   ],
   "source": [
    "all_df['이용카드수_신용체크'].value_counts(dropna=False)"
   ]
  },
  {
   "cell_type": "markdown",
   "id": "d4090064-aa0f-4c01-8ed5-a549f5d6c969",
   "metadata": {},
   "source": [
    "### 이용카드수_신용"
   ]
  },
  {
   "cell_type": "code",
   "execution_count": 93,
   "id": "7b83fe5d-b60e-4bbe-a1f0-e66dfe8d5e3e",
   "metadata": {},
   "outputs": [
    {
     "data": {
      "text/plain": [
       "이용카드수_신용\n",
       "1    312889\n",
       "0    124571\n",
       "2    112655\n",
       "3     36543\n",
       "4     13324\n",
       "5        18\n",
       "Name: count, dtype: int64"
      ]
     },
     "execution_count": 93,
     "metadata": {},
     "output_type": "execute_result"
    }
   ],
   "source": [
    "all_df['이용카드수_신용'].value_counts(dropna=False)"
   ]
  },
  {
   "cell_type": "markdown",
   "id": "1963aa47-5690-44c6-a45e-5add17c1139c",
   "metadata": {},
   "source": [
    "### 이용카드수_체크"
   ]
  },
  {
   "cell_type": "code",
   "execution_count": 95,
   "id": "36a49ede-2839-48aa-85f6-ed28979b12e5",
   "metadata": {},
   "outputs": [
    {
     "data": {
      "text/plain": [
       "이용카드수_체크\n",
       "0    505743\n",
       "1     92453\n",
       "2      1804\n",
       "Name: count, dtype: int64"
      ]
     },
     "execution_count": 95,
     "metadata": {},
     "output_type": "execute_result"
    }
   ],
   "source": [
    "all_df['이용카드수_체크'].value_counts(dropna=False)"
   ]
  },
  {
   "cell_type": "markdown",
   "id": "265e10d0-b23f-4d8a-b3d6-7da66547d2d1",
   "metadata": {},
   "source": [
    "### 이용카드수_체크_가족"
   ]
  },
  {
   "cell_type": "code",
   "execution_count": 97,
   "id": "3cbfe333-889a-4d1e-96d9-43667b72ffa2",
   "metadata": {},
   "outputs": [
    {
     "data": {
      "text/plain": [
       "이용카드수_체크_가족\n",
       "0    600000\n",
       "Name: count, dtype: int64"
      ]
     },
     "execution_count": 97,
     "metadata": {},
     "output_type": "execute_result"
    }
   ],
   "source": [
    "all_df['이용카드수_체크_가족'].value_counts(dropna=False)"
   ]
  },
  {
   "cell_type": "markdown",
   "id": "936f8170-acf0-40e6-ad72-6b97b6bf10ea",
   "metadata": {},
   "source": [
    "### 이용금액_R3M_신용체크\n",
    "- 이용금액 (최근3개월간)_신용체크\n",
    "- 마이너스 값 존재, 어떻게 해석할것인가"
   ]
  },
  {
   "cell_type": "code",
   "execution_count": 99,
   "id": "1fa93564-1a8f-4ba5-adc1-5d7059c41a4d",
   "metadata": {},
   "outputs": [
    {
     "data": {
      "text/plain": [
       "이용금액_R3M_신용체크\n",
       "0         111780\n",
       "4043          37\n",
       "2705          37\n",
       "2061          37\n",
       "2929          36\n",
       "           ...  \n",
       "59091          1\n",
       "83343          1\n",
       "41358          1\n",
       "104067         1\n",
       "173263         1\n",
       "Name: count, Length: 89329, dtype: int64"
      ]
     },
     "execution_count": 99,
     "metadata": {},
     "output_type": "execute_result"
    }
   ],
   "source": [
    "all_df['이용금액_R3M_신용체크'].value_counts(dropna=False)"
   ]
  },
  {
   "cell_type": "code",
   "execution_count": 100,
   "id": "44b8475c-3de3-45af-88be-bf0967c9aac9",
   "metadata": {},
   "outputs": [
    {
     "data": {
      "image/png": "[encoded data removed]",
      "text/plain": [
       "<Figure size 1200x600 with 1 Axes>"
      ]
     },
     "metadata": {},
     "output_type": "display_data"
    },
    {
     "name": "stdout",
     "output_type": "stream",
     "text": [
      "count    600000\n",
      "mean      16900\n",
      "std       23348\n",
      "min       -6635\n",
      "25%         361\n",
      "50%        8730\n",
      "75%       21685\n",
      "max      247532\n",
      "Name: 이용금액_R3M_신용체크, dtype: int64\n"
     ]
    },
    {
     "data": {
      "text/plain": [
       "<Axes: xlabel='이용금액_R3M_신용체크'>"
      ]
     },
     "execution_count": 100,
     "metadata": {},
     "output_type": "execute_result"
    },
    {
     "data": {
      "image/png": "[encoded data removed]",
      "text/plain": [
       "<Figure size 1200x600 with 1 Axes>"
      ]
     },
     "metadata": {},
     "output_type": "display_data"
    }
   ],
   "source": [
    "all_df['이용금액_R3M_신용체크'].hist(bins=50)\n",
    "plt.xlabel('이용금액_R3M_신용체크')\n",
    "plt.title('이용금액_R3M_신용체크')\n",
    "plt.show()\n",
    "\n",
    "desc = all_df['이용금액_R3M_신용체크'].describe()\n",
    "print(desc.apply(lambda x: int(x)))\n",
    "\n",
    "# 이상치 탐색\n",
    "sns.boxplot(x=all_df['이용금액_R3M_신용체크'])"
   ]
  },
  {
   "cell_type": "markdown",
   "id": "7f7ccd54-b326-4f65-8139-663a89b778f0",
   "metadata": {},
   "source": [
    "### 이용금액_R3M_신용\n",
    "- 마이너스 값 존재함..."
   ]
  },
  {
   "cell_type": "code",
   "execution_count": 102,
   "id": "5e281eda-262b-4e09-91a2-195fc34f0e3d",
   "metadata": {},
   "outputs": [
    {
     "data": {
      "image/png": "[encoded data removed]",
      "text/plain": [
       "<Figure size 1200x600 with 1 Axes>"
      ]
     },
     "metadata": {},
     "output_type": "display_data"
    },
    {
     "name": "stdout",
     "output_type": "stream",
     "text": [
      "count    600000\n",
      "mean      15247\n",
      "std       21999\n",
      "min       -6635\n",
      "25%           0\n",
      "50%        7542\n",
      "75%       19490\n",
      "max      163314\n",
      "Name: 이용금액_R3M_신용, dtype: int64\n"
     ]
    },
    {
     "data": {
      "text/plain": [
       "<Axes: xlabel='이용금액_R3M_신용'>"
      ]
     },
     "execution_count": 102,
     "metadata": {},
     "output_type": "execute_result"
    },
    {
     "data": {
      "image/png": "[encoded data removed]",
      "text/plain": [
       "<Figure size 1200x600 with 1 Axes>"
      ]
     },
     "metadata": {},
     "output_type": "display_data"
    }
   ],
   "source": [
    "all_df['이용금액_R3M_신용'].hist(bins=50)\n",
    "plt.xlabel('이용금액_R3M_신용')\n",
    "plt.title('이용금액_R3M_신용')\n",
    "plt.show()\n",
    "\n",
    "desc = all_df['이용금액_R3M_신용'].describe()\n",
    "print(desc.apply(lambda x: int(x)))\n",
    "\n",
    "# 이상치 탐색\n",
    "sns.boxplot(x=all_df['이용금액_R3M_신용'])"
   ]
  },
  {
   "cell_type": "markdown",
   "id": "c3ec4a02-618b-43ca-b52b-83e7dba32994",
   "metadata": {},
   "source": [
    "### 이용금액_R3M_신용_가족"
   ]
  },
  {
   "cell_type": "code",
   "execution_count": 104,
   "id": "e744aa2d-bc51-45ff-b102-0a0a6c007825",
   "metadata": {},
   "outputs": [
    {
     "data": {
      "text/plain": [
       "이용금액_R3M_신용체크\n",
       "0         111780\n",
       "4043          37\n",
       "2705          37\n",
       "2061          37\n",
       "2929          36\n",
       "           ...  \n",
       "59091          1\n",
       "83343          1\n",
       "41358          1\n",
       "104067         1\n",
       "173263         1\n",
       "Name: count, Length: 89329, dtype: int64"
      ]
     },
     "execution_count": 104,
     "metadata": {},
     "output_type": "execute_result"
    }
   ],
   "source": [
    "all_df['이용금액_R3M_신용체크'].value_counts(dropna=False)"
   ]
  },
  {
   "cell_type": "code",
   "execution_count": 105,
   "id": "e00b9c8d-7446-49e2-973d-b72a48634dfc",
   "metadata": {},
   "outputs": [
    {
     "data": {
      "image/png": "[encoded data removed]",
      "text/plain": [
       "<Figure size 1200x600 with 1 Axes>"
      ]
     },
     "metadata": {},
     "output_type": "display_data"
    },
    {
     "name": "stdout",
     "output_type": "stream",
     "text": [
      "count    600000\n",
      "mean        270\n",
      "std        1734\n",
      "min           0\n",
      "25%           0\n",
      "50%           0\n",
      "75%           0\n",
      "max       28159\n",
      "Name: 이용금액_R3M_신용_가족, dtype: int64\n"
     ]
    },
    {
     "data": {
      "text/plain": [
       "<Axes: xlabel='이용금액_R3M_신용_가족'>"
      ]
     },
     "execution_count": 105,
     "metadata": {},
     "output_type": "execute_result"
    },
    {
     "data": {
      "image/png": "[encoded data removed]",
      "text/plain": [
       "<Figure size 1200x600 with 1 Axes>"
      ]
     },
     "metadata": {},
     "output_type": "display_data"
    }
   ],
   "source": [
    "all_df['이용금액_R3M_신용_가족'].hist(bins=50)\n",
    "plt.xlabel('이용금액_R3M_신용_가족')\n",
    "plt.title('이용금액_R3M_신용_가족')\n",
    "plt.show()\n",
    "\n",
    "desc = all_df['이용금액_R3M_신용_가족'].describe()\n",
    "print(desc.apply(lambda x: int(x)))\n",
    "\n",
    "# 이상치 탐색\n",
    "sns.boxplot(x=all_df['이용금액_R3M_신용_가족'])"
   ]
  },
  {
   "cell_type": "markdown",
   "id": "ab97e77d-a9f5-4d84-abdb-bceb7712585d",
   "metadata": {},
   "source": [
    "### 이용금액_R3M_체크"
   ]
  },
  {
   "cell_type": "code",
   "execution_count": 107,
   "id": "651eca92-f957-45d2-9e98-47e10944359f",
   "metadata": {},
   "outputs": [
    {
     "data": {
      "image/png": "[encoded data removed]",
      "text/plain": [
       "<Figure size 1200x600 with 1 Axes>"
      ]
     },
     "metadata": {},
     "output_type": "display_data"
    },
    {
     "name": "stdout",
     "output_type": "stream",
     "text": [
      "count    600000\n",
      "mean       1653\n",
      "std        7567\n",
      "min           0\n",
      "25%           0\n",
      "50%           0\n",
      "75%           0\n",
      "max      142752\n",
      "Name: 이용금액_R3M_체크, dtype: int64\n"
     ]
    },
    {
     "data": {
      "text/plain": [
       "<Axes: xlabel='이용금액_R3M_체크'>"
      ]
     },
     "execution_count": 107,
     "metadata": {},
     "output_type": "execute_result"
    },
    {
     "data": {
      "image/png": "[encoded data removed]",
      "text/plain": [
       "<Figure size 1200x600 with 1 Axes>"
      ]
     },
     "metadata": {},
     "output_type": "display_data"
    }
   ],
   "source": [
    "all_df['이용금액_R3M_체크'].hist(bins=50)\n",
    "plt.xlabel('이용금액_R3M_체크')\n",
    "plt.ylabel('빈도')\n",
    "plt.title('이용금액_R3M_체크')\n",
    "plt.show()\n",
    "\n",
    "desc = all_df['이용금액_R3M_체크'].describe()\n",
    "print(desc.apply(lambda x: int(x)))\n",
    "\n",
    "# 이상치 탐색\n",
    "sns.boxplot(x=all_df['이용금액_R3M_체크'])"
   ]
  },
  {
   "cell_type": "markdown",
   "id": "d3cbe0f2-eef2-4989-b5ce-86a14a8caacb",
   "metadata": {},
   "source": [
    "### 이용금액_R3M_체크_가족\n",
    "- 전부 0원"
   ]
  },
  {
   "cell_type": "code",
   "execution_count": 109,
   "id": "2dcca4c7-5f8c-4923-b8b4-467571950b5d",
   "metadata": {},
   "outputs": [
    {
     "data": {
      "image/png": "[encoded data removed]",
      "text/plain": [
       "<Figure size 1200x600 with 1 Axes>"
      ]
     },
     "metadata": {},
     "output_type": "display_data"
    },
    {
     "name": "stdout",
     "output_type": "stream",
     "text": [
      "count    600000\n",
      "mean          0\n",
      "std           0\n",
      "min           0\n",
      "25%           0\n",
      "50%           0\n",
      "75%           0\n",
      "max           0\n",
      "Name: 이용금액_R3M_체크_가족, dtype: int64\n"
     ]
    },
    {
     "data": {
      "text/plain": [
       "<Axes: xlabel='이용금액_R3M_체크_가족'>"
      ]
     },
     "execution_count": 109,
     "metadata": {},
     "output_type": "execute_result"
    },
    {
     "data": {
      "image/png": "[encoded data removed]",
      "text/plain": [
       "<Figure size 1200x600 with 1 Axes>"
      ]
     },
     "metadata": {},
     "output_type": "display_data"
    }
   ],
   "source": [
    "all_df['이용금액_R3M_체크_가족'].hist(bins=50)\n",
    "plt.xlabel('이용금액_R3M_체크_가족')\n",
    "plt.ylabel('빈도')\n",
    "plt.title('이용금액_R3M_체크_가족')\n",
    "plt.show()\n",
    "\n",
    "desc = all_df['이용금액_R3M_체크_가족'].describe()\n",
    "print(desc.apply(lambda x: int(x)))\n",
    "\n",
    "# 이상치 탐색\n",
    "sns.boxplot(x=all_df['이용금액_R3M_체크_가족'])"
   ]
  },
  {
   "cell_type": "code",
   "execution_count": 110,
   "id": "7596af26-4780-43d1-947a-70ae5cfa71d3",
   "metadata": {},
   "outputs": [
    {
     "data": {
      "text/plain": [
       "이용금액_R3M_체크_가족\n",
       "0    600000\n",
       "Name: count, dtype: int64"
      ]
     },
     "execution_count": 110,
     "metadata": {},
     "output_type": "execute_result"
    }
   ],
   "source": [
    "all_df['이용금액_R3M_체크_가족'].value_counts()"
   ]
  },
  {
   "cell_type": "markdown",
   "id": "11168fe5-363a-422d-866a-b2a74a5d7ad5",
   "metadata": {},
   "source": [
    "### _1순위카드이용금액\n",
    "- 1순위 이용 카드의 이용금액\n",
    "- 마이더스 금액이 존재함..."
   ]
  },
  {
   "cell_type": "code",
   "execution_count": 112,
   "id": "d9bc6e62-ca91-4d5d-9f3c-80b3d6887bcd",
   "metadata": {},
   "outputs": [
    {
     "data": {
      "text/plain": [
       "_1순위카드이용금액\n",
       "0        124267\n",
       "1284         52\n",
       "363          48\n",
       "3563         45\n",
       "166          44\n",
       "          ...  \n",
       "43897         1\n",
       "47728         1\n",
       "58168         1\n",
       "84912         1\n",
       "87203         1\n",
       "Name: count, Length: 61936, dtype: int64"
      ]
     },
     "execution_count": 112,
     "metadata": {},
     "output_type": "execute_result"
    }
   ],
   "source": [
    "all_df['_1순위카드이용금액'].value_counts()"
   ]
  },
  {
   "cell_type": "code",
   "execution_count": 113,
   "id": "b516d68b-cef1-4d0a-a049-7f6242efb43a",
   "metadata": {},
   "outputs": [
    {
     "data": {
      "image/png": "[encoded data removed]",
      "text/plain": [
       "<Figure size 1200x600 with 1 Axes>"
      ]
     },
     "metadata": {},
     "output_type": "display_data"
    },
    {
     "name": "stdout",
     "output_type": "stream",
     "text": [
      "count    600000\n",
      "mean      11011\n",
      "std       14162\n",
      "min       -4014\n",
      "25%           0\n",
      "50%        6152\n",
      "75%       15963\n",
      "max      114813\n",
      "Name: _1순위카드이용금액, dtype: int64\n"
     ]
    },
    {
     "data": {
      "text/plain": [
       "<Axes: xlabel='_1순위카드이용금액'>"
      ]
     },
     "execution_count": 113,
     "metadata": {},
     "output_type": "execute_result"
    },
    {
     "data": {
      "image/png": "[encoded data removed]",
      "text/plain": [
       "<Figure size 1200x600 with 1 Axes>"
      ]
     },
     "metadata": {},
     "output_type": "display_data"
    }
   ],
   "source": [
    "all_df['_1순위카드이용금액'].hist(bins=50)\n",
    "plt.xlabel('_1순위카드이용금액')\n",
    "plt.ylabel('빈도')\n",
    "plt.title('_1순위카드이용금액')\n",
    "plt.show()\n",
    "\n",
    "desc = all_df['_1순위카드이용금액'].describe()\n",
    "print(desc.apply(lambda x: int(x)))\n",
    "\n",
    "# 이상치 탐색\n",
    "sns.boxplot(x=all_df['_1순위카드이용금액'])"
   ]
  },
  {
   "cell_type": "markdown",
   "id": "a8edcdb8-0dde-4436-ad5a-ae7af4c042d6",
   "metadata": {},
   "source": [
    "### _1순위카드이용건수\n",
    "- 1순위 이용 카드의 이용 건수\n",
    "- 이용 건수에 마이너스가 있을 수 있나 ? 어떤 의미인가 ?\n",
    "- -2, -1의 의미는 ??"
   ]
  },
  {
   "cell_type": "code",
   "execution_count": 115,
   "id": "53050020-29c7-4b73-8975-69ad3778caf6",
   "metadata": {},
   "outputs": [
    {
     "data": {
      "text/plain": [
       "_1순위카드이용건수\n",
       "-2      106253\n",
       "-1       16927\n",
       " 0       16316\n",
       " 1       15960\n",
       " 2       14895\n",
       "         ...  \n",
       " 220        13\n",
       " 221         8\n",
       " 222         1\n",
       " 223         1\n",
       " 224         1\n",
       "Name: count, Length: 227, dtype: int64"
      ]
     },
     "execution_count": 115,
     "metadata": {},
     "output_type": "execute_result"
    }
   ],
   "source": [
    "all_df['_1순위카드이용건수'].value_counts()"
   ]
  },
  {
   "cell_type": "code",
   "execution_count": 116,
   "id": "e4f0c2be-8ccd-4c06-ad22-a9e37bbee246",
   "metadata": {},
   "outputs": [
    {
     "data": {
      "image/png": "[encoded data removed]",
      "text/plain": [
       "<Figure size 1200x600 with 1 Axes>"
      ]
     },
     "metadata": {},
     "output_type": "display_data"
    },
    {
     "name": "stdout",
     "output_type": "stream",
     "text": [
      "count    600000\n",
      "mean         39\n",
      "std          51\n",
      "min          -2\n",
      "25%           1\n",
      "50%          17\n",
      "75%          61\n",
      "max         224\n",
      "Name: _1순위카드이용건수, dtype: int64\n"
     ]
    },
    {
     "data": {
      "text/plain": [
       "<Axes: xlabel='_1순위카드이용건수'>"
      ]
     },
     "execution_count": 116,
     "metadata": {},
     "output_type": "execute_result"
    },
    {
     "data": {
      "image/png": "[encoded data removed]",
      "text/plain": [
       "<Figure size 1200x600 with 1 Axes>"
      ]
     },
     "metadata": {},
     "output_type": "display_data"
    }
   ],
   "source": [
    "all_df['_1순위카드이용건수'].hist(bins=50)\n",
    "plt.xlabel('_1순위카드이용건수')\n",
    "plt.ylabel('빈도')\n",
    "plt.title('_1순위카드이용건수')\n",
    "plt.show()\n",
    "\n",
    "desc = all_df['_1순위카드이용건수'].describe()\n",
    "print(desc.apply(lambda x: int(x)))\n",
    "\n",
    "# 이상치 탐색\n",
    "sns.boxplot(x=all_df['_1순위카드이용건수'])"
   ]
  },
  {
   "cell_type": "markdown",
   "id": "291d80e7-3e49-4fab-9eec-376d21cdf513",
   "metadata": {},
   "source": [
    "### _1순위신용체크구분\n",
    "- 1순위 이용 카드의 신용,체크 구분\n",
    "- 신용 / 체크 로 구분되어 있음\n",
    "- 결측치 존재함 (1.21%)"
   ]
  },
  {
   "cell_type": "code",
   "execution_count": 118,
   "id": "acebeaba-063b-44bd-8574-8dfc8d150de6",
   "metadata": {},
   "outputs": [
    {
     "data": {
      "text/plain": [
       "_1순위신용체크구분\n",
       "신용      572976\n",
       "체크       19793\n",
       "None      7231\n",
       "Name: count, dtype: int64"
      ]
     },
     "execution_count": 118,
     "metadata": {},
     "output_type": "execute_result"
    }
   ],
   "source": [
    "all_df['_1순위신용체크구분'].value_counts(dropna=False)"
   ]
  },
  {
   "cell_type": "code",
   "execution_count": 119,
   "id": "9f263787-34f3-4203-b076-7b8df3b4e3a3",
   "metadata": {},
   "outputs": [
    {
     "name": "stdout",
     "output_type": "stream",
     "text": [
      "결측치 개수: 7231개 (1.21%)\n"
     ]
    }
   ],
   "source": [
    "na_count = all_df['_1순위신용체크구분'].isna().sum()\n",
    "total_count = len(all_df)\n",
    "print(f\"결측치 개수: {na_count}개 ({na_count / total_count:.2%})\")"
   ]
  },
  {
   "cell_type": "markdown",
   "id": "481e10aa-3956-466f-b1fa-b6c07714f782",
   "metadata": {},
   "source": [
    "### _2순위카드 이용금액\n",
    "- 마이너스 이용금액 존재함."
   ]
  },
  {
   "cell_type": "code",
   "execution_count": 121,
   "id": "c9c3bda0-5502-4cdf-9b32-46cd5071a7ae",
   "metadata": {},
   "outputs": [
    {
     "data": {
      "text/plain": [
       "_2순위카드이용금액\n",
       "0        430350\n",
       "5742         27\n",
       "3526         26\n",
       "4135         26\n",
       "3816         25\n",
       "          ...  \n",
       "39338         1\n",
       "24108         1\n",
       "22978         1\n",
       "21517         1\n",
       "31916         1\n",
       "Name: count, Length: 37941, dtype: int64"
      ]
     },
     "execution_count": 121,
     "metadata": {},
     "output_type": "execute_result"
    }
   ],
   "source": [
    "all_df['_2순위카드이용금액'].value_counts(dropna=False)"
   ]
  },
  {
   "cell_type": "code",
   "execution_count": 122,
   "id": "f0644471-9076-4db0-8885-1d7c2e8836d0",
   "metadata": {},
   "outputs": [
    {
     "data": {
      "image/png": "[encoded data removed]",
      "text/plain": [
       "<Figure size 1200x600 with 1 Axes>"
      ]
     },
     "metadata": {},
     "output_type": "display_data"
    },
    {
     "name": "stdout",
     "output_type": "stream",
     "text": [
      "count    600000\n",
      "mean       3342\n",
      "std        7727\n",
      "min       -3777\n",
      "25%           0\n",
      "50%           0\n",
      "75%        2988\n",
      "max       79838\n",
      "Name: _2순위카드이용금액, dtype: int64\n"
     ]
    },
    {
     "data": {
      "text/plain": [
       "<Axes: xlabel='_2순위카드이용금액'>"
      ]
     },
     "execution_count": 122,
     "metadata": {},
     "output_type": "execute_result"
    },
    {
     "data": {
      "image/png": "[encoded data removed]",
      "text/plain": [
       "<Figure size 1200x600 with 1 Axes>"
      ]
     },
     "metadata": {},
     "output_type": "display_data"
    }
   ],
   "source": [
    "all_df['_2순위카드이용금액'].hist(bins=50)\n",
    "plt.xlabel('_2순위카드이용금액')\n",
    "plt.ylabel('빈도')\n",
    "plt.title('_2순위카드이용금액')\n",
    "plt.show()\n",
    "\n",
    "desc = all_df['_2순위카드이용금액'].describe()\n",
    "print(desc.apply(lambda x: int(x)))\n",
    "\n",
    "# 이상치 탐색\n",
    "sns.boxplot(x=all_df['_2순위카드이용금액'])"
   ]
  },
  {
   "cell_type": "markdown",
   "id": "a36643e6-fc90-4107-8e94-e6548e208f50",
   "metadata": {},
   "source": [
    "### _2순위카드이용건수\n",
    "- 이용건수에 마이너스 값 있음..."
   ]
  },
  {
   "cell_type": "code",
   "execution_count": 124,
   "id": "2ab0fa36-e4cd-4701-ae26-6990a20d4a79",
   "metadata": {},
   "outputs": [
    {
     "data": {
      "text/plain": [
       "_2순위카드이용건수\n",
       "0      430650\n",
       "27       3130\n",
       "29       3090\n",
       "26       3050\n",
       "28       3024\n",
       "        ...  \n",
       "199         2\n",
       "202         1\n",
       "203         1\n",
       "201         1\n",
       "198         1\n",
       "Name: count, Length: 205, dtype: int64"
      ]
     },
     "execution_count": 124,
     "metadata": {},
     "output_type": "execute_result"
    }
   ],
   "source": [
    "all_df['_2순위카드이용건수'].value_counts(dropna=False)"
   ]
  },
  {
   "cell_type": "code",
   "execution_count": 125,
   "id": "8b8203d1-d739-4fbb-8cba-d9ea617c8aa1",
   "metadata": {},
   "outputs": [
    {
     "data": {
      "image/png": "[encoded data removed]",
      "text/plain": [
       "<Figure size 1200x600 with 1 Axes>"
      ]
     },
     "metadata": {},
     "output_type": "display_data"
    },
    {
     "name": "stdout",
     "output_type": "stream",
     "text": [
      "count    600000\n",
      "mean         14\n",
      "std          29\n",
      "min          -1\n",
      "25%           0\n",
      "50%           0\n",
      "75%          15\n",
      "max         203\n",
      "Name: _2순위카드이용건수, dtype: int64\n"
     ]
    },
    {
     "data": {
      "text/plain": [
       "<Axes: xlabel='_2순위카드이용건수'>"
      ]
     },
     "execution_count": 125,
     "metadata": {},
     "output_type": "execute_result"
    },
    {
     "data": {
      "image/png": "[encoded data removed]",
      "text/plain": [
       "<Figure size 1200x600 with 1 Axes>"
      ]
     },
     "metadata": {},
     "output_type": "display_data"
    }
   ],
   "source": [
    "all_df['_2순위카드이용건수'].hist(bins=50)\n",
    "plt.xlabel('_2순위카드이용건수')\n",
    "plt.ylabel('빈도')\n",
    "plt.title('_2순위카드이용건수')\n",
    "plt.show()\n",
    "\n",
    "desc = all_df['_2순위카드이용건수'].describe()\n",
    "print(desc.apply(lambda x: int(x)))\n",
    "\n",
    "# 이상치 탐색\n",
    "sns.boxplot(x=all_df['_2순위카드이용건수'])"
   ]
  },
  {
   "cell_type": "markdown",
   "id": "b72054a1-c500-4c7a-9662-b724c43be5c3",
   "metadata": {},
   "source": [
    "### _2순위신용체크구분\n",
    "- 신용 / 체크로 구분되어 있음\n",
    "\n",
    "- 결측치 존재 (39.98 %)"
   ]
  },
  {
   "cell_type": "code",
   "execution_count": 127,
   "id": "73d68118-92f2-49cf-a41f-71e88c68a291",
   "metadata": {},
   "outputs": [
    {
     "data": {
      "text/plain": [
       "_2순위신용체크구분\n",
       "None    239888\n",
       "신용      217100\n",
       "체크      143012\n",
       "Name: count, dtype: int64"
      ]
     },
     "execution_count": 127,
     "metadata": {},
     "output_type": "execute_result"
    }
   ],
   "source": [
    "all_df['_2순위신용체크구분'].value_counts(dropna=False)"
   ]
  },
  {
   "cell_type": "code",
   "execution_count": 128,
   "id": "574e6f2d-87d5-4cb5-a7dd-5bc94a04c697",
   "metadata": {},
   "outputs": [
    {
     "name": "stdout",
     "output_type": "stream",
     "text": [
      "결측치 개수: 239888개 (39.98%)\n"
     ]
    }
   ],
   "source": [
    "na_count = all_df['_2순위신용체크구분'].isna().sum()\n",
    "total_count = len(all_df)\n",
    "print(f\"결측치 개수: {na_count}개 ({na_count / total_count:.2%})\")"
   ]
  },
  {
   "cell_type": "markdown",
   "id": "f1026fcb-9b2e-4f98-b907-d71c78a38eea",
   "metadata": {},
   "source": [
    "### 최종유효년월_신용_이용가능\n",
    "- 이용가능한 신용카드의 최종 유효년월\n",
    "- 결측치 <Na> 문자열로 존재함.\n",
    "- 8.86 %"
   ]
  },
  {
   "cell_type": "code",
   "execution_count": 130,
   "id": "7ee764ba-c63f-4fdc-bbc6-0103994417d3",
   "metadata": {},
   "outputs": [
    {
     "data": {
      "text/plain": [
       "최종유효년월_신용_이용가능\n",
       "NaN         53149\n",
       "202208.0    16959\n",
       "202210.0    16626\n",
       "202207.0    16535\n",
       "202209.0    16399\n",
       "            ...  \n",
       "201810.0       33\n",
       "201809.0       16\n",
       "201808.0        2\n",
       "201807.0        2\n",
       "201806.0        1\n",
       "Name: count, Length: 74, dtype: int64"
      ]
     },
     "execution_count": 130,
     "metadata": {},
     "output_type": "execute_result"
    }
   ],
   "source": [
    "all_df['최종유효년월_신용_이용가능'].value_counts(dropna=False)"
   ]
  },
  {
   "cell_type": "code",
   "execution_count": 131,
   "id": "94da0e4a-494e-4110-a220-adde79f9b1db",
   "metadata": {},
   "outputs": [
    {
     "data": {
      "text/plain": [
       "array([201905., 202108., 202303., 202302., 202307.,     nan, 202102.,\n",
       "       202212., 202203., 202107.])"
      ]
     },
     "execution_count": 131,
     "metadata": {},
     "output_type": "execute_result"
    }
   ],
   "source": [
    "# 실제로 '<NA>' 값이 문자열인지 확인\n",
    "all_df['최종유효년월_신용_이용가능'].unique()[:10]"
   ]
  },
  {
   "cell_type": "code",
   "execution_count": 132,
   "id": "4033138f-ece7-40a0-92ba-18ac4419306b",
   "metadata": {},
   "outputs": [],
   "source": [
    "# 문자열 '<NA>'를 진짜 결측치로 바꾸기\n",
    "all_df['최종유효년월_신용_이용가능'] = all_df['최종유효년월_신용_이용가능'].replace('<NA>', pd.NA)"
   ]
  },
  {
   "cell_type": "code",
   "execution_count": 133,
   "id": "3dd97331-3c85-4a9a-8435-dc45252778e3",
   "metadata": {},
   "outputs": [
    {
     "name": "stdout",
     "output_type": "stream",
     "text": [
      "결측치 개수: 53149개 (8.86%)\n"
     ]
    }
   ],
   "source": [
    "na_count = all_df['최종유효년월_신용_이용가능'].isna().sum()\n",
    "total_count = len(all_df)\n",
    "print(f\"결측치 개수: {na_count}개 ({na_count / total_count:.2%})\")"
   ]
  },
  {
   "cell_type": "markdown",
   "id": "28f4a916-776a-4152-b98f-10dff3096299",
   "metadata": {},
   "source": [
    "### 최종유효년월_신용_이용\n",
    "- 이용중인 신용카드의 최종 유효년월\n",
    "- 결측치 존재 (22.47%)"
   ]
  },
  {
   "cell_type": "code",
   "execution_count": 135,
   "id": "438ed764-89da-4b68-839d-edde4b856f77",
   "metadata": {},
   "outputs": [
    {
     "data": {
      "text/plain": [
       "최종유효년월_신용_이용\n",
       "NaN         134817\n",
       "202207.0     15683\n",
       "202208.0     15529\n",
       "202210.0     15416\n",
       "202205.0     15104\n",
       "             ...  \n",
       "201901.0        52\n",
       "201812.0        17\n",
       "201811.0         7\n",
       "201810.0         3\n",
       "201809.0         1\n",
       "Name: count, Length: 71, dtype: int64"
      ]
     },
     "execution_count": 135,
     "metadata": {},
     "output_type": "execute_result"
    }
   ],
   "source": [
    "all_df['최종유효년월_신용_이용'].value_counts(dropna=False)"
   ]
  },
  {
   "cell_type": "code",
   "execution_count": 136,
   "id": "fbbd9408-2f86-4607-8f2e-67b675dd2e09",
   "metadata": {},
   "outputs": [
    {
     "name": "stdout",
     "output_type": "stream",
     "text": [
      "결측치 개수: 134817개 (22.47%)\n"
     ]
    }
   ],
   "source": [
    "na_count = all_df['최종유효년월_신용_이용'].isna().sum()\n",
    "total_count = len(all_df)\n",
    "print(f\"결측치 개수: {na_count}개 ({na_count / total_count:.2%})\")"
   ]
  },
  {
   "cell_type": "markdown",
   "id": "1ab6c0e5-66b9-4fb2-ae1e-a2092fe45a34",
   "metadata": {},
   "source": [
    "### 최종카드발급일자\n",
    "- 최종 발급받은 카드의 발급일자\n",
    "- 결측치 존재 (1.81%)"
   ]
  },
  {
   "cell_type": "code",
   "execution_count": 138,
   "id": "cda02720-2dfe-40bf-8847-70d97f66932f",
   "metadata": {},
   "outputs": [
    {
     "data": {
      "text/plain": [
       "최종카드발급일자\n",
       "NaN           10854\n",
       "20180701.0     1068\n",
       "20180707.0     1009\n",
       "20180703.0     1006\n",
       "20180711.0      975\n",
       "              ...  \n",
       "20131015.0        6\n",
       "20131214.0        6\n",
       "20131208.0        6\n",
       "20131217.0        6\n",
       "20131117.0        6\n",
       "Name: count, Length: 1886, dtype: int64"
      ]
     },
     "execution_count": 138,
     "metadata": {},
     "output_type": "execute_result"
    }
   ],
   "source": [
    "all_df['최종카드발급일자'].value_counts(dropna=False)"
   ]
  },
  {
   "cell_type": "code",
   "execution_count": 139,
   "id": "b92e458c-2f98-4d11-9a99-38d0c3a2bec2",
   "metadata": {},
   "outputs": [
    {
     "name": "stdout",
     "output_type": "stream",
     "text": [
      "결측치 개수: 10854개 (1.81%)\n"
     ]
    }
   ],
   "source": [
    "na_count = all_df['최종카드발급일자'].isna().sum()\n",
    "total_count = len(all_df)\n",
    "print(f\"결측치 개수: {na_count}개 ({na_count / total_count:.2%})\")"
   ]
  },
  {
   "cell_type": "markdown",
   "id": "6f634690-4c73-4972-a878-8347551ae4e0",
   "metadata": {},
   "source": [
    "### 보유여부_해외겸용_본인\n",
    "- 해외겸용 카드 보유 여부"
   ]
  },
  {
   "cell_type": "code",
   "execution_count": 141,
   "id": "6373d3cf-4f4b-4f6a-8a97-bbdcf3cca116",
   "metadata": {},
   "outputs": [
    {
     "data": {
      "text/plain": [
       "보유여부_해외겸용_본인\n",
       "1    467819\n",
       "0    132181\n",
       "Name: count, dtype: int64"
      ]
     },
     "execution_count": 141,
     "metadata": {},
     "output_type": "execute_result"
    }
   ],
   "source": [
    "all_df['보유여부_해외겸용_본인'].value_counts(dropna=False)"
   ]
  },
  {
   "cell_type": "markdown",
   "id": "60e4b880-0efa-43ae-b596-7919367d7ea4",
   "metadata": {},
   "source": [
    "### 이용가능여부_해외겸용_본인"
   ]
  },
  {
   "cell_type": "code",
   "execution_count": 143,
   "id": "4c934bad-2ea4-4560-92ac-e2328f6184bb",
   "metadata": {},
   "outputs": [
    {
     "data": {
      "text/plain": [
       "이용가능여부_해외겸용_본인\n",
       "1    451005\n",
       "0    148995\n",
       "Name: count, dtype: int64"
      ]
     },
     "execution_count": 143,
     "metadata": {},
     "output_type": "execute_result"
    }
   ],
   "source": [
    "all_df['이용가능여부_해외겸용_본인'].value_counts(dropna=False)"
   ]
  },
  {
   "cell_type": "markdown",
   "id": "d520fd3b-9c15-4284-920f-e7a2b00ea392",
   "metadata": {},
   "source": [
    "### 이용여부_3M_해외겸용_본인\n",
    "- 해외겸용 신용카드 최근3개월 이용 여부"
   ]
  },
  {
   "cell_type": "code",
   "execution_count": 145,
   "id": "b9d97886-792b-423e-b357-f37dbdd193d1",
   "metadata": {},
   "outputs": [
    {
     "data": {
      "text/plain": [
       "이용여부_3M_해외겸용_본인\n",
       "1    361739\n",
       "0    238261\n",
       "Name: count, dtype: int64"
      ]
     },
     "execution_count": 145,
     "metadata": {},
     "output_type": "execute_result"
    }
   ],
   "source": [
    "all_df['이용여부_3M_해외겸용_본인'].value_counts(dropna=False)"
   ]
  },
  {
   "cell_type": "markdown",
   "id": "18a89deb-cbe6-492d-ab6e-a70503dca01e",
   "metadata": {},
   "source": [
    "### 연회비발생카드수_BOM\n",
    "- 연회비발생카드수(당월)\n",
    "- 0개 / 1개이상"
   ]
  },
  {
   "cell_type": "code",
   "execution_count": 147,
   "id": "75f1a6c8-f5e0-4c50-b269-a2df601411cf",
   "metadata": {},
   "outputs": [
    {
     "data": {
      "text/plain": [
       "연회비발생카드수_B0M\n",
       "0개      598803\n",
       "1개이상      1197\n",
       "Name: count, dtype: int64"
      ]
     },
     "execution_count": 147,
     "metadata": {},
     "output_type": "execute_result"
    }
   ],
   "source": [
    "all_df['연회비발생카드수_B0M'].value_counts(dropna=False)"
   ]
  },
  {
   "cell_type": "markdown",
   "id": "f834bafc-069f-475c-8336-f049a91164d0",
   "metadata": {},
   "source": [
    "### 연회비할인카드수_BOM\n",
    "- 연회비할인카드수(당월)\n",
    "- 전부 0 장"
   ]
  },
  {
   "cell_type": "code",
   "execution_count": 149,
   "id": "e7266676-4b9c-48ca-9420-c6e6a627f4f9",
   "metadata": {},
   "outputs": [
    {
     "data": {
      "text/plain": [
       "연회비할인카드수_B0M\n",
       "0    600000\n",
       "Name: count, dtype: int64"
      ]
     },
     "execution_count": 149,
     "metadata": {},
     "output_type": "execute_result"
    }
   ],
   "source": [
    "all_df['연회비할인카드수_B0M'].value_counts(dropna=False)"
   ]
  },
  {
   "cell_type": "markdown",
   "id": "2200c699-7eac-4fb2-be96-5acc068cb848",
   "metadata": {},
   "source": [
    "### 기본연회비_BOM\n",
    "- 기본연회비(당월)"
   ]
  },
  {
   "cell_type": "code",
   "execution_count": 151,
   "id": "9ee47e21-3739-45de-b7ec-dc524c84ed2f",
   "metadata": {},
   "outputs": [
    {
     "data": {
      "text/plain": [
       "기본연회비_B0M\n",
       "0      599305\n",
       "108       225\n",
       "109       146\n",
       "107       129\n",
       "50         93\n",
       "106        35\n",
       "105        20\n",
       "110        14\n",
       "104        14\n",
       "49         12\n",
       "103         6\n",
       "101         1\n",
       "Name: count, dtype: int64"
      ]
     },
     "execution_count": 151,
     "metadata": {},
     "output_type": "execute_result"
    }
   ],
   "source": [
    "all_df['기본연회비_B0M'].value_counts(dropna=False)"
   ]
  },
  {
   "cell_type": "markdown",
   "id": "e07ed177-05e7-4c6e-9b2e-f9a83f02b38d",
   "metadata": {},
   "source": [
    "### 제휴연회비_BOM\n",
    "- 제휴연회비(당월)"
   ]
  },
  {
   "cell_type": "code",
   "execution_count": 153,
   "id": "0c8f0080-31e2-4c58-b3c8-0dd709f780bf",
   "metadata": {},
   "outputs": [
    {
     "data": {
      "text/plain": [
       "제휴연회비_B0M\n",
       "0      599802\n",
       "949       104\n",
       "950        92\n",
       "951         1\n",
       "150         1\n",
       "Name: count, dtype: int64"
      ]
     },
     "execution_count": 153,
     "metadata": {},
     "output_type": "execute_result"
    }
   ],
   "source": [
    "all_df['제휴연회비_B0M'].value_counts(dropna=False)"
   ]
  },
  {
   "cell_type": "markdown",
   "id": "29d77188-e38d-4677-81da-a800ac95239d",
   "metadata": {},
   "source": [
    "### 할인금액_기본연회비_BOM\n",
    "- 전부 0"
   ]
  },
  {
   "cell_type": "code",
   "execution_count": 155,
   "id": "3edb1615-20e5-41c7-8696-98869e2ec1a4",
   "metadata": {},
   "outputs": [
    {
     "data": {
      "text/plain": [
       "할인금액_기본연회비_B0M\n",
       "0    600000\n",
       "Name: count, dtype: int64"
      ]
     },
     "execution_count": 155,
     "metadata": {},
     "output_type": "execute_result"
    }
   ],
   "source": [
    "all_df['할인금액_기본연회비_B0M'].value_counts()"
   ]
  },
  {
   "cell_type": "markdown",
   "id": "57857d5f-db04-49e5-83ce-ef65b546fe04",
   "metadata": {},
   "source": [
    "### 할인금액_제휴연회비_BOM\n",
    "- 전부 0"
   ]
  },
  {
   "cell_type": "code",
   "execution_count": 157,
   "id": "25433884-0d4f-4d70-b4fc-3c98366f9f10",
   "metadata": {},
   "outputs": [
    {
     "data": {
      "text/plain": [
       "할인금액_제휴연회비_B0M\n",
       "0    600000\n",
       "Name: count, dtype: int64"
      ]
     },
     "execution_count": 157,
     "metadata": {},
     "output_type": "execute_result"
    }
   ],
   "source": [
    "all_df['할인금액_제휴연회비_B0M'].value_counts()"
   ]
  },
  {
   "cell_type": "markdown",
   "id": "ffa24032-482e-4fda-8477-1c915c923228",
   "metadata": {},
   "source": [
    "### 청구금액_기본연회비_BOM"
   ]
  },
  {
   "cell_type": "code",
   "execution_count": 159,
   "id": "939a5844-8712-42a4-9674-9a4beff66aff",
   "metadata": {},
   "outputs": [
    {
     "data": {
      "text/plain": [
       "청구금액_기본연회비_B0M\n",
       "0      599305\n",
       "108       225\n",
       "109       146\n",
       "107       129\n",
       "50         93\n",
       "106        35\n",
       "105        20\n",
       "110        14\n",
       "104        14\n",
       "49         12\n",
       "103         6\n",
       "101         1\n",
       "Name: count, dtype: int64"
      ]
     },
     "execution_count": 159,
     "metadata": {},
     "output_type": "execute_result"
    }
   ],
   "source": [
    "all_df['청구금액_기본연회비_B0M'].value_counts()"
   ]
  },
  {
   "cell_type": "markdown",
   "id": "7be31788-fb88-45de-be1b-007f17764621",
   "metadata": {},
   "source": [
    "### 청구금액_제휴연회비_BOM"
   ]
  },
  {
   "cell_type": "code",
   "execution_count": 161,
   "id": "0f2e30af-0674-4862-9c9a-1e32edb802e9",
   "metadata": {},
   "outputs": [
    {
     "data": {
      "text/plain": [
       "청구금액_제휴연회비_B0M\n",
       "0      599802\n",
       "949       104\n",
       "950        92\n",
       "951         1\n",
       "150         1\n",
       "Name: count, dtype: int64"
      ]
     },
     "execution_count": 161,
     "metadata": {},
     "output_type": "execute_result"
    }
   ],
   "source": [
    "all_df['청구금액_제휴연회비_B0M'].value_counts()\n"
   ]
  },
  {
   "cell_type": "markdown",
   "id": "9f466cf8-a29f-4255-bf05-dfce92317f60",
   "metadata": {},
   "source": [
    "### 상품관련면제카드수_BOM\n",
    "- 전부 0개"
   ]
  },
  {
   "cell_type": "code",
   "execution_count": 163,
   "id": "ce17d415-58da-4a58-8d6b-0563a9433b3a",
   "metadata": {},
   "outputs": [
    {
     "data": {
      "text/plain": [
       "상품관련면제카드수_B0M\n",
       "0개    600000\n",
       "Name: count, dtype: int64"
      ]
     },
     "execution_count": 163,
     "metadata": {},
     "output_type": "execute_result"
    }
   ],
   "source": [
    "all_df['상품관련면제카드수_B0M'].value_counts()"
   ]
  },
  {
   "cell_type": "markdown",
   "id": "0e00b699-a261-4c3a-980a-447326a8ef43",
   "metadata": {},
   "source": [
    "### 임직원면제카드수_BOM\n",
    "- 전부 0개"
   ]
  },
  {
   "cell_type": "code",
   "execution_count": 165,
   "id": "76709d8a-0518-4860-8b94-f10c182f2de1",
   "metadata": {},
   "outputs": [
    {
     "data": {
      "text/plain": [
       "임직원면제카드수_B0M\n",
       "0개    600000\n",
       "Name: count, dtype: int64"
      ]
     },
     "execution_count": 165,
     "metadata": {},
     "output_type": "execute_result"
    }
   ],
   "source": [
    "all_df['임직원면제카드수_B0M'].value_counts()"
   ]
  },
  {
   "cell_type": "markdown",
   "id": "08d0aaeb-839a-4a5f-94a2-59fe4a34ba3c",
   "metadata": {},
   "source": [
    "### 우수회원면제카드수_BOM\n",
    "- 전부 0개"
   ]
  },
  {
   "cell_type": "code",
   "execution_count": 167,
   "id": "5fcae2d2-7a37-4c55-9e28-1e7b2922ceeb",
   "metadata": {},
   "outputs": [
    {
     "data": {
      "text/plain": [
       "우수회원면제카드수_B0M\n",
       "0개    600000\n",
       "Name: count, dtype: int64"
      ]
     },
     "execution_count": 167,
     "metadata": {},
     "output_type": "execute_result"
    }
   ],
   "source": [
    "all_df['우수회원면제카드수_B0M'].value_counts()"
   ]
  },
  {
   "cell_type": "markdown",
   "id": "9d331acc-4809-4d34-a957-f7132e1e498e",
   "metadata": {},
   "source": [
    "### 기타면제카드수_BOM"
   ]
  },
  {
   "cell_type": "code",
   "execution_count": 169,
   "id": "f5da0612-d380-4e85-acd2-40cef172f0aa",
   "metadata": {},
   "outputs": [
    {
     "data": {
      "text/plain": [
       "기타면제카드수_B0M\n",
       "0개    600000\n",
       "Name: count, dtype: int64"
      ]
     },
     "execution_count": 169,
     "metadata": {},
     "output_type": "execute_result"
    }
   ],
   "source": [
    "all_df['기타면제카드수_B0M'].value_counts()"
   ]
  },
  {
   "cell_type": "markdown",
   "id": "e1832eb9-5be8-4a26-b02e-ea325a325c7a",
   "metadata": {},
   "source": [
    "### 카드신청건수\n",
    "- 0건, 1건"
   ]
  },
  {
   "cell_type": "code",
   "execution_count": 171,
   "id": "1e285951-4865-4b7a-96ea-75f570f73eb9",
   "metadata": {},
   "outputs": [
    {
     "data": {
      "text/plain": [
       "카드신청건수\n",
       "0    547474\n",
       "1     52526\n",
       "Name: count, dtype: int64"
      ]
     },
     "execution_count": 171,
     "metadata": {},
     "output_type": "execute_result"
    }
   ],
   "source": [
    "all_df['카드신청건수'].value_counts()"
   ]
  },
  {
   "cell_type": "markdown",
   "id": "b370e02f-677c-4bec-85c3-df215df18611",
   "metadata": {},
   "source": [
    "### Life_Stage\n",
    "- 생애주기 구분\n",
    "- 자녀성장(1) / 자녀성장(2) / 자녀출산기 / 가족구축기 / 노년생활 / 자녀독립기 / 독신"
   ]
  },
  {
   "cell_type": "code",
   "execution_count": 173,
   "id": "9c449f44-2e55-4197-8433-37a3f6b9fd8d",
   "metadata": {},
   "outputs": [
    {
     "data": {
      "text/plain": [
       "Life_Stage\n",
       "자녀성장(1)    199094\n",
       "자녀성장(2)    147490\n",
       "자녀출산기       62059\n",
       "가족구축기       60986\n",
       "노년생활        59084\n",
       "자녀독립기       49144\n",
       "독신          22143\n",
       "Name: count, dtype: int64"
      ]
     },
     "execution_count": 173,
     "metadata": {},
     "output_type": "execute_result"
    }
   ],
   "source": [
    "all_df['Life_Stage'].value_counts(dropna=False)"
   ]
  },
  {
   "cell_type": "markdown",
   "id": "e27332dd-5b01-4d0f-8aaf-88b710897dd5",
   "metadata": {},
   "source": [
    "### 최종카드발급경과일"
   ]
  },
  {
   "cell_type": "code",
   "execution_count": 175,
   "id": "bceca539-9975-4e1e-ab5d-2e243690ca6e",
   "metadata": {},
   "outputs": [
    {
     "data": {
      "text/plain": [
       "최종카드발급경과월\n",
       "0     19767\n",
       "14    18517\n",
       "13    18448\n",
       "15    18307\n",
       "12    18250\n",
       "      ...  \n",
       "61       44\n",
       "62       17\n",
       "63        6\n",
       "64        2\n",
       "65        1\n",
       "Name: count, Length: 66, dtype: int64"
      ]
     },
     "execution_count": 175,
     "metadata": {},
     "output_type": "execute_result"
    }
   ],
   "source": [
    "all_df['최종카드발급경과월'].value_counts()"
   ]
  },
  {
   "cell_type": "code",
   "execution_count": 176,
   "id": "e3993dd0-e85c-4645-a2a5-8ae9c632d90f",
   "metadata": {},
   "outputs": [
    {
     "data": {
      "image/png": "[encoded data removed]",
      "text/plain": [
       "<Figure size 1400x600 with 1 Axes>"
      ]
     },
     "metadata": {},
     "output_type": "display_data"
    }
   ],
   "source": [
    "# 값 개수 정렬\n",
    "cnts = all_df['최종카드발급경과월'].value_counts().sort_index()\n",
    "\n",
    "# 시각화\n",
    "plt.figure(figsize=(14, 6))\n",
    "sns.barplot(x=cnts.index, y=cnts.values)\n",
    "plt.xticks(rotation=90)\n",
    "plt.xlabel('최종카드발급경과월')\n",
    "plt.ylabel('빈도')\n",
    "plt.title('최종카드발급경과월 분포 (범주형 시각화)')\n",
    "plt.show()"
   ]
  },
  {
   "cell_type": "code",
   "execution_count": 177,
   "id": "30d6667f-ecd3-4af1-b28b-7eec20456a4d",
   "metadata": {},
   "outputs": [
    {
     "data": {
      "text/plain": [
       "count    600000.000000\n",
       "mean         21.418478\n",
       "std          13.767574\n",
       "min           0.000000\n",
       "25%          11.000000\n",
       "50%          19.000000\n",
       "75%          31.000000\n",
       "max          65.000000\n",
       "Name: 최종카드발급경과월, dtype: float64"
      ]
     },
     "execution_count": 177,
     "metadata": {},
     "output_type": "execute_result"
    }
   ],
   "source": [
    "all_df['최종카드발급경과월'].describe()"
   ]
  },
  {
   "cell_type": "code",
   "execution_count": 15,
   "id": "91b9e5d6-2c1a-4370-9b2f-0ab198bc10e6",
   "metadata": {},
   "outputs": [],
   "source": [
    "all_df.to_csv('open/test_1.회원정보.csv', index=False)"
   ]
  },
  {
   "cell_type": "code",
   "execution_count": null,
   "id": "a8f1bbe6-a7aa-4922-a054-a8353fe100d3",
   "metadata": {},
   "outputs": [],
   "source": []
  }
 ],
 "metadata": {
  "kernelspec": {
   "display_name": "Python [conda env:base] *",
   "language": "python",
   "name": "conda-base-py"
  },
  "language_info": {
   "codemirror_mode": {
    "name": "ipython",
    "version": 3
   },
   "file_extension": ".py",
   "mimetype": "text/x-python",
   "name": "python",
   "nbconvert_exporter": "python",
   "pygments_lexer": "ipython3",
   "version": "3.12.7"
  }
 },
 "nbformat": 4,
 "nbformat_minor": 5
}

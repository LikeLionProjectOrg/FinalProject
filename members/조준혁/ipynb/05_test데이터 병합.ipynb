{
 "cells": [
  {
   "cell_type": "code",
   "execution_count": 1,
   "id": "d7521b15-01bd-4b4d-b04d-764c5924f389",
   "metadata": {},
   "outputs": [],
   "source": [
    "# 기본\n",
    "import pandas as pd  # 데이터프레임 처리\n",
    "import numpy as np  # 수치 계산\n",
    "import matplotlib.pyplot as plt  # 데이터 시각화\n",
    "import seaborn as sns  # 고급 시각화\n",
    "\n",
    "# 경고 뜨지 않게 설정\n",
    "import warnings  # 경고 무시 설정\n",
    "warnings.filterwarnings('ignore')\n",
    "\n",
    "# 그래프 설정\n",
    "sns.set()\n",
    "\n",
    "# 그래프 기본 설정\n",
    "plt.rcParams['font.family'] = 'Malgun Gothic'  # 한글 폰트 설정\n",
    "# plt.rcParams['font.family'] = 'AppleGothic'\n",
    "plt.rcParams['figure.figsize'] = 12, 6  # 그래프 크기 설정\n",
    "plt.rcParams['font.size'] = 14  # 글자 크기\n",
    "plt.rcParams['axes.unicode_minus'] = False  # 마이너스 깨짐 방지\n",
    "\n",
    "# 데이터 전처리 알고리즘\n",
    "from sklearn.preprocessing import LabelEncoder  # 범주형 → 숫자형\n",
    "from sklearn.preprocessing import StandardScaler  # 데이터 정규화\n",
    "\n",
    "# 학습용과 검증용으로 나누는 함수\n",
    "from sklearn.model_selection import train_test_split  # 데이터 분할\n",
    "\n",
    "# 교차 검증\n",
    "from sklearn.model_selection import cross_val_score  # 교차검증 점수\n",
    "from sklearn.model_selection import cross_validate  # 교차검증 상세결과\n",
    "from sklearn.model_selection import KFold  # K겹 검증\n",
    "from sklearn.model_selection import StratifiedKFold  # 라벨 비율 유지한 K겹\n",
    "\n",
    "# 평가함수\n",
    "# 분류용\n",
    "from sklearn.metrics import accuracy_score  # 정확도\n",
    "from sklearn.metrics import precision_score  # 정밀도\n",
    "from sklearn.metrics import recall_score  # 재현율\n",
    "from sklearn.metrics import f1_score  # F1 점수\n",
    "from sklearn.metrics import roc_auc_score  # ROC AUC\n",
    "\n",
    "# 회귀용\n",
    "from sklearn.metrics import r2_score  # R² 결정계수\n",
    "from sklearn.metrics import mean_squared_error  # 평균제곱오차\n",
    "\n",
    "# 모델의 최적의 하이퍼 파라미터를 찾기 위한 도구\n",
    "from sklearn.model_selection import GridSearchCV  # 그리드서치\n",
    "\n",
    "# 머신러닝 알고리즘 - 분류\n",
    "from sklearn.neighbors import KNeighborsClassifier  # K-최근접 이웃\n",
    "from sklearn.linear_model import LogisticRegression  # 로지스틱 회귀\n",
    "from sklearn.svm import SVC  # 서포트 벡터 머신\n",
    "from sklearn.tree import DecisionTreeClassifier  # 결정 트리\n",
    "from sklearn.ensemble import RandomForestClassifier  # 랜덤 포레스트\n",
    "from sklearn.ensemble import AdaBoostClassifier  # 아다부스트\n",
    "from sklearn.ensemble import GradientBoostingClassifier  # 그래디언트 부스팅\n",
    "from lightgbm import LGBMClassifier  # LightGBM 분류기\n",
    "from xgboost import XGBClassifier  # XGBoost 분류기\n",
    "from sklearn.ensemble import VotingClassifier  # 투표 기반 앙상블\n",
    "\n",
    "# 머신러닝 알고리즘 - 회귀\n",
    "from sklearn.neighbors import KNeighborsRegressor  # K-최근접 회귀\n",
    "from sklearn.linear_model import LinearRegression  # 선형 회귀\n",
    "from sklearn.linear_model import Ridge  # 릿지 회귀\n",
    "from sklearn.linear_model import Lasso  # 라쏘 회귀\n",
    "from sklearn.linear_model import ElasticNet  # 엘라스틱넷 회귀\n",
    "from sklearn.svm import SVR  # 서포트 벡터 회귀\n",
    "from sklearn.tree import DecisionTreeRegressor  # 결정 트리 회귀\n",
    "from sklearn.ensemble import RandomForestRegressor  # 랜덤 포레스트 회귀\n",
    "from sklearn.ensemble import AdaBoostRegressor  # 아다부스트 회귀\n",
    "from sklearn.ensemble import GradientBoostingRegressor  # 그래디언트 부스팅 회귀\n",
    "from lightgbm import LGBMRegressor  # LightGBM 회귀\n",
    "from xgboost import XGBRegressor  # XGBoost 회귀\n",
    "from sklearn.ensemble import VotingRegressor  # 투표 기반 회귀 앙상블\n",
    "\n",
    "# 차원 축소\n",
    "from sklearn.decomposition import PCA\n",
    "from sklearn.discriminant_analysis import LinearDiscriminantAnalysis\n",
    "\n",
    "# 학습 모델 저장을 위한 라이브러리\n",
    "import pickle"
   ]
  },
  {
   "cell_type": "markdown",
   "id": "16f6a5af-82b7-4b1c-a142-2aabaa79fcbf",
   "metadata": {},
   "source": [
    "### 데이터 준비"
   ]
  },
  {
   "cell_type": "code",
   "execution_count": 3,
   "id": "f41726f6-c155-44ec-b54d-8e76721b432b",
   "metadata": {},
   "outputs": [],
   "source": [
    "# parquet 파일 데이터를 읽어온다.\n",
    "df1_train = pd.read_parquet('1.회원정보_test_filtered_data.parquet')"
   ]
  },
  {
   "cell_type": "code",
   "execution_count": 4,
   "id": "a0af13a8-68e7-4dc7-be5d-c60c09e08875",
   "metadata": {},
   "outputs": [],
   "source": [
    "df2_train = pd.read_parquet('2.신용정보_TEST_통합2.parquet')"
   ]
  },
  {
   "cell_type": "code",
   "execution_count": 5,
   "id": "07f9f106-ca05-4d3b-a748-b4e57c05a474",
   "metadata": {},
   "outputs": [],
   "source": [
    "df3_train = pd.read_parquet('3.승인매출정보_test.parquet')"
   ]
  },
  {
   "cell_type": "code",
   "execution_count": 6,
   "id": "490dc5aa-f030-4ecf-825b-651b68fc67fb",
   "metadata": {},
   "outputs": [],
   "source": [
    "df4_train = pd.read_parquet('4.청구입금정보(test).parquet')"
   ]
  },
  {
   "cell_type": "code",
   "execution_count": 7,
   "id": "fa7dd023-4ece-4dc9-9862-07108a5e2058",
   "metadata": {},
   "outputs": [],
   "source": [
    "df5_train = pd.read_parquet('5.잔액정보(test).parquet')"
   ]
  },
  {
   "cell_type": "code",
   "execution_count": 8,
   "id": "61c143a3-d436-4f01-8ef1-c0b663473189",
   "metadata": {},
   "outputs": [],
   "source": [
    "df6_train = pd.read_parquet('6.채널정보_TEST_통합2.parquet')"
   ]
  },
  {
   "cell_type": "code",
   "execution_count": 9,
   "id": "343e389b-6b23-41a0-ba43-88ad68e0d18f",
   "metadata": {},
   "outputs": [
    {
     "data": {
      "text/html": [
       "<div>\n",
       "<style scoped>\n",
       "    .dataframe tbody tr th:only-of-type {\n",
       "        vertical-align: middle;\n",
       "    }\n",
       "\n",
       "    .dataframe tbody tr th {\n",
       "        vertical-align: top;\n",
       "    }\n",
       "\n",
       "    .dataframe thead th {\n",
       "        text-align: right;\n",
       "    }\n",
       "</style>\n",
       "<table border=\"1\" class=\"dataframe\">\n",
       "  <thead>\n",
       "    <tr style=\"text-align: right;\">\n",
       "      <th></th>\n",
       "      <th>기준년월</th>\n",
       "      <th>인입횟수_ARS_R6M</th>\n",
       "    </tr>\n",
       "  </thead>\n",
       "  <tbody>\n",
       "    <tr>\n",
       "      <th>0</th>\n",
       "      <td>201807</td>\n",
       "      <td>1회 이상</td>\n",
       "    </tr>\n",
       "    <tr>\n",
       "      <th>1</th>\n",
       "      <td>201807</td>\n",
       "      <td>1회 이상</td>\n",
       "    </tr>\n",
       "    <tr>\n",
       "      <th>2</th>\n",
       "      <td>201807</td>\n",
       "      <td>1회 이상</td>\n",
       "    </tr>\n",
       "    <tr>\n",
       "      <th>3</th>\n",
       "      <td>201807</td>\n",
       "      <td>1회 이상</td>\n",
       "    </tr>\n",
       "    <tr>\n",
       "      <th>4</th>\n",
       "      <td>201807</td>\n",
       "      <td>1회 이상</td>\n",
       "    </tr>\n",
       "    <tr>\n",
       "      <th>...</th>\n",
       "      <td>...</td>\n",
       "      <td>...</td>\n",
       "    </tr>\n",
       "    <tr>\n",
       "      <th>599995</th>\n",
       "      <td>201812</td>\n",
       "      <td>1회 이상</td>\n",
       "    </tr>\n",
       "    <tr>\n",
       "      <th>599996</th>\n",
       "      <td>201812</td>\n",
       "      <td>1회 이상</td>\n",
       "    </tr>\n",
       "    <tr>\n",
       "      <th>599997</th>\n",
       "      <td>201812</td>\n",
       "      <td>1회 이상</td>\n",
       "    </tr>\n",
       "    <tr>\n",
       "      <th>599998</th>\n",
       "      <td>201812</td>\n",
       "      <td>1회 이상</td>\n",
       "    </tr>\n",
       "    <tr>\n",
       "      <th>599999</th>\n",
       "      <td>201812</td>\n",
       "      <td>1회 이상</td>\n",
       "    </tr>\n",
       "  </tbody>\n",
       "</table>\n",
       "<p>600000 rows × 2 columns</p>\n",
       "</div>"
      ],
      "text/plain": [
       "          기준년월 인입횟수_ARS_R6M\n",
       "0       201807        1회 이상\n",
       "1       201807        1회 이상\n",
       "2       201807        1회 이상\n",
       "3       201807        1회 이상\n",
       "4       201807        1회 이상\n",
       "...        ...          ...\n",
       "599995  201812        1회 이상\n",
       "599996  201812        1회 이상\n",
       "599997  201812        1회 이상\n",
       "599998  201812        1회 이상\n",
       "599999  201812        1회 이상\n",
       "\n",
       "[600000 rows x 2 columns]"
      ]
     },
     "execution_count": 9,
     "metadata": {},
     "output_type": "execute_result"
    }
   ],
   "source": [
    "df6_train"
   ]
  },
  {
   "cell_type": "code",
   "execution_count": 10,
   "id": "7692444b-eafe-408d-83c8-faff16c71251",
   "metadata": {},
   "outputs": [],
   "source": [
    "merged_df1 = df1_train.merge(df2_train, how='inner', on=['ID', '기준년월'])"
   ]
  },
  {
   "cell_type": "code",
   "execution_count": 11,
   "id": "0adc9c1a-6a2c-4f68-bb46-e33e5cd45976",
   "metadata": {},
   "outputs": [],
   "source": [
    "merged_df2 = merged_df1.merge(df3_train, how='inner', on=['ID', '기준년월'])"
   ]
  },
  {
   "cell_type": "code",
   "execution_count": 12,
   "id": "05759878-d8a1-486f-b516-69558b3d28f3",
   "metadata": {},
   "outputs": [],
   "source": [
    "merged_df3 = merged_df2.merge(df4_train, how='inner', on=['ID', '기준년월'])"
   ]
  },
  {
   "cell_type": "code",
   "execution_count": 13,
   "id": "56f834bd-44d5-4e14-ba18-d0df530b24f1",
   "metadata": {},
   "outputs": [],
   "source": [
    "merged_df4 = merged_df3.merge(df5_train, how='inner', on=['ID', '기준년월'])"
   ]
  },
  {
   "cell_type": "code",
   "execution_count": 14,
   "id": "fe5b51c6-6597-4711-a703-6f75041ce4d6",
   "metadata": {},
   "outputs": [
    {
     "ename": "MemoryError",
     "evalue": "Unable to allocate 447. GiB for an array with shape (60000000000,) and data type int64",
     "output_type": "error",
     "traceback": [
      "\u001b[1;31m---------------------------------------------------------------------------\u001b[0m",
      "\u001b[1;31mMemoryError\u001b[0m                               Traceback (most recent call last)",
      "Cell \u001b[1;32mIn[14], line 1\u001b[0m\n\u001b[1;32m----> 1\u001b[0m test_df \u001b[38;5;241m=\u001b[39m merged_df4\u001b[38;5;241m.\u001b[39mmerge(df6_train, how\u001b[38;5;241m=\u001b[39m\u001b[38;5;124m'\u001b[39m\u001b[38;5;124minner\u001b[39m\u001b[38;5;124m'\u001b[39m, on\u001b[38;5;241m=\u001b[39m[\u001b[38;5;124m'\u001b[39m\u001b[38;5;124m기준년월\u001b[39m\u001b[38;5;124m'\u001b[39m])\n",
      "File \u001b[1;32m~\\anaconda3\\Lib\\site-packages\\pandas\\core\\frame.py:10832\u001b[0m, in \u001b[0;36mDataFrame.merge\u001b[1;34m(self, right, how, on, left_on, right_on, left_index, right_index, sort, suffixes, copy, indicator, validate)\u001b[0m\n\u001b[0;32m  10813\u001b[0m \u001b[38;5;129m@Substitution\u001b[39m(\u001b[38;5;124m\"\u001b[39m\u001b[38;5;124m\"\u001b[39m)\n\u001b[0;32m  10814\u001b[0m \u001b[38;5;129m@Appender\u001b[39m(_merge_doc, indents\u001b[38;5;241m=\u001b[39m\u001b[38;5;241m2\u001b[39m)\n\u001b[0;32m  10815\u001b[0m \u001b[38;5;28;01mdef\u001b[39;00m \u001b[38;5;21mmerge\u001b[39m(\n\u001b[1;32m   (...)\u001b[0m\n\u001b[0;32m  10828\u001b[0m     validate: MergeValidate \u001b[38;5;241m|\u001b[39m \u001b[38;5;28;01mNone\u001b[39;00m \u001b[38;5;241m=\u001b[39m \u001b[38;5;28;01mNone\u001b[39;00m,\n\u001b[0;32m  10829\u001b[0m ) \u001b[38;5;241m-\u001b[39m\u001b[38;5;241m>\u001b[39m DataFrame:\n\u001b[0;32m  10830\u001b[0m     \u001b[38;5;28;01mfrom\u001b[39;00m \u001b[38;5;21;01mpandas\u001b[39;00m\u001b[38;5;21;01m.\u001b[39;00m\u001b[38;5;21;01mcore\u001b[39;00m\u001b[38;5;21;01m.\u001b[39;00m\u001b[38;5;21;01mreshape\u001b[39;00m\u001b[38;5;21;01m.\u001b[39;00m\u001b[38;5;21;01mmerge\u001b[39;00m \u001b[38;5;28;01mimport\u001b[39;00m merge\n\u001b[1;32m> 10832\u001b[0m     \u001b[38;5;28;01mreturn\u001b[39;00m merge(\n\u001b[0;32m  10833\u001b[0m         \u001b[38;5;28mself\u001b[39m,\n\u001b[0;32m  10834\u001b[0m         right,\n\u001b[0;32m  10835\u001b[0m         how\u001b[38;5;241m=\u001b[39mhow,\n\u001b[0;32m  10836\u001b[0m         on\u001b[38;5;241m=\u001b[39mon,\n\u001b[0;32m  10837\u001b[0m         left_on\u001b[38;5;241m=\u001b[39mleft_on,\n\u001b[0;32m  10838\u001b[0m         right_on\u001b[38;5;241m=\u001b[39mright_on,\n\u001b[0;32m  10839\u001b[0m         left_index\u001b[38;5;241m=\u001b[39mleft_index,\n\u001b[0;32m  10840\u001b[0m         right_index\u001b[38;5;241m=\u001b[39mright_index,\n\u001b[0;32m  10841\u001b[0m         sort\u001b[38;5;241m=\u001b[39msort,\n\u001b[0;32m  10842\u001b[0m         suffixes\u001b[38;5;241m=\u001b[39msuffixes,\n\u001b[0;32m  10843\u001b[0m         copy\u001b[38;5;241m=\u001b[39mcopy,\n\u001b[0;32m  10844\u001b[0m         indicator\u001b[38;5;241m=\u001b[39mindicator,\n\u001b[0;32m  10845\u001b[0m         validate\u001b[38;5;241m=\u001b[39mvalidate,\n\u001b[0;32m  10846\u001b[0m     )\n",
      "File \u001b[1;32m~\\anaconda3\\Lib\\site-packages\\pandas\\core\\reshape\\merge.py:184\u001b[0m, in \u001b[0;36mmerge\u001b[1;34m(left, right, how, on, left_on, right_on, left_index, right_index, sort, suffixes, copy, indicator, validate)\u001b[0m\n\u001b[0;32m    169\u001b[0m \u001b[38;5;28;01melse\u001b[39;00m:\n\u001b[0;32m    170\u001b[0m     op \u001b[38;5;241m=\u001b[39m _MergeOperation(\n\u001b[0;32m    171\u001b[0m         left_df,\n\u001b[0;32m    172\u001b[0m         right_df,\n\u001b[1;32m   (...)\u001b[0m\n\u001b[0;32m    182\u001b[0m         validate\u001b[38;5;241m=\u001b[39mvalidate,\n\u001b[0;32m    183\u001b[0m     )\n\u001b[1;32m--> 184\u001b[0m     \u001b[38;5;28;01mreturn\u001b[39;00m op\u001b[38;5;241m.\u001b[39mget_result(copy\u001b[38;5;241m=\u001b[39mcopy)\n",
      "File \u001b[1;32m~\\anaconda3\\Lib\\site-packages\\pandas\\core\\reshape\\merge.py:886\u001b[0m, in \u001b[0;36m_MergeOperation.get_result\u001b[1;34m(self, copy)\u001b[0m\n\u001b[0;32m    883\u001b[0m \u001b[38;5;28;01mif\u001b[39;00m \u001b[38;5;28mself\u001b[39m\u001b[38;5;241m.\u001b[39mindicator:\n\u001b[0;32m    884\u001b[0m     \u001b[38;5;28mself\u001b[39m\u001b[38;5;241m.\u001b[39mleft, \u001b[38;5;28mself\u001b[39m\u001b[38;5;241m.\u001b[39mright \u001b[38;5;241m=\u001b[39m \u001b[38;5;28mself\u001b[39m\u001b[38;5;241m.\u001b[39m_indicator_pre_merge(\u001b[38;5;28mself\u001b[39m\u001b[38;5;241m.\u001b[39mleft, \u001b[38;5;28mself\u001b[39m\u001b[38;5;241m.\u001b[39mright)\n\u001b[1;32m--> 886\u001b[0m join_index, left_indexer, right_indexer \u001b[38;5;241m=\u001b[39m \u001b[38;5;28mself\u001b[39m\u001b[38;5;241m.\u001b[39m_get_join_info()\n\u001b[0;32m    888\u001b[0m result \u001b[38;5;241m=\u001b[39m \u001b[38;5;28mself\u001b[39m\u001b[38;5;241m.\u001b[39m_reindex_and_concat(\n\u001b[0;32m    889\u001b[0m     join_index, left_indexer, right_indexer, copy\u001b[38;5;241m=\u001b[39mcopy\n\u001b[0;32m    890\u001b[0m )\n\u001b[0;32m    891\u001b[0m result \u001b[38;5;241m=\u001b[39m result\u001b[38;5;241m.\u001b[39m__finalize__(\u001b[38;5;28mself\u001b[39m, method\u001b[38;5;241m=\u001b[39m\u001b[38;5;28mself\u001b[39m\u001b[38;5;241m.\u001b[39m_merge_type)\n",
      "File \u001b[1;32m~\\anaconda3\\Lib\\site-packages\\pandas\\core\\reshape\\merge.py:1151\u001b[0m, in \u001b[0;36m_MergeOperation._get_join_info\u001b[1;34m(self)\u001b[0m\n\u001b[0;32m   1147\u001b[0m     join_index, right_indexer, left_indexer \u001b[38;5;241m=\u001b[39m _left_join_on_index(\n\u001b[0;32m   1148\u001b[0m         right_ax, left_ax, \u001b[38;5;28mself\u001b[39m\u001b[38;5;241m.\u001b[39mright_join_keys, sort\u001b[38;5;241m=\u001b[39m\u001b[38;5;28mself\u001b[39m\u001b[38;5;241m.\u001b[39msort\n\u001b[0;32m   1149\u001b[0m     )\n\u001b[0;32m   1150\u001b[0m \u001b[38;5;28;01melse\u001b[39;00m:\n\u001b[1;32m-> 1151\u001b[0m     (left_indexer, right_indexer) \u001b[38;5;241m=\u001b[39m \u001b[38;5;28mself\u001b[39m\u001b[38;5;241m.\u001b[39m_get_join_indexers()\n\u001b[0;32m   1153\u001b[0m     \u001b[38;5;28;01mif\u001b[39;00m \u001b[38;5;28mself\u001b[39m\u001b[38;5;241m.\u001b[39mright_index:\n\u001b[0;32m   1154\u001b[0m         \u001b[38;5;28;01mif\u001b[39;00m \u001b[38;5;28mlen\u001b[39m(\u001b[38;5;28mself\u001b[39m\u001b[38;5;241m.\u001b[39mleft) \u001b[38;5;241m>\u001b[39m \u001b[38;5;241m0\u001b[39m:\n",
      "File \u001b[1;32m~\\anaconda3\\Lib\\site-packages\\pandas\\core\\reshape\\merge.py:1125\u001b[0m, in \u001b[0;36m_MergeOperation._get_join_indexers\u001b[1;34m(self)\u001b[0m\n\u001b[0;32m   1123\u001b[0m \u001b[38;5;66;03m# make mypy happy\u001b[39;00m\n\u001b[0;32m   1124\u001b[0m \u001b[38;5;28;01massert\u001b[39;00m \u001b[38;5;28mself\u001b[39m\u001b[38;5;241m.\u001b[39mhow \u001b[38;5;241m!=\u001b[39m \u001b[38;5;124m\"\u001b[39m\u001b[38;5;124masof\u001b[39m\u001b[38;5;124m\"\u001b[39m\n\u001b[1;32m-> 1125\u001b[0m \u001b[38;5;28;01mreturn\u001b[39;00m get_join_indexers(\n\u001b[0;32m   1126\u001b[0m     \u001b[38;5;28mself\u001b[39m\u001b[38;5;241m.\u001b[39mleft_join_keys, \u001b[38;5;28mself\u001b[39m\u001b[38;5;241m.\u001b[39mright_join_keys, sort\u001b[38;5;241m=\u001b[39m\u001b[38;5;28mself\u001b[39m\u001b[38;5;241m.\u001b[39msort, how\u001b[38;5;241m=\u001b[39m\u001b[38;5;28mself\u001b[39m\u001b[38;5;241m.\u001b[39mhow\n\u001b[0;32m   1127\u001b[0m )\n",
      "File \u001b[1;32m~\\anaconda3\\Lib\\site-packages\\pandas\\core\\reshape\\merge.py:1759\u001b[0m, in \u001b[0;36mget_join_indexers\u001b[1;34m(left_keys, right_keys, sort, how)\u001b[0m\n\u001b[0;32m   1757\u001b[0m     _, lidx, ridx \u001b[38;5;241m=\u001b[39m left\u001b[38;5;241m.\u001b[39mjoin(right, how\u001b[38;5;241m=\u001b[39mhow, return_indexers\u001b[38;5;241m=\u001b[39m\u001b[38;5;28;01mTrue\u001b[39;00m, sort\u001b[38;5;241m=\u001b[39msort)\n\u001b[0;32m   1758\u001b[0m \u001b[38;5;28;01melse\u001b[39;00m:\n\u001b[1;32m-> 1759\u001b[0m     lidx, ridx \u001b[38;5;241m=\u001b[39m get_join_indexers_non_unique(\n\u001b[0;32m   1760\u001b[0m         left\u001b[38;5;241m.\u001b[39m_values, right\u001b[38;5;241m.\u001b[39m_values, sort, how\n\u001b[0;32m   1761\u001b[0m     )\n\u001b[0;32m   1763\u001b[0m \u001b[38;5;28;01mif\u001b[39;00m lidx \u001b[38;5;129;01mis\u001b[39;00m \u001b[38;5;129;01mnot\u001b[39;00m \u001b[38;5;28;01mNone\u001b[39;00m \u001b[38;5;129;01mand\u001b[39;00m is_range_indexer(lidx, \u001b[38;5;28mlen\u001b[39m(left)):\n\u001b[0;32m   1764\u001b[0m     lidx \u001b[38;5;241m=\u001b[39m \u001b[38;5;28;01mNone\u001b[39;00m\n",
      "File \u001b[1;32m~\\anaconda3\\Lib\\site-packages\\pandas\\core\\reshape\\merge.py:1799\u001b[0m, in \u001b[0;36mget_join_indexers_non_unique\u001b[1;34m(left, right, sort, how)\u001b[0m\n\u001b[0;32m   1797\u001b[0m     ridx, lidx \u001b[38;5;241m=\u001b[39m libjoin\u001b[38;5;241m.\u001b[39mleft_outer_join(rkey, lkey, count, sort\u001b[38;5;241m=\u001b[39msort)\n\u001b[0;32m   1798\u001b[0m \u001b[38;5;28;01melif\u001b[39;00m how \u001b[38;5;241m==\u001b[39m \u001b[38;5;124m\"\u001b[39m\u001b[38;5;124minner\u001b[39m\u001b[38;5;124m\"\u001b[39m:\n\u001b[1;32m-> 1799\u001b[0m     lidx, ridx \u001b[38;5;241m=\u001b[39m libjoin\u001b[38;5;241m.\u001b[39minner_join(lkey, rkey, count, sort\u001b[38;5;241m=\u001b[39msort)\n\u001b[0;32m   1800\u001b[0m \u001b[38;5;28;01melif\u001b[39;00m how \u001b[38;5;241m==\u001b[39m \u001b[38;5;124m\"\u001b[39m\u001b[38;5;124mouter\u001b[39m\u001b[38;5;124m\"\u001b[39m:\n\u001b[0;32m   1801\u001b[0m     lidx, ridx \u001b[38;5;241m=\u001b[39m libjoin\u001b[38;5;241m.\u001b[39mfull_outer_join(lkey, rkey, count)\n",
      "File \u001b[1;32mjoin.pyx:47\u001b[0m, in \u001b[0;36mpandas._libs.join.inner_join\u001b[1;34m()\u001b[0m\n",
      "\u001b[1;31mMemoryError\u001b[0m: Unable to allocate 447. GiB for an array with shape (60000000000,) and data type int64"
     ]
    }
   ],
   "source": [
    "test_df = merged_df4.merge(df6_train, how='inner', on=['기준년월'])"
   ]
  },
  {
   "cell_type": "code",
   "execution_count": null,
   "id": "5987b8e2-210f-491d-92ca-2f056f08c70f",
   "metadata": {},
   "outputs": [],
   "source": [
    "test_df"
   ]
  },
  {
   "cell_type": "code",
   "execution_count": null,
   "id": "191c39c2-48be-4bd4-9414-cb1f9a24efdb",
   "metadata": {},
   "outputs": [],
   "source": [
    "test_df.to_parquet(\"신용카드데이터_test.parquet\", index=False)"
   ]
  },
  {
   "cell_type": "code",
   "execution_count": null,
   "id": "a910009f-5af3-4916-9d3f-45d0caf271d4",
   "metadata": {},
   "outputs": [],
   "source": [
    "# ID랑 기준년월 Drop\n",
    "test_df = train_df.drop(['ID', '기준년월'], axis=1)"
   ]
  },
  {
   "cell_type": "markdown",
   "id": "b45b5c75-fa4c-47ce-930b-c5f8bc4008a8",
   "metadata": {
    "jp-MarkdownHeadingCollapsed": true
   },
   "source": [
    "### 데이터 인코딩"
   ]
  },
  {
   "cell_type": "code",
   "execution_count": null,
   "id": "24d5f88b-f9ec-4c46-ab81-19ab0d3e938f",
   "metadata": {},
   "outputs": [],
   "source": [
    "# 컬럼들을 리스트에 담아 확인한다\n",
    "column_list = train_df.columns.tolist()\n",
    "column_list"
   ]
  },
  {
   "cell_type": "code",
   "execution_count": null,
   "id": "7e437ad5-99a4-46bb-86f0-bf656c10777e",
   "metadata": {},
   "outputs": [],
   "source": [
    "# ID랑 기준년월 Drop\n",
    "train_df = train_df.drop(['소지카드수_이용가능_신용', '소지카드수_유효_신용'], axis=1)"
   ]
  },
  {
   "cell_type": "code",
   "execution_count": null,
   "id": "8e64e659-c14f-4490-b62c-6ff0cd8552ee",
   "metadata": {},
   "outputs": [],
   "source": [
    "# 컬럼들을 리스트에 담아 확인한다\n",
    "column_list = train_df.columns.tolist()\n",
    "column_list"
   ]
  },
  {
   "cell_type": "code",
   "execution_count": null,
   "id": "90e5a1a3-ead7-4112-8428-0fe7d839b9ab",
   "metadata": {},
   "outputs": [],
   "source": [
    "train_df['이용금액대'] = train_df['이용금액대'].factorize()[0]\n",
    "train_df['상향가능한도금액'] = train_df['상향가능한도금액'].factorize()[0]\n",
    "train_df['상향가능CA한도금액'] = train_df['상향가능CA한도금액'].factorize()[0]\n",
    "train_df['보유여부_해외겸용_본인'] = train_df['보유여부_해외겸용_본인'].factorize()[0]\n",
    "train_df['이용가능여부_해외겸용_본인'] = train_df['이용가능여부_해외겸용_본인'].factorize()[0]\n",
    "train_df['할인건수_R3M'] = train_df['할인건수_R3M'].factorize()[0]\n",
    "train_df['인입횟수_ARS_R6M'] = train_df['인입횟수_ARS_R6M'].factorize()[0]\n",
    "train_df['수신거부여부_TM'] = train_df['수신거부여부_TM'].factorize()[0]\n",
    "train_df['수신거부여부_메일'] = train_df['수신거부여부_메일'].factorize()[0]\n",
    "train_df['수신거부여부_DM'] = train_df['수신거부여부_DM'].factorize()[0]"
   ]
  },
  {
   "cell_type": "code",
   "execution_count": null,
   "id": "393a5132-ee80-4f6d-b233-d3b437f092b7",
   "metadata": {},
   "outputs": [],
   "source": [
    "train_df['상향가능CA한도금액'].value_counts()"
   ]
  },
  {
   "cell_type": "code",
   "execution_count": null,
   "id": "bc51346c-4d75-406d-b501-4b5099819957",
   "metadata": {},
   "outputs": [],
   "source": []
  },
  {
   "cell_type": "code",
   "execution_count": null,
   "id": "76b3b17b-5242-453d-aa2d-47fbe1811399",
   "metadata": {},
   "outputs": [],
   "source": []
  },
  {
   "cell_type": "code",
   "execution_count": null,
   "id": "df14e748-003e-4159-98fe-5d64ce5e84df",
   "metadata": {},
   "outputs": [],
   "source": []
  },
  {
   "cell_type": "code",
   "execution_count": null,
   "id": "29c8d223-0e1b-453f-817c-0e978ecc32ce",
   "metadata": {},
   "outputs": [],
   "source": []
  }
 ],
 "metadata": {
  "kernelspec": {
   "display_name": "Python 3 (ipykernel)",
   "language": "python",
   "name": "python3"
  },
  "language_info": {
   "codemirror_mode": {
    "name": "ipython",
    "version": 3
   },
   "file_extension": ".py",
   "mimetype": "text/x-python",
   "name": "python",
   "nbconvert_exporter": "python",
   "pygments_lexer": "ipython3",
   "version": "3.12.7"
  }
 },
 "nbformat": 4,
 "nbformat_minor": 5
}

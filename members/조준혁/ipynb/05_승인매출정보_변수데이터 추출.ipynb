{
 "cells": [
  {
   "cell_type": "code",
   "execution_count": 9,
   "id": "f785c171-7439-4a31-87c9-f4f080eb4b95",
   "metadata": {},
   "outputs": [],
   "source": [
    "# 기본\n",
    "import pandas as pd  # 데이터프레임 처리\n",
    "import numpy as np  # 수치 계산\n",
    "import matplotlib.pyplot as plt  # 데이터 시각화\n",
    "import seaborn as sns  # 고급 시각화\n",
    "\n",
    "# 경고 뜨지 않게 설정\n",
    "import warnings  # 경고 무시 설정\n",
    "warnings.filterwarnings('ignore')\n",
    "\n",
    "# 그래프 설정\n",
    "sns.set()\n",
    "\n",
    "# 그래프 기본 설정\n",
    "plt.rcParams['font.family'] = 'Malgun Gothic'  # 한글 폰트 설정\n",
    "# plt.rcParams['font.family'] = 'AppleGothic'\n",
    "plt.rcParams['figure.figsize'] = 12, 6  # 그래프 크기 설정\n",
    "plt.rcParams['font.size'] = 14  # 글자 크기\n",
    "plt.rcParams['axes.unicode_minus'] = False  # 마이너스 깨짐 방지\n"
   ]
  },
  {
   "cell_type": "markdown",
   "id": "d1248a6a-1627-4415-95df-d96477b47b2c",
   "metadata": {},
   "source": [
    "### 데이터 준비"
   ]
  },
  {
   "cell_type": "code",
   "execution_count": 11,
   "id": "67269a7d-a431-4a49-bc10-e7a09ff97b63",
   "metadata": {},
   "outputs": [],
   "source": [
    "# parquet 파일 데이터를 읽어온다.\n",
    "df1_train = pd.read_parquet('open/train/3.승인매출정보/201807_train_승인매출정보.parquet')\n",
    "df2_train = pd.read_parquet('open/train/3.승인매출정보/201808_train_승인매출정보.parquet')\n",
    "df3_train = pd.read_parquet('open/train/3.승인매출정보/201809_train_승인매출정보.parquet')\n",
    "df4_train = pd.read_parquet('open/train/3.승인매출정보/201810_train_승인매출정보.parquet')\n",
    "df5_train = pd.read_parquet('open/train/3.승인매출정보/201811_train_승인매출정보.parquet')\n",
    "df6_train = pd.read_parquet('open/train/3.승인매출정보/201812_train_승인매출정보.parquet')"
   ]
  },
  {
   "cell_type": "code",
   "execution_count": 12,
   "id": "914c3fe7-b257-41a5-a414-fe70d7802147",
   "metadata": {},
   "outputs": [],
   "source": [
    "\n",
    "columns = [\n",
    "    '기준년월', 'ID',\n",
    "    '정상청구원금_B5M', '정상청구원금_B0M', '정상청구원금_B2M',\n",
    "    '이용금액_일시불_R12M', '이용금액_일시불_B0M', '이용금액_오프라인_B0M',\n",
    "    '이용금액_일시불_R6M', '이용금액_일시불_R3M', '정상입금원금_B5M',\n",
    "    '정상입금원금_B0M', '이용금액_오프라인_R3M', '이용금액_오프라인_R6M',\n",
    "    '정상입금원금_B2M', '_3순위업종_이용금액', '_2순위업종_이용금액',\n",
    "    '이용건수_신용_R12M', '_2순위쇼핑업종_이용금액', '최대이용금액_일시불_R12M',\n",
    "    '이용건수_신판_R12M', '이용건수_일시불_R12M', '_1순위업종_이용금액',\n",
    "    '_3순위쇼핑업종_이용금액', '이용가맹점수', '이용건수_오프라인_B0M',\n",
    "    '이용건수_오프라인_R6M', '이용건수_오프라인_R3M', '쇼핑_도소매_이용금액',\n",
    "    '이용건수_신용_R6M', '이용건수_신용_B0M', '이용건수_신용_R3M',\n",
    "    '이용건수_신판_R6M', '이용건수_신판_B0M', '이용건수_신판_R3M',\n",
    "    '이용건수_일시불_R6M', '이용건수_일시불_B0M', '이용건수_일시불_R3M',\n",
    "    '_1순위교통업종_이용금액', '연체입금원금_B0M', '쇼핑_마트_이용금액',\n",
    "    '쇼핑_슈퍼마켓_이용금액', '교통_주유이용금액', '이용금액_온라인_B0M',\n",
    "    '연체입금원금_B5M', '연체입금원금_B2M', '이용금액_페이_온라인_B0M',\n",
    "    '_1순위쇼핑업종_이용금액', '연속유실적개월수_기본_24M_카드', '이용금액대'\n",
    "]\n"
   ]
  },
  {
   "cell_type": "code",
   "execution_count": 13,
   "id": "002182fd-8944-42fd-aae4-6cb09433f8f0",
   "metadata": {},
   "outputs": [],
   "source": [
    "df1_train = df1_train[columns]\n",
    "df2_train = df2_train[columns]\n",
    "df3_train = df3_train[columns]\n",
    "df4_train = df4_train[columns]\n",
    "df5_train = df5_train[columns]\n",
    "df6_train = df6_train[columns]"
   ]
  },
  {
   "cell_type": "code",
   "execution_count": 14,
   "id": "22542f3f-858b-4259-8e31-f101e420d220",
   "metadata": {},
   "outputs": [],
   "source": [
    "all_df = pd.concat([df1_train, df2_train, df3_train, df4_train, df5_train, df6_train], axis=0, ignore_index=True)"
   ]
  },
  {
   "cell_type": "code",
   "execution_count": 15,
   "id": "dc9ef3b1-89d1-419e-a1e2-70bee014c0c3",
   "metadata": {},
   "outputs": [
    {
     "data": {
      "text/plain": [
       "Index(['기준년월', 'ID', '정상청구원금_B5M', '정상청구원금_B0M', '정상청구원금_B2M', '이용금액_일시불_R12M',\n",
       "       '이용금액_일시불_B0M', '이용금액_오프라인_B0M', '이용금액_일시불_R6M', '이용금액_일시불_R3M',\n",
       "       '정상입금원금_B5M', '정상입금원금_B0M', '이용금액_오프라인_R3M', '이용금액_오프라인_R6M',\n",
       "       '정상입금원금_B2M', '_3순위업종_이용금액', '_2순위업종_이용금액', '이용건수_신용_R12M',\n",
       "       '_2순위쇼핑업종_이용금액', '최대이용금액_일시불_R12M', '이용건수_신판_R12M', '이용건수_일시불_R12M',\n",
       "       '_1순위업종_이용금액', '_3순위쇼핑업종_이용금액', '이용가맹점수', '이용건수_오프라인_B0M',\n",
       "       '이용건수_오프라인_R6M', '이용건수_오프라인_R3M', '쇼핑_도소매_이용금액', '이용건수_신용_R6M',\n",
       "       '이용건수_신용_B0M', '이용건수_신용_R3M', '이용건수_신판_R6M', '이용건수_신판_B0M',\n",
       "       '이용건수_신판_R3M', '이용건수_일시불_R6M', '이용건수_일시불_B0M', '이용건수_일시불_R3M',\n",
       "       '_1순위교통업종_이용금액', '연체입금원금_B0M', '쇼핑_마트_이용금액', '쇼핑_슈퍼마켓_이용금액',\n",
       "       '교통_주유이용금액', '이용금액_온라인_B0M', '연체입금원금_B5M', '연체입금원금_B2M',\n",
       "       '이용금액_페이_온라인_B0M', '_1순위쇼핑업종_이용금액', '연속유실적개월수_기본_24M_카드', '이용금액대'],\n",
       "      dtype='object')"
      ]
     },
     "execution_count": 15,
     "metadata": {},
     "output_type": "execute_result"
    }
   ],
   "source": [
    "all_df.columns"
   ]
  },
  {
   "cell_type": "code",
   "execution_count": 16,
   "id": "4c9c6d82-bef4-4eb1-9ace-13fabb5a77de",
   "metadata": {},
   "outputs": [
    {
     "name": "stdout",
     "output_type": "stream",
     "text": [
      "50\n"
     ]
    }
   ],
   "source": [
    "print(len(all_df.columns))"
   ]
  },
  {
   "cell_type": "code",
   "execution_count": 21,
   "id": "fb376b43-aff0-4a30-bb55-0f8685e79b81",
   "metadata": {},
   "outputs": [],
   "source": [
    "all_df.to_parquet(\"승인매출정보_변수추출_1차.parquet\", index=False)"
   ]
  },
  {
   "cell_type": "code",
   "execution_count": null,
   "id": "961e0430-edd5-49b1-8d79-a2b58b538218",
   "metadata": {},
   "outputs": [],
   "source": []
  },
  {
   "cell_type": "code",
   "execution_count": null,
   "id": "19827392-cb33-4eba-8a62-a980f6630eb0",
   "metadata": {},
   "outputs": [],
   "source": []
  },
  {
   "cell_type": "code",
   "execution_count": null,
   "id": "3c441c22-871d-4dfa-8ce2-8e1feb0759a3",
   "metadata": {},
   "outputs": [],
   "source": []
  }
 ],
 "metadata": {
  "kernelspec": {
   "display_name": "Python 3 (ipykernel)",
   "language": "python",
   "name": "python3"
  },
  "language_info": {
   "codemirror_mode": {
    "name": "ipython",
    "version": 3
   },
   "file_extension": ".py",
   "mimetype": "text/x-python",
   "name": "python",
   "nbconvert_exporter": "python",
   "pygments_lexer": "ipython3",
   "version": "3.12.7"
  }
 },
 "nbformat": 4,
 "nbformat_minor": 5
}

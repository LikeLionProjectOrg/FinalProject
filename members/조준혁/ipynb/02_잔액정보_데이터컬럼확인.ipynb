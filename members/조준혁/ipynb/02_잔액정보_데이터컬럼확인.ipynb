{
 "cells": [
  {
   "cell_type": "code",
   "execution_count": 2,
   "id": "ff473ea3-b700-4101-9f2b-f53e64ebf962",
   "metadata": {},
   "outputs": [],
   "source": [
    "# 기본\n",
    "import pandas as pd  # 데이터프레임 처리\n",
    "import numpy as np  # 수치 계산\n",
    "import matplotlib.pyplot as plt  # 데이터 시각화\n",
    "import seaborn as sns  # 고급 시각화\n",
    "\n",
    "# 경고 뜨지 않게 설정\n",
    "import warnings  # 경고 무시 설정\n",
    "warnings.filterwarnings('ignore')\n",
    "\n",
    "# 그래프 설정\n",
    "sns.set()\n",
    "\n",
    "# 그래프 기본 설정\n",
    "plt.rcParams['font.family'] = 'Malgun Gothic'  # 한글 폰트 설정\n",
    "# plt.rcParams['font.family'] = 'AppleGothic'\n",
    "plt.rcParams['figure.figsize'] = 12, 6  # 그래프 크기 설정\n",
    "plt.rcParams['font.size'] = 14  # 글자 크기\n",
    "plt.rcParams['axes.unicode_minus'] = False  # 마이너스 깨짐 방지\n"
   ]
  },
  {
   "cell_type": "markdown",
   "id": "3f13cfaf-cc2e-44a2-9eb0-adcb68694727",
   "metadata": {},
   "source": [
    "### 데이터 준비"
   ]
  },
  {
   "cell_type": "code",
   "execution_count": 59,
   "id": "f4d7f134-e0ab-447b-be7c-f5aeeccf0ed0",
   "metadata": {},
   "outputs": [],
   "source": [
    "# parquet 파일 데이터를 읽어온다.\n",
    "# x 값으로 쓸 데이터 \n",
    "df1_train = pd.read_parquet('open/train/5.잔액정보/201807_train_잔액정보.parquet')\n",
    "df2_train = pd.read_parquet('open/train/5.잔액정보/201808_train_잔액정보.parquet')\n",
    "df3_train = pd.read_parquet('open/train/5.잔액정보/201809_train_잔액정보.parquet')\n",
    "df4_train = pd.read_parquet('open/train/5.잔액정보/201810_train_잔액정보.parquet')\n",
    "df5_train = pd.read_parquet('open/train/5.잔액정보/201811_train_잔액정보.parquet')\n",
    "df6_train = pd.read_parquet('open/train/5.잔액정보/201812_train_잔액정보.parquet')"
   ]
  },
  {
   "cell_type": "code",
   "execution_count": 61,
   "id": "9b2f48c2-1bb3-4b98-bba1-f29089e978e1",
   "metadata": {},
   "outputs": [],
   "source": [
    "combined_df = pd.concat([df1_train, df2_train, df3_train, df4_train, df5_train, df6_train], \n",
    "                         axis=0,        # 행 방향\n",
    "                         ignore_index=True)  # 인덱스 초기화"
   ]
  },
  {
   "cell_type": "code",
   "execution_count": 63,
   "id": "298cb705-a7d6-4ec8-8de5-3d0b14e8a6d3",
   "metadata": {
    "scrolled": true
   },
   "outputs": [
    {
     "name": "stdout",
     "output_type": "stream",
     "text": [
      "기준년월                       0\n",
      "ID                         0\n",
      "잔액_일시불_B0M                 0\n",
      "잔액_할부_B0M                  0\n",
      "잔액_현금서비스_B0M               0\n",
      "잔액_리볼빙일시불이월_B0M            0\n",
      "잔액_리볼빙CA이월_B0M             0\n",
      "잔액_카드론_B0M                 0\n",
      "월중평잔_일시불_B0M               0\n",
      "월중평잔_할부_B0M                0\n",
      "월중평잔_CA_B0M                0\n",
      "카드론잔액_최종경과월                0\n",
      "연체일자_B0M             2394336\n",
      "연체잔액_B0M                   0\n",
      "연체잔액_일시불_B0M               0\n",
      "연체잔액_할부_B0M                0\n",
      "연체잔액_현금서비스_B0M             0\n",
      "연체잔액_카드론_B0M               0\n",
      "연체잔액_대환론_B0M               0\n",
      "잔액_현금서비스_B1M               0\n",
      "잔액_현금서비스_B2M               0\n",
      "잔액_카드론_B1M                 0\n",
      "잔액_카드론_B2M                 0\n",
      "잔액_카드론_B3M                 0\n",
      "잔액_카드론_B4M                 0\n",
      "잔액_카드론_B5M                 0\n",
      "잔액_할부_B1M                  0\n",
      "잔액_할부_B2M                  0\n",
      "잔액_일시불_B1M                 0\n",
      "잔액_일시불_B2M                 0\n",
      "연체일수_B1M                   0\n",
      "연체일수_B2M                   0\n",
      "연체원금_B1M                   0\n",
      "연체원금_B2M                   0\n",
      "연체일수_최근                    0\n",
      "연체원금_최근                    0\n",
      "최종연체회차                     0\n",
      "매각잔액_B1M                   0\n",
      "최종연체개월수_R15M               0\n",
      "RV_평균잔액_R12M               0\n",
      "RV_최대잔액_R12M               0\n",
      "RV_평균잔액_R6M                0\n",
      "RV_최대잔액_R6M                0\n",
      "RV_평균잔액_R3M                0\n",
      "RV_최대잔액_R3M                0\n",
      "RV잔액이월횟수_R6M               0\n",
      "RV잔액이월횟수_R3M               0\n",
      "잔액_할부_유이자_B0M              0\n",
      "잔액_할부_무이자_B0M              0\n",
      "잔액_할부_해외_B0M               0\n",
      "연체잔액_일시불_해외_B0M            0\n",
      "연체잔액_RV일시불_B0M             0\n",
      "연체잔액_RV일시불_해외_B0M          0\n",
      "연체잔액_할부_해외_B0M             0\n",
      "연체잔액_CA_B0M                0\n",
      "연체잔액_CA_해외_B0M             0\n",
      "월중평잔                       0\n",
      "월중평잔_일시불                   0\n",
      "월중평잔_RV일시불                 0\n",
      "월중평잔_할부                    0\n",
      "월중평잔_CA                    0\n",
      "월중평잔_카드론                   0\n",
      "평잔_3M                      0\n",
      "평잔_일시불_3M                  0\n",
      "평잔_일시불_해외_3M               0\n",
      "평잔_RV일시불_3M                0\n",
      "평잔_RV일시불_해외_3M             0\n",
      "평잔_할부_3M                   0\n",
      "평잔_할부_해외_3M                0\n",
      "평잔_CA_3M                   0\n",
      "평잔_CA_해외_3M                0\n",
      "평잔_카드론_3M                  0\n",
      "평잔_6M                      0\n",
      "평잔_일시불_6M                  0\n",
      "평잔_일시불_해외_6M               0\n",
      "평잔_RV일시불_6M                0\n",
      "평잔_RV일시불_해외_6M             0\n",
      "평잔_할부_6M                   0\n",
      "평잔_할부_해외_6M                0\n",
      "평잔_CA_6M                   0\n",
      "평잔_CA_해외_6M                0\n",
      "평잔_카드론_6M                  0\n"
     ]
    }
   ],
   "source": [
    "print(combined_df.isna().sum().to_string())"
   ]
  },
  {
   "cell_type": "code",
   "execution_count": 65,
   "id": "0766309c-e6af-469d-9f05-fc52e8683eb1",
   "metadata": {},
   "outputs": [],
   "source": [
    "all_df = combined_df"
   ]
  },
  {
   "cell_type": "code",
   "execution_count": 67,
   "id": "ab7f924f-fd05-4c3e-8781-3aee4b737f21",
   "metadata": {},
   "outputs": [],
   "source": [
    "# 데이터프레임의 컬럼 이름을 리스트에 담는다. \n",
    "column_list = all_df.columns.tolist()"
   ]
  },
  {
   "cell_type": "code",
   "execution_count": 69,
   "id": "70cca4f4-abdc-422d-83bc-c92c36796e8c",
   "metadata": {},
   "outputs": [
    {
     "name": "stdout",
     "output_type": "stream",
     "text": [
      "기준년월: 2.92\n",
      "❌ 분산 계산 불가 (문자열 포함): ID\n",
      "잔액_일시불_B0M: 41318623.10\n",
      "잔액_할부_B0M: 10610047.01\n",
      "잔액_현금서비스_B0M: 13239686.58\n",
      "잔액_리볼빙일시불이월_B0M: 4765789.02\n",
      "잔액_리볼빙CA이월_B0M: 169078.21\n",
      "잔액_카드론_B0M: 136220279.12\n",
      "월중평잔_일시불_B0M: 50385002.96\n",
      "월중평잔_할부_B0M: 25834298.20\n",
      "월중평잔_CA_B0M: 16644408.66\n",
      "카드론잔액_최종경과월: 0.00\n",
      "연체일자_B0M: 25902.46\n",
      "연체잔액_B0M: 81358.66\n",
      "연체잔액_일시불_B0M: 1918.63\n",
      "연체잔액_할부_B0M: 6653.29\n",
      "연체잔액_현금서비스_B0M: 34806.29\n",
      "연체잔액_카드론_B0M: 4919.21\n",
      "연체잔액_대환론_B0M: 1876.35\n",
      "잔액_현금서비스_B1M: 17493635.48\n",
      "잔액_현금서비스_B2M: 17090472.40\n",
      "잔액_카드론_B1M: 163221885.21\n",
      "잔액_카드론_B2M: 167361531.73\n",
      "잔액_카드론_B3M: 169694501.57\n",
      "잔액_카드론_B4M: 170834139.42\n",
      "잔액_카드론_B5M: 174951439.76\n",
      "잔액_할부_B1M: 28570364.72\n",
      "잔액_할부_B2M: 32349219.41\n",
      "잔액_일시불_B1M: 54850890.69\n",
      "잔액_일시불_B2M: 54880103.89\n",
      "연체일수_B1M: 102457105802.76\n",
      "연체일수_B2M: 105880896194.46\n",
      "연체원금_B1M: 115320.15\n",
      "연체원금_B2M: 129771.31\n",
      "연체일수_최근: 15525723595.28\n",
      "연체원금_최근: 93570.52\n",
      "최종연체회차: 2180.39\n",
      "매각잔액_B1M: 909.02\n",
      "최종연체개월수_R15M: 0.00\n",
      "RV_평균잔액_R12M: 10115801.80\n",
      "RV_최대잔액_R12M: 16336593.94\n",
      "RV_평균잔액_R6M: 6844361.14\n",
      "RV_최대잔액_R6M: 9734519.88\n",
      "RV_평균잔액_R3M: 5942983.84\n",
      "RV_최대잔액_R3M: 7573088.61\n",
      "RV잔액이월횟수_R6M: 0.00\n",
      "RV잔액이월횟수_R3M: 0.00\n",
      "잔액_할부_유이자_B0M: 2246397.68\n",
      "잔액_할부_무이자_B0M: 6605254.49\n",
      "잔액_할부_해외_B0M: 7960.13\n",
      "연체잔액_일시불_해외_B0M: 0.00\n",
      "연체잔액_RV일시불_B0M: 30.73\n",
      "연체잔액_RV일시불_해외_B0M: 0.00\n",
      "연체잔액_할부_해외_B0M: 0.00\n",
      "연체잔액_CA_B0M: 34410.84\n",
      "연체잔액_CA_해외_B0M: 0.00\n",
      "월중평잔: 702702920.39\n",
      "월중평잔_일시불: 48494141.23\n",
      "월중평잔_RV일시불: 20059469.13\n",
      "월중평잔_할부: 27771314.99\n",
      "월중평잔_CA: 16162675.25\n",
      "월중평잔_카드론: 152231062.15\n",
      "평잔_3M: 797241030.16\n",
      "평잔_일시불_3M: 54800611.61\n",
      "평잔_일시불_해외_3M: 17385.41\n",
      "평잔_RV일시불_3M: 25619989.67\n",
      "평잔_RV일시불_해외_3M: 4924.13\n",
      "평잔_할부_3M: 39882257.80\n",
      "평잔_할부_해외_3M: 15957.12\n",
      "평잔_CA_3M: 25023338.49\n",
      "평잔_CA_해외_3M: 221.58\n",
      "평잔_카드론_3M: 208401002.14\n",
      "평잔_6M: 881674613.11\n",
      "평잔_일시불_6M: 53349227.87\n",
      "평잔_일시불_해외_6M: 17823.68\n",
      "평잔_RV일시불_6M: 25544065.56\n",
      "평잔_RV일시불_해외_6M: 3809.53\n",
      "평잔_할부_6M: 51486321.56\n",
      "평잔_할부_해외_6M: 1951.77\n",
      "평잔_CA_6M: 27472294.60\n",
      "평잔_CA_해외_6M: 321.54\n",
      "평잔_카드론_6M: 243369006.62\n"
     ]
    }
   ],
   "source": [
    "for col in column_list:\n",
    "    try:\n",
    "        var_value = all_df[col].var()\n",
    "        print(f\"{col}: {var_value:.2f}\")\n",
    "    except TypeError:\n",
    "        print(f\"❌ 분산 계산 불가 (문자열 포함): {col}\")"
   ]
  },
  {
   "cell_type": "code",
   "execution_count": 71,
   "id": "caa43db8-3419-46ab-a870-cdcbb37e7026",
   "metadata": {},
   "outputs": [],
   "source": [
    "def print_value_counts(df, columns=None, dropna=False):\n",
    "\n",
    "    if columns is None:\n",
    "        columns = df.columns.tolist()\n",
    "    \n",
    "    for col in columns:\n",
    "        print(f\"\\n[🔢 Value Counts for '{col}']\\n\")\n",
    "        print(df[col].value_counts(dropna=dropna))"
   ]
  },
  {
   "cell_type": "code",
   "execution_count": 73,
   "id": "de8afda1-d35e-4e38-afde-d9ddc8548ea7",
   "metadata": {},
   "outputs": [
    {
     "name": "stdout",
     "output_type": "stream",
     "text": [
      "📌 분산이 0인 컬럼:\n",
      "카드론잔액_최종경과월\n",
      "최종연체개월수_R15M\n",
      "RV잔액이월횟수_R6M\n",
      "RV잔액이월횟수_R3M\n",
      "연체잔액_일시불_해외_B0M\n",
      "연체잔액_RV일시불_해외_B0M\n",
      "연체잔액_할부_해외_B0M\n",
      "연체잔액_CA_해외_B0M\n"
     ]
    }
   ],
   "source": [
    "zero_variance_cols  = []\n",
    "# 각 컬럼별 분산 계산\n",
    "for col in column_list:\n",
    "    try:\n",
    "        var_value = all_df[col].var()\n",
    "        if var_value == 0:\n",
    "            zero_variance_cols.append(col)\n",
    "    except TypeError:\n",
    "        # 숫자형이 아닌 경우 무시\n",
    "        pass\n",
    "\n",
    "# 결과 출력\n",
    "print(\"📌 분산이 0인 컬럼:\")\n",
    "for col in zero_variance_cols:\n",
    "    print(f\"{col}\")"
   ]
  },
  {
   "cell_type": "code",
   "execution_count": 75,
   "id": "1fce0475-963a-463f-a7ff-a6d083a8ed95",
   "metadata": {},
   "outputs": [
    {
     "name": "stdout",
     "output_type": "stream",
     "text": [
      "\n",
      "[🔢 Value Counts for '카드론잔액_최종경과월']\n",
      "\n",
      "카드론잔액_최종경과월\n",
      "0    2400000\n",
      "Name: count, dtype: int64\n",
      "\n",
      "[🔢 Value Counts for '최종연체개월수_R15M']\n",
      "\n",
      "최종연체개월수_R15M\n",
      "0    2400000\n",
      "Name: count, dtype: int64\n",
      "\n",
      "[🔢 Value Counts for 'RV잔액이월횟수_R6M']\n",
      "\n",
      "RV잔액이월횟수_R6M\n",
      "0    2400000\n",
      "Name: count, dtype: int64\n",
      "\n",
      "[🔢 Value Counts for 'RV잔액이월횟수_R3M']\n",
      "\n",
      "RV잔액이월횟수_R3M\n",
      "0    2400000\n",
      "Name: count, dtype: int64\n",
      "\n",
      "[🔢 Value Counts for '연체잔액_일시불_해외_B0M']\n",
      "\n",
      "연체잔액_일시불_해외_B0M\n",
      "0    2400000\n",
      "Name: count, dtype: int64\n",
      "\n",
      "[🔢 Value Counts for '연체잔액_RV일시불_해외_B0M']\n",
      "\n",
      "연체잔액_RV일시불_해외_B0M\n",
      "0    2400000\n",
      "Name: count, dtype: int64\n",
      "\n",
      "[🔢 Value Counts for '연체잔액_할부_해외_B0M']\n",
      "\n",
      "연체잔액_할부_해외_B0M\n",
      "0    2400000\n",
      "Name: count, dtype: int64\n",
      "\n",
      "[🔢 Value Counts for '연체잔액_CA_해외_B0M']\n",
      "\n",
      "연체잔액_CA_해외_B0M\n",
      "0    2400000\n",
      "Name: count, dtype: int64\n"
     ]
    }
   ],
   "source": [
    "print_value_counts(all_df, columns=zero_variance_cols)"
   ]
  },
  {
   "cell_type": "code",
   "execution_count": null,
   "id": "b11d7f5d-336e-408e-935c-4d3e32a02ad1",
   "metadata": {},
   "outputs": [],
   "source": [
    "10/0"
   ]
  },
  {
   "cell_type": "code",
   "execution_count": null,
   "id": "732583c6-6195-49b6-a795-679326eeade9",
   "metadata": {},
   "outputs": [],
   "source": [
    "print(column_list)"
   ]
  },
  {
   "cell_type": "code",
   "execution_count": null,
   "id": "f8484ecb-dbfe-40c6-b6d8-bf4f898e0e1f",
   "metadata": {},
   "outputs": [],
   "source": [
    "column_list = column_list[2:]"
   ]
  },
  {
   "cell_type": "code",
   "execution_count": null,
   "id": "6ca5097e-2ae8-4172-8f58-dd4ca114a233",
   "metadata": {},
   "outputs": [],
   "source": [
    "print(column_list)"
   ]
  },
  {
   "cell_type": "code",
   "execution_count": null,
   "id": "6fccdf35-8d9c-4eac-bd84-ac2e500b561a",
   "metadata": {},
   "outputs": [],
   "source": [
    "### 컬럼의 정보를 알아보는 함수를 만든다. \n",
    "\n",
    "def analyze_column(col):\n",
    "    # 1. 값의 분포 출력\n",
    "    print(f\"\\n[📊 Value Counts for '{col}']\\n\")\n",
    "    print(all_df[col].value_counts(dropna=False))  # 결측값도 포함\n",
    "\n",
    "    # 2. 히스토그램\n",
    "    print(f\"\\n[📈 Histogram for '{col}']\\n\")\n",
    "    plt.figure(figsize=(10, 4))\n",
    "    sns.histplot(data=all_df, x=col, kde=True, bins=30)\n",
    "    plt.title(f\"Histogram of {col}\")\n",
    "    plt.xlabel(col)\n",
    "    plt.ylabel(\"Frequency\")\n",
    "    plt.grid(True)\n",
    "    plt.show()\n",
    "\n",
    "    # 3. 박스플롯\n",
    "    print(f\"\\n[📦 Boxplot for '{col}']\\n\")\n",
    "    plt.figure(figsize=(10, 2))\n",
    "    sns.boxplot(data=all_df, x=col)\n",
    "    plt.title(f\"Boxplot of {col}\")\n",
    "    plt.xlabel(col)\n",
    "    plt.grid(True)\n",
    "    plt.show()\n"
   ]
  },
  {
   "cell_type": "code",
   "execution_count": null,
   "id": "3cfd815c-0b08-47e9-9624-e001d871c6ac",
   "metadata": {
    "scrolled": true
   },
   "outputs": [],
   "source": [
    "# 컬럼 하나하나 반복해서 출력하게 해준다.\n",
    "for a1 in column_list:\n",
    "    analyze_column(f\"{a1}\")\n",
    "    print('-' * 150)\n",
    "    print('-' * 150)\n",
    "    print('-' * 150)\n",
    "    print('-' * 150)"
   ]
  },
  {
   "cell_type": "markdown",
   "id": "b5345f42-d769-4e83-a5a4-486d89c4cb28",
   "metadata": {},
   "source": []
  },
  {
   "cell_type": "markdown",
   "id": "e79b6707-72db-4e4b-84fd-8d7e38d7734b",
   "metadata": {},
   "source": []
  },
  {
   "cell_type": "markdown",
   "id": "cd58d224-dff3-4361-95d9-1b0e19f08001",
   "metadata": {},
   "source": []
  },
  {
   "cell_type": "code",
   "execution_count": null,
   "id": "403b50db-2d5a-44d2-b8cc-0025799be7c7",
   "metadata": {},
   "outputs": [],
   "source": []
  }
 ],
 "metadata": {
  "kernelspec": {
   "display_name": "Python 3 (ipykernel)",
   "language": "python",
   "name": "python3"
  },
  "language_info": {
   "codemirror_mode": {
    "name": "ipython",
    "version": 3
   },
   "file_extension": ".py",
   "mimetype": "text/x-python",
   "name": "python",
   "nbconvert_exporter": "python",
   "pygments_lexer": "ipython3",
   "version": "3.12.7"
  }
 },
 "nbformat": 4,
 "nbformat_minor": 5
}

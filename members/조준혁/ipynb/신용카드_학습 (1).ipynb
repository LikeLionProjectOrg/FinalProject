{
  "cells": [
    {
      "cell_type": "markdown",
      "id": "d85c962e-cbe7-44f5-bfd4-5d9263ab6d3d",
      "metadata": {
        "id": "d85c962e-cbe7-44f5-bfd4-5d9263ab6d3d"
      },
      "source": [
        "# 부스팅(Boosting)\n",
        "- 기본적으로는 랜덤 포래스트와 유사한다.\n",
        "- 다른 점은 각 트리들이 던지는 답의 오차들을 보정할 수 있도록 오차 함수가 존재한다.\n",
        "- 이를 통해 성능을 끌어 올린다.\n",
        "- 너어어어어어어어어어어어어어어무 오래걸려요.ㅠㅠ(차라리 딥러닝을 쓰고 말지.ㅠㅠㅠㅠ)\n",
        "\n",
        "### 라이브러리 설치\n",
        "- pip install xgboost\n",
        "- pip install lightgbm\n"
      ]
    },
    {
      "cell_type": "raw",
      "id": "b8e28534-d907-43d0-bdce-ef142d457ca5",
      "metadata": {
        "id": "b8e28534-d907-43d0-bdce-ef142d457ca5"
      },
      "source": [
        "# XGBoost만 써도 됨\n",
        "하이퍼파라미터 다 필요없음\n",
        "GPU쓰는법\n",
        "\n",
        "start = time.time()\n",
        "model4 = XGBClassifier(tree_method='hist', device='cuda')\n",
        "\n",
        "# 교차 검증\n",
        "kfold = KFold(n_splits=10, shuffle=True, random_state=1)\n",
        "r1 = cross_val_score(model4, train_X, train_y, scoring='f1', cv=kfold)\n",
        "print(f'평균 f1 Score : {r1.mean()}')\n",
        "\n",
        "print(f\"{time.time()-start:.4f} sec\")"
      ]
    },
    {
      "cell_type": "code",
      "execution_count": 1,
      "id": "2f68eb58-5611-427a-aef1-ef0d39893b7a",
      "metadata": {
        "id": "2f68eb58-5611-427a-aef1-ef0d39893b7a"
      },
      "outputs": [],
      "source": [
        "# 기본\n",
        "\n",
        "import pandas as pd\n",
        "import numpy as np\n",
        "import matplotlib.pyplot as plt\n",
        "import seaborn as sns\n",
        "\n",
        "# 경고 뜨지 않게 설정\n",
        "import warnings\n",
        "warnings.filterwarnings('ignore')\n",
        "\n",
        "# 그래프 설정\n",
        "sns.set()\n",
        "\n",
        "# 그래프 기본 설정\n",
        "plt.rcParams['font.family'] = 'Malgun Gothic'\n",
        "# plt.rcParams['font.family'] = 'AppleGothic'\n",
        "plt.rcParams['figure.figsize'] = 12, 6\n",
        "plt.rcParams['font.size'] = 14\n",
        "plt.rcParams['axes.unicode_minus'] = False\n",
        "\n",
        "# 데이터 전처리 알고리즘\n",
        "from sklearn.preprocessing import LabelEncoder\n",
        "from sklearn.preprocessing import StandardScaler\n",
        "\n",
        "# 학습용과 검증용으로 나누는 함수\n",
        "from sklearn.model_selection import train_test_split\n",
        "\n",
        "# 교차 검증\n",
        "from sklearn.model_selection import cross_val_score\n",
        "from sklearn.model_selection import cross_validate\n",
        "from sklearn.model_selection import KFold\n",
        "from sklearn.model_selection import StratifiedKFold\n",
        "\n",
        "# 평가함수\n",
        "# 분류용\n",
        "from sklearn.metrics import accuracy_score\n",
        "from sklearn.metrics import precision_score\n",
        "from sklearn.metrics import recall_score\n",
        "from sklearn.metrics import f1_score\n",
        "from sklearn.metrics import roc_auc_score\n",
        "\n",
        "# 회귀용\n",
        "from sklearn.metrics import r2_score\n",
        "from sklearn.metrics import mean_squared_error\n",
        "\n",
        "# 모델의 최적의 하이퍼 파라미터를 찾기 위한 도구\n",
        "from sklearn.model_selection import GridSearchCV\n",
        "\n",
        "# 머신러닝 알고리즘 - 분류\n",
        "from sklearn.neighbors import KNeighborsClassifier\n",
        "from sklearn.linear_model import LogisticRegression\n",
        "from sklearn.svm import SVC\n",
        "from sklearn.tree import DecisionTreeClassifier\n",
        "from sklearn.ensemble import RandomForestClassifier\n",
        "from sklearn.ensemble import AdaBoostClassifier\n",
        "from sklearn.ensemble import GradientBoostingClassifier\n",
        "from lightgbm import LGBMClassifier\n",
        "from xgboost import XGBClassifier\n",
        "\n",
        "# 머신러닝 알고리즘 - 회귀\n",
        "from sklearn.neighbors import KNeighborsRegressor\n",
        "from sklearn.linear_model import LinearRegression\n",
        "from sklearn.linear_model import Ridge\n",
        "from sklearn.linear_model import Lasso\n",
        "from sklearn.linear_model import ElasticNet\n",
        "from sklearn.svm import SVR\n",
        "from sklearn.tree import DecisionTreeRegressor\n",
        "from sklearn.ensemble import RandomForestRegressor\n",
        "from sklearn.ensemble import AdaBoostRegressor\n",
        "from sklearn.ensemble import GradientBoostingRegressor\n",
        "from lightgbm import LGBMRegressor\n",
        "from xgboost import XGBRegressor"
      ]
    },
    {
      "cell_type": "code",
      "source": [
        "from google.colab import drive\n",
        "drive.mount('/content/drive')"
      ],
      "metadata": {
        "colab": {
          "base_uri": "https://localhost:8080/"
        },
        "id": "2etLk_d2tiLM",
        "outputId": "3710c61d-2d18-4c3c-9d5f-35c39b1aaf43"
      },
      "id": "2etLk_d2tiLM",
      "execution_count": 4,
      "outputs": [
        {
          "output_type": "stream",
          "name": "stdout",
          "text": [
            "Mounted at /content/drive\n"
          ]
        }
      ]
    },
    {
      "cell_type": "markdown",
      "id": "640fe43f-3ac4-4c6d-93fd-ecae2350bfd6",
      "metadata": {
        "id": "640fe43f-3ac4-4c6d-93fd-ecae2350bfd6"
      },
      "source": [
        "### 분류"
      ]
    },
    {
      "cell_type": "code",
      "source": [
        "# 데이터 준비\n",
        "train_df = pd.read_parquet('/content/drive/MyDrive/pca_result20.parquet')\n",
        "test_df = pd.read_parquet('/content/drive/MyDrive/test데이터/test_pca.parquet')\n",
        "target_df = pd.read_csv('/content/drive/MyDrive/Segment.csv')\n",
        "\n",
        "display(train_df.columns)\n",
        "display(test_df.columns)"
      ],
      "metadata": {
        "colab": {
          "base_uri": "https://localhost:8080/",
          "height": 144
        },
        "id": "3rx6PTJcuabH",
        "outputId": "c378ccf1-86c6-4068-b9d8-a185099b4d8c"
      },
      "id": "3rx6PTJcuabH",
      "execution_count": 5,
      "outputs": [
        {
          "output_type": "display_data",
          "data": {
            "text/plain": [
              "Index(['PC1', 'PC2', 'PC3', 'PC4', 'PC5', 'PC6', 'PC7', 'PC8', 'PC9', 'PC10',\n",
              "       'PC11', 'PC12', 'PC13', 'PC14', 'PC15', 'PC16', 'PC17', 'PC18', 'PC19',\n",
              "       'PC20'],\n",
              "      dtype='object')"
            ]
          },
          "metadata": {}
        },
        {
          "output_type": "display_data",
          "data": {
            "text/plain": [
              "Index(['p1', 'p2', 'p3', 'p4', 'p5', 'p6', 'p7', 'p8', 'p9', 'p10', 'p11',\n",
              "       'p12', 'p13', 'p14', 'p15', 'p16', 'p17', 'p18', 'p19', 'p20'],\n",
              "      dtype='object')"
            ]
          },
          "metadata": {}
        }
      ]
    },
    {
      "cell_type": "code",
      "source": [
        "test_df.columns = train_df.columns"
      ],
      "metadata": {
        "id": "LeajE0HICQeL"
      },
      "id": "LeajE0HICQeL",
      "execution_count": 6,
      "outputs": []
    },
    {
      "cell_type": "code",
      "source": [
        "display(train_df.columns)\n",
        "display(test_df.columns)"
      ],
      "metadata": {
        "colab": {
          "base_uri": "https://localhost:8080/",
          "height": 162
        },
        "id": "tJRH8n73CVUM",
        "outputId": "288b4165-f673-43cf-8915-0f8d6988d480"
      },
      "id": "tJRH8n73CVUM",
      "execution_count": 7,
      "outputs": [
        {
          "output_type": "display_data",
          "data": {
            "text/plain": [
              "Index(['PC1', 'PC2', 'PC3', 'PC4', 'PC5', 'PC6', 'PC7', 'PC8', 'PC9', 'PC10',\n",
              "       'PC11', 'PC12', 'PC13', 'PC14', 'PC15', 'PC16', 'PC17', 'PC18', 'PC19',\n",
              "       'PC20'],\n",
              "      dtype='object')"
            ]
          },
          "metadata": {}
        },
        {
          "output_type": "display_data",
          "data": {
            "text/plain": [
              "Index(['PC1', 'PC2', 'PC3', 'PC4', 'PC5', 'PC6', 'PC7', 'PC8', 'PC9', 'PC10',\n",
              "       'PC11', 'PC12', 'PC13', 'PC14', 'PC15', 'PC16', 'PC17', 'PC18', 'PC19',\n",
              "       'PC20'],\n",
              "      dtype='object')"
            ]
          },
          "metadata": {}
        }
      ]
    },
    {
      "cell_type": "code",
      "source": [
        "target_df"
      ],
      "metadata": {
        "colab": {
          "base_uri": "https://localhost:8080/",
          "height": 423
        },
        "id": "afuclgIUupaa",
        "outputId": "00c3cafe-fa6a-4501-aeb4-394867d35331"
      },
      "id": "afuclgIUupaa",
      "execution_count": 9,
      "outputs": [
        {
          "output_type": "execute_result",
          "data": {
            "text/plain": [
              "           기준년월            ID Segment\n",
              "0        201807  TRAIN_000000       D\n",
              "1        201807  TRAIN_000001       E\n",
              "2        201807  TRAIN_000002       C\n",
              "3        201807  TRAIN_000003       D\n",
              "4        201807  TRAIN_000004       E\n",
              "...         ...           ...     ...\n",
              "2399995  201812  TRAIN_399995       E\n",
              "2399996  201812  TRAIN_399996       D\n",
              "2399997  201812  TRAIN_399997       C\n",
              "2399998  201812  TRAIN_399998       E\n",
              "2399999  201812  TRAIN_399999       E\n",
              "\n",
              "[2400000 rows x 3 columns]"
            ],
            "text/html": [
              "\n",
              "  <div id=\"df-192e9b54-435c-410c-bf50-01278190fc5a\" class=\"colab-df-container\">\n",
              "    <div>\n",
              "<style scoped>\n",
              "    .dataframe tbody tr th:only-of-type {\n",
              "        vertical-align: middle;\n",
              "    }\n",
              "\n",
              "    .dataframe tbody tr th {\n",
              "        vertical-align: top;\n",
              "    }\n",
              "\n",
              "    .dataframe thead th {\n",
              "        text-align: right;\n",
              "    }\n",
              "</style>\n",
              "<table border=\"1\" class=\"dataframe\">\n",
              "  <thead>\n",
              "    <tr style=\"text-align: right;\">\n",
              "      <th></th>\n",
              "      <th>기준년월</th>\n",
              "      <th>ID</th>\n",
              "      <th>Segment</th>\n",
              "    </tr>\n",
              "  </thead>\n",
              "  <tbody>\n",
              "    <tr>\n",
              "      <th>0</th>\n",
              "      <td>201807</td>\n",
              "      <td>TRAIN_000000</td>\n",
              "      <td>D</td>\n",
              "    </tr>\n",
              "    <tr>\n",
              "      <th>1</th>\n",
              "      <td>201807</td>\n",
              "      <td>TRAIN_000001</td>\n",
              "      <td>E</td>\n",
              "    </tr>\n",
              "    <tr>\n",
              "      <th>2</th>\n",
              "      <td>201807</td>\n",
              "      <td>TRAIN_000002</td>\n",
              "      <td>C</td>\n",
              "    </tr>\n",
              "    <tr>\n",
              "      <th>3</th>\n",
              "      <td>201807</td>\n",
              "      <td>TRAIN_000003</td>\n",
              "      <td>D</td>\n",
              "    </tr>\n",
              "    <tr>\n",
              "      <th>4</th>\n",
              "      <td>201807</td>\n",
              "      <td>TRAIN_000004</td>\n",
              "      <td>E</td>\n",
              "    </tr>\n",
              "    <tr>\n",
              "      <th>...</th>\n",
              "      <td>...</td>\n",
              "      <td>...</td>\n",
              "      <td>...</td>\n",
              "    </tr>\n",
              "    <tr>\n",
              "      <th>2399995</th>\n",
              "      <td>201812</td>\n",
              "      <td>TRAIN_399995</td>\n",
              "      <td>E</td>\n",
              "    </tr>\n",
              "    <tr>\n",
              "      <th>2399996</th>\n",
              "      <td>201812</td>\n",
              "      <td>TRAIN_399996</td>\n",
              "      <td>D</td>\n",
              "    </tr>\n",
              "    <tr>\n",
              "      <th>2399997</th>\n",
              "      <td>201812</td>\n",
              "      <td>TRAIN_399997</td>\n",
              "      <td>C</td>\n",
              "    </tr>\n",
              "    <tr>\n",
              "      <th>2399998</th>\n",
              "      <td>201812</td>\n",
              "      <td>TRAIN_399998</td>\n",
              "      <td>E</td>\n",
              "    </tr>\n",
              "    <tr>\n",
              "      <th>2399999</th>\n",
              "      <td>201812</td>\n",
              "      <td>TRAIN_399999</td>\n",
              "      <td>E</td>\n",
              "    </tr>\n",
              "  </tbody>\n",
              "</table>\n",
              "<p>2400000 rows × 3 columns</p>\n",
              "</div>\n",
              "    <div class=\"colab-df-buttons\">\n",
              "\n",
              "  <div class=\"colab-df-container\">\n",
              "    <button class=\"colab-df-convert\" onclick=\"convertToInteractive('df-192e9b54-435c-410c-bf50-01278190fc5a')\"\n",
              "            title=\"Convert this dataframe to an interactive table.\"\n",
              "            style=\"display:none;\">\n",
              "\n",
              "  <svg xmlns=\"http://www.w3.org/2000/svg\" height=\"24px\" viewBox=\"0 -960 960 960\">\n",
              "    <path d=\"M120-120v-720h720v720H120Zm60-500h600v-160H180v160Zm220 220h160v-160H400v160Zm0 220h160v-160H400v160ZM180-400h160v-160H180v160Zm440 0h160v-160H620v160ZM180-180h160v-160H180v160Zm440 0h160v-160H620v160Z\"/>\n",
              "  </svg>\n",
              "    </button>\n",
              "\n",
              "  <style>\n",
              "    .colab-df-container {\n",
              "      display:flex;\n",
              "      gap: 12px;\n",
              "    }\n",
              "\n",
              "    .colab-df-convert {\n",
              "      background-color: #E8F0FE;\n",
              "      border: none;\n",
              "      border-radius: 50%;\n",
              "      cursor: pointer;\n",
              "      display: none;\n",
              "      fill: #1967D2;\n",
              "      height: 32px;\n",
              "      padding: 0 0 0 0;\n",
              "      width: 32px;\n",
              "    }\n",
              "\n",
              "    .colab-df-convert:hover {\n",
              "      background-color: #E2EBFA;\n",
              "      box-shadow: 0px 1px 2px rgba(60, 64, 67, 0.3), 0px 1px 3px 1px rgba(60, 64, 67, 0.15);\n",
              "      fill: #174EA6;\n",
              "    }\n",
              "\n",
              "    .colab-df-buttons div {\n",
              "      margin-bottom: 4px;\n",
              "    }\n",
              "\n",
              "    [theme=dark] .colab-df-convert {\n",
              "      background-color: #3B4455;\n",
              "      fill: #D2E3FC;\n",
              "    }\n",
              "\n",
              "    [theme=dark] .colab-df-convert:hover {\n",
              "      background-color: #434B5C;\n",
              "      box-shadow: 0px 1px 3px 1px rgba(0, 0, 0, 0.15);\n",
              "      filter: drop-shadow(0px 1px 2px rgba(0, 0, 0, 0.3));\n",
              "      fill: #FFFFFF;\n",
              "    }\n",
              "  </style>\n",
              "\n",
              "    <script>\n",
              "      const buttonEl =\n",
              "        document.querySelector('#df-192e9b54-435c-410c-bf50-01278190fc5a button.colab-df-convert');\n",
              "      buttonEl.style.display =\n",
              "        google.colab.kernel.accessAllowed ? 'block' : 'none';\n",
              "\n",
              "      async function convertToInteractive(key) {\n",
              "        const element = document.querySelector('#df-192e9b54-435c-410c-bf50-01278190fc5a');\n",
              "        const dataTable =\n",
              "          await google.colab.kernel.invokeFunction('convertToInteractive',\n",
              "                                                    [key], {});\n",
              "        if (!dataTable) return;\n",
              "\n",
              "        const docLinkHtml = 'Like what you see? Visit the ' +\n",
              "          '<a target=\"_blank\" href=https://colab.research.google.com/notebooks/data_table.ipynb>data table notebook</a>'\n",
              "          + ' to learn more about interactive tables.';\n",
              "        element.innerHTML = '';\n",
              "        dataTable['output_type'] = 'display_data';\n",
              "        await google.colab.output.renderOutput(dataTable, element);\n",
              "        const docLink = document.createElement('div');\n",
              "        docLink.innerHTML = docLinkHtml;\n",
              "        element.appendChild(docLink);\n",
              "      }\n",
              "    </script>\n",
              "  </div>\n",
              "\n",
              "\n",
              "    <div id=\"df-07b221d6-c639-41c3-980d-844cb35d7596\">\n",
              "      <button class=\"colab-df-quickchart\" onclick=\"quickchart('df-07b221d6-c639-41c3-980d-844cb35d7596')\"\n",
              "                title=\"Suggest charts\"\n",
              "                style=\"display:none;\">\n",
              "\n",
              "<svg xmlns=\"http://www.w3.org/2000/svg\" height=\"24px\"viewBox=\"0 0 24 24\"\n",
              "     width=\"24px\">\n",
              "    <g>\n",
              "        <path d=\"M19 3H5c-1.1 0-2 .9-2 2v14c0 1.1.9 2 2 2h14c1.1 0 2-.9 2-2V5c0-1.1-.9-2-2-2zM9 17H7v-7h2v7zm4 0h-2V7h2v10zm4 0h-2v-4h2v4z\"/>\n",
              "    </g>\n",
              "</svg>\n",
              "      </button>\n",
              "\n",
              "<style>\n",
              "  .colab-df-quickchart {\n",
              "      --bg-color: #E8F0FE;\n",
              "      --fill-color: #1967D2;\n",
              "      --hover-bg-color: #E2EBFA;\n",
              "      --hover-fill-color: #174EA6;\n",
              "      --disabled-fill-color: #AAA;\n",
              "      --disabled-bg-color: #DDD;\n",
              "  }\n",
              "\n",
              "  [theme=dark] .colab-df-quickchart {\n",
              "      --bg-color: #3B4455;\n",
              "      --fill-color: #D2E3FC;\n",
              "      --hover-bg-color: #434B5C;\n",
              "      --hover-fill-color: #FFFFFF;\n",
              "      --disabled-bg-color: #3B4455;\n",
              "      --disabled-fill-color: #666;\n",
              "  }\n",
              "\n",
              "  .colab-df-quickchart {\n",
              "    background-color: var(--bg-color);\n",
              "    border: none;\n",
              "    border-radius: 50%;\n",
              "    cursor: pointer;\n",
              "    display: none;\n",
              "    fill: var(--fill-color);\n",
              "    height: 32px;\n",
              "    padding: 0;\n",
              "    width: 32px;\n",
              "  }\n",
              "\n",
              "  .colab-df-quickchart:hover {\n",
              "    background-color: var(--hover-bg-color);\n",
              "    box-shadow: 0 1px 2px rgba(60, 64, 67, 0.3), 0 1px 3px 1px rgba(60, 64, 67, 0.15);\n",
              "    fill: var(--button-hover-fill-color);\n",
              "  }\n",
              "\n",
              "  .colab-df-quickchart-complete:disabled,\n",
              "  .colab-df-quickchart-complete:disabled:hover {\n",
              "    background-color: var(--disabled-bg-color);\n",
              "    fill: var(--disabled-fill-color);\n",
              "    box-shadow: none;\n",
              "  }\n",
              "\n",
              "  .colab-df-spinner {\n",
              "    border: 2px solid var(--fill-color);\n",
              "    border-color: transparent;\n",
              "    border-bottom-color: var(--fill-color);\n",
              "    animation:\n",
              "      spin 1s steps(1) infinite;\n",
              "  }\n",
              "\n",
              "  @keyframes spin {\n",
              "    0% {\n",
              "      border-color: transparent;\n",
              "      border-bottom-color: var(--fill-color);\n",
              "      border-left-color: var(--fill-color);\n",
              "    }\n",
              "    20% {\n",
              "      border-color: transparent;\n",
              "      border-left-color: var(--fill-color);\n",
              "      border-top-color: var(--fill-color);\n",
              "    }\n",
              "    30% {\n",
              "      border-color: transparent;\n",
              "      border-left-color: var(--fill-color);\n",
              "      border-top-color: var(--fill-color);\n",
              "      border-right-color: var(--fill-color);\n",
              "    }\n",
              "    40% {\n",
              "      border-color: transparent;\n",
              "      border-right-color: var(--fill-color);\n",
              "      border-top-color: var(--fill-color);\n",
              "    }\n",
              "    60% {\n",
              "      border-color: transparent;\n",
              "      border-right-color: var(--fill-color);\n",
              "    }\n",
              "    80% {\n",
              "      border-color: transparent;\n",
              "      border-right-color: var(--fill-color);\n",
              "      border-bottom-color: var(--fill-color);\n",
              "    }\n",
              "    90% {\n",
              "      border-color: transparent;\n",
              "      border-bottom-color: var(--fill-color);\n",
              "    }\n",
              "  }\n",
              "</style>\n",
              "\n",
              "      <script>\n",
              "        async function quickchart(key) {\n",
              "          const quickchartButtonEl =\n",
              "            document.querySelector('#' + key + ' button');\n",
              "          quickchartButtonEl.disabled = true;  // To prevent multiple clicks.\n",
              "          quickchartButtonEl.classList.add('colab-df-spinner');\n",
              "          try {\n",
              "            const charts = await google.colab.kernel.invokeFunction(\n",
              "                'suggestCharts', [key], {});\n",
              "          } catch (error) {\n",
              "            console.error('Error during call to suggestCharts:', error);\n",
              "          }\n",
              "          quickchartButtonEl.classList.remove('colab-df-spinner');\n",
              "          quickchartButtonEl.classList.add('colab-df-quickchart-complete');\n",
              "        }\n",
              "        (() => {\n",
              "          let quickchartButtonEl =\n",
              "            document.querySelector('#df-07b221d6-c639-41c3-980d-844cb35d7596 button');\n",
              "          quickchartButtonEl.style.display =\n",
              "            google.colab.kernel.accessAllowed ? 'block' : 'none';\n",
              "        })();\n",
              "      </script>\n",
              "    </div>\n",
              "\n",
              "  <div id=\"id_cd09adaf-6d3b-4c57-b4d2-1e774c834bb9\">\n",
              "    <style>\n",
              "      .colab-df-generate {\n",
              "        background-color: #E8F0FE;\n",
              "        border: none;\n",
              "        border-radius: 50%;\n",
              "        cursor: pointer;\n",
              "        display: none;\n",
              "        fill: #1967D2;\n",
              "        height: 32px;\n",
              "        padding: 0 0 0 0;\n",
              "        width: 32px;\n",
              "      }\n",
              "\n",
              "      .colab-df-generate:hover {\n",
              "        background-color: #E2EBFA;\n",
              "        box-shadow: 0px 1px 2px rgba(60, 64, 67, 0.3), 0px 1px 3px 1px rgba(60, 64, 67, 0.15);\n",
              "        fill: #174EA6;\n",
              "      }\n",
              "\n",
              "      [theme=dark] .colab-df-generate {\n",
              "        background-color: #3B4455;\n",
              "        fill: #D2E3FC;\n",
              "      }\n",
              "\n",
              "      [theme=dark] .colab-df-generate:hover {\n",
              "        background-color: #434B5C;\n",
              "        box-shadow: 0px 1px 3px 1px rgba(0, 0, 0, 0.15);\n",
              "        filter: drop-shadow(0px 1px 2px rgba(0, 0, 0, 0.3));\n",
              "        fill: #FFFFFF;\n",
              "      }\n",
              "    </style>\n",
              "    <button class=\"colab-df-generate\" onclick=\"generateWithVariable('target_df')\"\n",
              "            title=\"Generate code using this dataframe.\"\n",
              "            style=\"display:none;\">\n",
              "\n",
              "  <svg xmlns=\"http://www.w3.org/2000/svg\" height=\"24px\"viewBox=\"0 0 24 24\"\n",
              "       width=\"24px\">\n",
              "    <path d=\"M7,19H8.4L18.45,9,17,7.55,7,17.6ZM5,21V16.75L18.45,3.32a2,2,0,0,1,2.83,0l1.4,1.43a1.91,1.91,0,0,1,.58,1.4,1.91,1.91,0,0,1-.58,1.4L9.25,21ZM18.45,9,17,7.55Zm-12,3A5.31,5.31,0,0,0,4.9,8.1,5.31,5.31,0,0,0,1,6.5,5.31,5.31,0,0,0,4.9,4.9,5.31,5.31,0,0,0,6.5,1,5.31,5.31,0,0,0,8.1,4.9,5.31,5.31,0,0,0,12,6.5,5.46,5.46,0,0,0,6.5,12Z\"/>\n",
              "  </svg>\n",
              "    </button>\n",
              "    <script>\n",
              "      (() => {\n",
              "      const buttonEl =\n",
              "        document.querySelector('#id_cd09adaf-6d3b-4c57-b4d2-1e774c834bb9 button.colab-df-generate');\n",
              "      buttonEl.style.display =\n",
              "        google.colab.kernel.accessAllowed ? 'block' : 'none';\n",
              "\n",
              "      buttonEl.onclick = () => {\n",
              "        google.colab.notebook.generateWithVariable('target_df');\n",
              "      }\n",
              "      })();\n",
              "    </script>\n",
              "  </div>\n",
              "\n",
              "    </div>\n",
              "  </div>\n"
            ],
            "application/vnd.google.colaboratory.intrinsic+json": {
              "type": "dataframe",
              "variable_name": "target_df"
            }
          },
          "metadata": {},
          "execution_count": 9
        }
      ]
    },
    {
      "cell_type": "code",
      "source": [
        "encoder1 = LabelEncoder()\n",
        "Seg = encoder1.fit_transform(target_df['Segment'])\n"
      ],
      "metadata": {
        "id": "RZT9xvR07hzY"
      },
      "id": "RZT9xvR07hzY",
      "execution_count": 10,
      "outputs": []
    },
    {
      "cell_type": "code",
      "source": [
        "Seg"
      ],
      "metadata": {
        "colab": {
          "base_uri": "https://localhost:8080/"
        },
        "id": "x1baIVH_GZDz",
        "outputId": "63dbeb04-507e-440b-d5f3-9b0c9b7ce81f"
      },
      "id": "x1baIVH_GZDz",
      "execution_count": 11,
      "outputs": [
        {
          "output_type": "execute_result",
          "data": {
            "text/plain": [
              "array([3, 4, 2, ..., 2, 4, 4])"
            ]
          },
          "metadata": {},
          "execution_count": 11
        }
      ]
    },
    {
      "cell_type": "code",
      "source": [
        "target_df"
      ],
      "metadata": {
        "colab": {
          "base_uri": "https://localhost:8080/",
          "height": 423
        },
        "id": "luIWpncbC02l",
        "outputId": "e6301fd0-2b40-45c5-e631-1983e49fe95d"
      },
      "id": "luIWpncbC02l",
      "execution_count": 12,
      "outputs": [
        {
          "output_type": "execute_result",
          "data": {
            "text/plain": [
              "           기준년월            ID Segment\n",
              "0        201807  TRAIN_000000       D\n",
              "1        201807  TRAIN_000001       E\n",
              "2        201807  TRAIN_000002       C\n",
              "3        201807  TRAIN_000003       D\n",
              "4        201807  TRAIN_000004       E\n",
              "...         ...           ...     ...\n",
              "2399995  201812  TRAIN_399995       E\n",
              "2399996  201812  TRAIN_399996       D\n",
              "2399997  201812  TRAIN_399997       C\n",
              "2399998  201812  TRAIN_399998       E\n",
              "2399999  201812  TRAIN_399999       E\n",
              "\n",
              "[2400000 rows x 3 columns]"
            ],
            "text/html": [
              "\n",
              "  <div id=\"df-573c0682-387e-4b3f-84ba-2c8086584f07\" class=\"colab-df-container\">\n",
              "    <div>\n",
              "<style scoped>\n",
              "    .dataframe tbody tr th:only-of-type {\n",
              "        vertical-align: middle;\n",
              "    }\n",
              "\n",
              "    .dataframe tbody tr th {\n",
              "        vertical-align: top;\n",
              "    }\n",
              "\n",
              "    .dataframe thead th {\n",
              "        text-align: right;\n",
              "    }\n",
              "</style>\n",
              "<table border=\"1\" class=\"dataframe\">\n",
              "  <thead>\n",
              "    <tr style=\"text-align: right;\">\n",
              "      <th></th>\n",
              "      <th>기준년월</th>\n",
              "      <th>ID</th>\n",
              "      <th>Segment</th>\n",
              "    </tr>\n",
              "  </thead>\n",
              "  <tbody>\n",
              "    <tr>\n",
              "      <th>0</th>\n",
              "      <td>201807</td>\n",
              "      <td>TRAIN_000000</td>\n",
              "      <td>D</td>\n",
              "    </tr>\n",
              "    <tr>\n",
              "      <th>1</th>\n",
              "      <td>201807</td>\n",
              "      <td>TRAIN_000001</td>\n",
              "      <td>E</td>\n",
              "    </tr>\n",
              "    <tr>\n",
              "      <th>2</th>\n",
              "      <td>201807</td>\n",
              "      <td>TRAIN_000002</td>\n",
              "      <td>C</td>\n",
              "    </tr>\n",
              "    <tr>\n",
              "      <th>3</th>\n",
              "      <td>201807</td>\n",
              "      <td>TRAIN_000003</td>\n",
              "      <td>D</td>\n",
              "    </tr>\n",
              "    <tr>\n",
              "      <th>4</th>\n",
              "      <td>201807</td>\n",
              "      <td>TRAIN_000004</td>\n",
              "      <td>E</td>\n",
              "    </tr>\n",
              "    <tr>\n",
              "      <th>...</th>\n",
              "      <td>...</td>\n",
              "      <td>...</td>\n",
              "      <td>...</td>\n",
              "    </tr>\n",
              "    <tr>\n",
              "      <th>2399995</th>\n",
              "      <td>201812</td>\n",
              "      <td>TRAIN_399995</td>\n",
              "      <td>E</td>\n",
              "    </tr>\n",
              "    <tr>\n",
              "      <th>2399996</th>\n",
              "      <td>201812</td>\n",
              "      <td>TRAIN_399996</td>\n",
              "      <td>D</td>\n",
              "    </tr>\n",
              "    <tr>\n",
              "      <th>2399997</th>\n",
              "      <td>201812</td>\n",
              "      <td>TRAIN_399997</td>\n",
              "      <td>C</td>\n",
              "    </tr>\n",
              "    <tr>\n",
              "      <th>2399998</th>\n",
              "      <td>201812</td>\n",
              "      <td>TRAIN_399998</td>\n",
              "      <td>E</td>\n",
              "    </tr>\n",
              "    <tr>\n",
              "      <th>2399999</th>\n",
              "      <td>201812</td>\n",
              "      <td>TRAIN_399999</td>\n",
              "      <td>E</td>\n",
              "    </tr>\n",
              "  </tbody>\n",
              "</table>\n",
              "<p>2400000 rows × 3 columns</p>\n",
              "</div>\n",
              "    <div class=\"colab-df-buttons\">\n",
              "\n",
              "  <div class=\"colab-df-container\">\n",
              "    <button class=\"colab-df-convert\" onclick=\"convertToInteractive('df-573c0682-387e-4b3f-84ba-2c8086584f07')\"\n",
              "            title=\"Convert this dataframe to an interactive table.\"\n",
              "            style=\"display:none;\">\n",
              "\n",
              "  <svg xmlns=\"http://www.w3.org/2000/svg\" height=\"24px\" viewBox=\"0 -960 960 960\">\n",
              "    <path d=\"M120-120v-720h720v720H120Zm60-500h600v-160H180v160Zm220 220h160v-160H400v160Zm0 220h160v-160H400v160ZM180-400h160v-160H180v160Zm440 0h160v-160H620v160ZM180-180h160v-160H180v160Zm440 0h160v-160H620v160Z\"/>\n",
              "  </svg>\n",
              "    </button>\n",
              "\n",
              "  <style>\n",
              "    .colab-df-container {\n",
              "      display:flex;\n",
              "      gap: 12px;\n",
              "    }\n",
              "\n",
              "    .colab-df-convert {\n",
              "      background-color: #E8F0FE;\n",
              "      border: none;\n",
              "      border-radius: 50%;\n",
              "      cursor: pointer;\n",
              "      display: none;\n",
              "      fill: #1967D2;\n",
              "      height: 32px;\n",
              "      padding: 0 0 0 0;\n",
              "      width: 32px;\n",
              "    }\n",
              "\n",
              "    .colab-df-convert:hover {\n",
              "      background-color: #E2EBFA;\n",
              "      box-shadow: 0px 1px 2px rgba(60, 64, 67, 0.3), 0px 1px 3px 1px rgba(60, 64, 67, 0.15);\n",
              "      fill: #174EA6;\n",
              "    }\n",
              "\n",
              "    .colab-df-buttons div {\n",
              "      margin-bottom: 4px;\n",
              "    }\n",
              "\n",
              "    [theme=dark] .colab-df-convert {\n",
              "      background-color: #3B4455;\n",
              "      fill: #D2E3FC;\n",
              "    }\n",
              "\n",
              "    [theme=dark] .colab-df-convert:hover {\n",
              "      background-color: #434B5C;\n",
              "      box-shadow: 0px 1px 3px 1px rgba(0, 0, 0, 0.15);\n",
              "      filter: drop-shadow(0px 1px 2px rgba(0, 0, 0, 0.3));\n",
              "      fill: #FFFFFF;\n",
              "    }\n",
              "  </style>\n",
              "\n",
              "    <script>\n",
              "      const buttonEl =\n",
              "        document.querySelector('#df-573c0682-387e-4b3f-84ba-2c8086584f07 button.colab-df-convert');\n",
              "      buttonEl.style.display =\n",
              "        google.colab.kernel.accessAllowed ? 'block' : 'none';\n",
              "\n",
              "      async function convertToInteractive(key) {\n",
              "        const element = document.querySelector('#df-573c0682-387e-4b3f-84ba-2c8086584f07');\n",
              "        const dataTable =\n",
              "          await google.colab.kernel.invokeFunction('convertToInteractive',\n",
              "                                                    [key], {});\n",
              "        if (!dataTable) return;\n",
              "\n",
              "        const docLinkHtml = 'Like what you see? Visit the ' +\n",
              "          '<a target=\"_blank\" href=https://colab.research.google.com/notebooks/data_table.ipynb>data table notebook</a>'\n",
              "          + ' to learn more about interactive tables.';\n",
              "        element.innerHTML = '';\n",
              "        dataTable['output_type'] = 'display_data';\n",
              "        await google.colab.output.renderOutput(dataTable, element);\n",
              "        const docLink = document.createElement('div');\n",
              "        docLink.innerHTML = docLinkHtml;\n",
              "        element.appendChild(docLink);\n",
              "      }\n",
              "    </script>\n",
              "  </div>\n",
              "\n",
              "\n",
              "    <div id=\"df-11829c0d-681c-4a2f-b552-48ac5e45a771\">\n",
              "      <button class=\"colab-df-quickchart\" onclick=\"quickchart('df-11829c0d-681c-4a2f-b552-48ac5e45a771')\"\n",
              "                title=\"Suggest charts\"\n",
              "                style=\"display:none;\">\n",
              "\n",
              "<svg xmlns=\"http://www.w3.org/2000/svg\" height=\"24px\"viewBox=\"0 0 24 24\"\n",
              "     width=\"24px\">\n",
              "    <g>\n",
              "        <path d=\"M19 3H5c-1.1 0-2 .9-2 2v14c0 1.1.9 2 2 2h14c1.1 0 2-.9 2-2V5c0-1.1-.9-2-2-2zM9 17H7v-7h2v7zm4 0h-2V7h2v10zm4 0h-2v-4h2v4z\"/>\n",
              "    </g>\n",
              "</svg>\n",
              "      </button>\n",
              "\n",
              "<style>\n",
              "  .colab-df-quickchart {\n",
              "      --bg-color: #E8F0FE;\n",
              "      --fill-color: #1967D2;\n",
              "      --hover-bg-color: #E2EBFA;\n",
              "      --hover-fill-color: #174EA6;\n",
              "      --disabled-fill-color: #AAA;\n",
              "      --disabled-bg-color: #DDD;\n",
              "  }\n",
              "\n",
              "  [theme=dark] .colab-df-quickchart {\n",
              "      --bg-color: #3B4455;\n",
              "      --fill-color: #D2E3FC;\n",
              "      --hover-bg-color: #434B5C;\n",
              "      --hover-fill-color: #FFFFFF;\n",
              "      --disabled-bg-color: #3B4455;\n",
              "      --disabled-fill-color: #666;\n",
              "  }\n",
              "\n",
              "  .colab-df-quickchart {\n",
              "    background-color: var(--bg-color);\n",
              "    border: none;\n",
              "    border-radius: 50%;\n",
              "    cursor: pointer;\n",
              "    display: none;\n",
              "    fill: var(--fill-color);\n",
              "    height: 32px;\n",
              "    padding: 0;\n",
              "    width: 32px;\n",
              "  }\n",
              "\n",
              "  .colab-df-quickchart:hover {\n",
              "    background-color: var(--hover-bg-color);\n",
              "    box-shadow: 0 1px 2px rgba(60, 64, 67, 0.3), 0 1px 3px 1px rgba(60, 64, 67, 0.15);\n",
              "    fill: var(--button-hover-fill-color);\n",
              "  }\n",
              "\n",
              "  .colab-df-quickchart-complete:disabled,\n",
              "  .colab-df-quickchart-complete:disabled:hover {\n",
              "    background-color: var(--disabled-bg-color);\n",
              "    fill: var(--disabled-fill-color);\n",
              "    box-shadow: none;\n",
              "  }\n",
              "\n",
              "  .colab-df-spinner {\n",
              "    border: 2px solid var(--fill-color);\n",
              "    border-color: transparent;\n",
              "    border-bottom-color: var(--fill-color);\n",
              "    animation:\n",
              "      spin 1s steps(1) infinite;\n",
              "  }\n",
              "\n",
              "  @keyframes spin {\n",
              "    0% {\n",
              "      border-color: transparent;\n",
              "      border-bottom-color: var(--fill-color);\n",
              "      border-left-color: var(--fill-color);\n",
              "    }\n",
              "    20% {\n",
              "      border-color: transparent;\n",
              "      border-left-color: var(--fill-color);\n",
              "      border-top-color: var(--fill-color);\n",
              "    }\n",
              "    30% {\n",
              "      border-color: transparent;\n",
              "      border-left-color: var(--fill-color);\n",
              "      border-top-color: var(--fill-color);\n",
              "      border-right-color: var(--fill-color);\n",
              "    }\n",
              "    40% {\n",
              "      border-color: transparent;\n",
              "      border-right-color: var(--fill-color);\n",
              "      border-top-color: var(--fill-color);\n",
              "    }\n",
              "    60% {\n",
              "      border-color: transparent;\n",
              "      border-right-color: var(--fill-color);\n",
              "    }\n",
              "    80% {\n",
              "      border-color: transparent;\n",
              "      border-right-color: var(--fill-color);\n",
              "      border-bottom-color: var(--fill-color);\n",
              "    }\n",
              "    90% {\n",
              "      border-color: transparent;\n",
              "      border-bottom-color: var(--fill-color);\n",
              "    }\n",
              "  }\n",
              "</style>\n",
              "\n",
              "      <script>\n",
              "        async function quickchart(key) {\n",
              "          const quickchartButtonEl =\n",
              "            document.querySelector('#' + key + ' button');\n",
              "          quickchartButtonEl.disabled = true;  // To prevent multiple clicks.\n",
              "          quickchartButtonEl.classList.add('colab-df-spinner');\n",
              "          try {\n",
              "            const charts = await google.colab.kernel.invokeFunction(\n",
              "                'suggestCharts', [key], {});\n",
              "          } catch (error) {\n",
              "            console.error('Error during call to suggestCharts:', error);\n",
              "          }\n",
              "          quickchartButtonEl.classList.remove('colab-df-spinner');\n",
              "          quickchartButtonEl.classList.add('colab-df-quickchart-complete');\n",
              "        }\n",
              "        (() => {\n",
              "          let quickchartButtonEl =\n",
              "            document.querySelector('#df-11829c0d-681c-4a2f-b552-48ac5e45a771 button');\n",
              "          quickchartButtonEl.style.display =\n",
              "            google.colab.kernel.accessAllowed ? 'block' : 'none';\n",
              "        })();\n",
              "      </script>\n",
              "    </div>\n",
              "\n",
              "  <div id=\"id_8b1713d8-4748-4aa2-b746-1d7f4b6b3c31\">\n",
              "    <style>\n",
              "      .colab-df-generate {\n",
              "        background-color: #E8F0FE;\n",
              "        border: none;\n",
              "        border-radius: 50%;\n",
              "        cursor: pointer;\n",
              "        display: none;\n",
              "        fill: #1967D2;\n",
              "        height: 32px;\n",
              "        padding: 0 0 0 0;\n",
              "        width: 32px;\n",
              "      }\n",
              "\n",
              "      .colab-df-generate:hover {\n",
              "        background-color: #E2EBFA;\n",
              "        box-shadow: 0px 1px 2px rgba(60, 64, 67, 0.3), 0px 1px 3px 1px rgba(60, 64, 67, 0.15);\n",
              "        fill: #174EA6;\n",
              "      }\n",
              "\n",
              "      [theme=dark] .colab-df-generate {\n",
              "        background-color: #3B4455;\n",
              "        fill: #D2E3FC;\n",
              "      }\n",
              "\n",
              "      [theme=dark] .colab-df-generate:hover {\n",
              "        background-color: #434B5C;\n",
              "        box-shadow: 0px 1px 3px 1px rgba(0, 0, 0, 0.15);\n",
              "        filter: drop-shadow(0px 1px 2px rgba(0, 0, 0, 0.3));\n",
              "        fill: #FFFFFF;\n",
              "      }\n",
              "    </style>\n",
              "    <button class=\"colab-df-generate\" onclick=\"generateWithVariable('target_df')\"\n",
              "            title=\"Generate code using this dataframe.\"\n",
              "            style=\"display:none;\">\n",
              "\n",
              "  <svg xmlns=\"http://www.w3.org/2000/svg\" height=\"24px\"viewBox=\"0 0 24 24\"\n",
              "       width=\"24px\">\n",
              "    <path d=\"M7,19H8.4L18.45,9,17,7.55,7,17.6ZM5,21V16.75L18.45,3.32a2,2,0,0,1,2.83,0l1.4,1.43a1.91,1.91,0,0,1,.58,1.4,1.91,1.91,0,0,1-.58,1.4L9.25,21ZM18.45,9,17,7.55Zm-12,3A5.31,5.31,0,0,0,4.9,8.1,5.31,5.31,0,0,0,1,6.5,5.31,5.31,0,0,0,4.9,4.9,5.31,5.31,0,0,0,6.5,1,5.31,5.31,0,0,0,8.1,4.9,5.31,5.31,0,0,0,12,6.5,5.46,5.46,0,0,0,6.5,12Z\"/>\n",
              "  </svg>\n",
              "    </button>\n",
              "    <script>\n",
              "      (() => {\n",
              "      const buttonEl =\n",
              "        document.querySelector('#id_8b1713d8-4748-4aa2-b746-1d7f4b6b3c31 button.colab-df-generate');\n",
              "      buttonEl.style.display =\n",
              "        google.colab.kernel.accessAllowed ? 'block' : 'none';\n",
              "\n",
              "      buttonEl.onclick = () => {\n",
              "        google.colab.notebook.generateWithVariable('target_df');\n",
              "      }\n",
              "      })();\n",
              "    </script>\n",
              "  </div>\n",
              "\n",
              "    </div>\n",
              "  </div>\n"
            ],
            "application/vnd.google.colaboratory.intrinsic+json": {
              "type": "dataframe",
              "variable_name": "target_df"
            }
          },
          "metadata": {},
          "execution_count": 12
        }
      ]
    },
    {
      "cell_type": "code",
      "execution_count": 13,
      "id": "ba3539a2-a37f-4ba6-a2c9-9598f87905c0",
      "metadata": {
        "id": "ba3539a2-a37f-4ba6-a2c9-9598f87905c0"
      },
      "outputs": [],
      "source": [
        "# 입력과 결과로 나눈다.\n",
        "X = train_df\n",
        "y = Seg"
      ]
    },
    {
      "cell_type": "code",
      "source": [
        "train_X = X\n",
        "train_y = y"
      ],
      "metadata": {
        "id": "6z1BIV3CDB3i"
      },
      "id": "6z1BIV3CDB3i",
      "execution_count": 14,
      "outputs": []
    },
    {
      "cell_type": "code",
      "source": [
        "test_X = test_df"
      ],
      "metadata": {
        "id": "ILhZ_kB-Eu94"
      },
      "id": "ILhZ_kB-Eu94",
      "execution_count": 15,
      "outputs": []
    },
    {
      "cell_type": "markdown",
      "id": "0ae75987-2311-4dfe-8653-989af81c5cdd",
      "metadata": {
        "id": "0ae75987-2311-4dfe-8653-989af81c5cdd"
      },
      "source": [
        "### 기본 모델 사용하기"
      ]
    },
    {
      "cell_type": "code",
      "source": [
        "print(pd.Series(train_y).unique())"
      ],
      "metadata": {
        "colab": {
          "base_uri": "https://localhost:8080/"
        },
        "id": "2q0R8ecDIm5F",
        "outputId": "9ce39b3d-5e0d-4dbd-923b-0dbc7be24dd7"
      },
      "id": "2q0R8ecDIm5F",
      "execution_count": 16,
      "outputs": [
        {
          "output_type": "stream",
          "name": "stdout",
          "text": [
            "[3 4 2 0 1]\n"
          ]
        }
      ]
    },
    {
      "cell_type": "code",
      "source": [
        "print(pd.Series(train_y).value_counts())"
      ],
      "metadata": {
        "colab": {
          "base_uri": "https://localhost:8080/"
        },
        "id": "cOA5gIBDKNuV",
        "outputId": "1feced26-7562-4026-e434-3774c4eadcff"
      },
      "id": "cOA5gIBDKNuV",
      "execution_count": 17,
      "outputs": [
        {
          "output_type": "stream",
          "name": "stdout",
          "text": [
            "4    1922052\n",
            "3     349242\n",
            "2     127590\n",
            "0        972\n",
            "1        144\n",
            "Name: count, dtype: int64\n"
          ]
        }
      ]
    },
    {
      "cell_type": "code",
      "execution_count": null,
      "id": "33c2058d-cfc3-4024-9a65-f5581b2f543f",
      "metadata": {
        "id": "33c2058d-cfc3-4024-9a65-f5581b2f543f"
      },
      "outputs": [],
      "source": [
        "model5 = LGBMClassifier(device='gpu', verbose=-1)\n",
        "\n",
        "kfold = KFold(n_splits=5, shuffle=True, random_state=1)\n",
        "r1 = cross_val_score(model5, train_X, train_y, scoring='f1_weighted', cv=kfold)\n",
        "print(f'평균 f1 Score : {r1.mean()}')"
      ]
    },
    {
      "cell_type": "code",
      "execution_count": null,
      "id": "830af2ca-05c6-4405-b3f7-3c9963d4d170",
      "metadata": {
        "id": "830af2ca-05c6-4405-b3f7-3c9963d4d170"
      },
      "outputs": [],
      "source": [
        "model6 = XGBClassifier(tree_method='gpu_hist', predictor='gpu_predictor',\n",
        "                       n_jobs=-1, verbosity=0, use_label_encoder=False)\n",
        "\n",
        "# 교차 검증\n",
        "kfold = KFold(n_splits=10, shuffle=True, random_state=1)\n",
        "\n",
        "r2 = cross_val_score(model6, train_X, train_y, scoring='f1_weighted', cv=kfold)\n",
        "print(f'평균 f1 Score : {r2.mean()}')"
      ]
    },
    {
      "cell_type": "markdown",
      "source": [
        "| 클래스 | 샘플 수    | 기본 가중치(역수) | 완화된 가중치(로그) | 추천 가중치 (예시) |\n",
        "|--------|------------|-------------------|---------------------|--------------------|\n",
        "| 4      | 1,922,052  | 0.25              | 0.22                | 1                  |\n",
        "| 3      | 349,242    | 1.37              | 0.95                | 1.5                |\n",
        "| 2      | 127,590    | 3.76              | 1.5                 | 4                  |\n",
        "| 0      | 972        | 493.9             | 6.2                 | 50                 |\n",
        "| 1      | 144        | 3330.5            | 7.8                 | 50                 |\n"
      ],
      "metadata": {
        "id": "2T8jm_R5MExN"
      },
      "id": "2T8jm_R5MExN"
    },
    {
      "cell_type": "code",
      "source": [
        "### 가중치 줘보기\n",
        "class_weights = {0: 50., 1: 50, 2: 4, 3: 1.5, 4: 1}"
      ],
      "metadata": {
        "id": "6HISJIBHK89i"
      },
      "id": "6HISJIBHK89i",
      "execution_count": null,
      "outputs": []
    },
    {
      "cell_type": "code",
      "source": [
        "model3 = LGBMClassifier(device='gpu', class_weight=class_weights, verbose=-1)\n",
        "\n",
        "kfold = KFold(n_splits=5, shuffle=True, random_state=1)\n",
        "r3 = cross_val_score(model3, train_X, train_y, scoring='f1_weighted', cv=kfold)\n",
        "print(f'평균 f1 Score : {r3.mean()}')"
      ],
      "metadata": {
        "id": "cskH5AQALyjP"
      },
      "id": "cskH5AQALyjP",
      "execution_count": null,
      "outputs": []
    },
    {
      "cell_type": "code",
      "source": [
        "model4 = XGBClassifier(tree_method='gpu_hist', predictor='gpu_predictor',\n",
        "                       n_jobs=-1, verbosity=0, use_label_encoder=False)\n",
        "\n",
        "kfold = StratifiedKFold(n_splits=10, shuffle=True, random_state=1)\n",
        "\n",
        "# 클래스별 가중치 예시\n",
        "\n",
        "f1_scores = []\n",
        "\n",
        "for fold, (train_idx, val_idx) in enumerate(kfold.split(train_X, train_y)):\n",
        "    X_tr, X_val = train_X.iloc[train_idx], train_X.iloc[val_idx]\n",
        "    y_tr, y_val = train_y[train_idx], train_y[val_idx]   # .iloc → []\n",
        "\n",
        "    sample_weights = np.array([class_weights[label] for label in y_tr])\n",
        "\n",
        "    model4.fit(X_tr, y_tr, sample_weight=sample_weights)\n",
        "    preds = model4.predict(X_val)\n",
        "\n",
        "    f1 = f1_score(y_val, preds, average='weighted')\n",
        "    f1_scores.append(f1)\n",
        "    print(f'Fold {fold+1} F1 Score: {f1:.4f}')\n"
      ],
      "metadata": {
        "id": "yCsav8lHIbwX"
      },
      "id": "yCsav8lHIbwX",
      "execution_count": null,
      "outputs": []
    },
    {
      "cell_type": "markdown",
      "id": "c1e5a152-8407-4121-a2a0-013761713f01",
      "metadata": {
        "id": "c1e5a152-8407-4121-a2a0-013761713f01"
      },
      "source": [
        "### 모델 하이퍼 파라미터 튜닝"
      ]
    },
    {
      "cell_type": "code",
      "source": [
        "10/0"
      ],
      "metadata": {
        "id": "mmy0Y3MitAGD"
      },
      "id": "mmy0Y3MitAGD",
      "execution_count": null,
      "outputs": []
    },
    {
      "cell_type": "code",
      "execution_count": null,
      "id": "b1167226-5b77-460b-a2d4-c77be9bfafa0",
      "metadata": {
        "id": "b1167226-5b77-460b-a2d4-c77be9bfafa0"
      },
      "outputs": [],
      "source": [
        "# 튜닝할 하이퍼 파라미터 후보 값\n",
        "# n_estimators : 트리의 개수\n",
        "# learning_rate : 학습률. 오차 보정을 위해 상수 값들을 수정하는 정도\n",
        "params = {\n",
        "    'n_estimators' : [50, 100, 150, 200, 250, 300],\n",
        "    'learning_rate' : [0.0001, 0.001, 0.01, 0.1, 1, 0, 10, 100, 1000, 10000]\n",
        "}\n",
        "# 사용할 모델 객체를 생성한다.\n",
        "model1 = LGBMClassifier(device='gpu', verbose=-1)\n",
        "# 최적의 하이퍼 파라미터를 찾는다.\n",
        "kfold = KFold(n_splits=5, shuffle=True, random_state=1)\n",
        "grid_clf1 = GridSearchCV(model1, param_grid=params, scoring='f1_weighted', cv=kfold)\n",
        "grid_clf1.fit(train_X, train_y)\n",
        "print(f'최적의 하이퍼 파라미터 : {grid_clf1.best_params_}')\n",
        "print(f'최적의 모델 평균 성능 : {grid_clf1.best_score_}')"
      ]
    },
    {
      "cell_type": "code",
      "execution_count": null,
      "id": "5687fef1-b261-4b72-b7da-ad00d5d3e6a3",
      "metadata": {
        "id": "5687fef1-b261-4b72-b7da-ad00d5d3e6a3"
      },
      "outputs": [],
      "source": [
        "# 튜닝할 하이퍼 파라미터 후보 값\n",
        "# booster : 내부에서 사용할 알고리즘. gbtree - 결정트리, gblinear - 선형모델\n",
        "# n_estimators : 트리의 개수\n",
        "# learning_rate : 학습률. 오차 보정을 위해 상수 값들을 수정하는 정도\n",
        "params = {\n",
        "    'booster' : ['gbtree', 'gblinear'],\n",
        "    'n_estimators' : [50, 100, 150, 200, 250, 300],\n",
        "    'learning_rate' : [0.0001, 0.001, 0.01, 0.1, 1, 0, 10, 100, 1000, 10000]\n",
        "}\n",
        "# 사용할 모델 객체를 생성한다.\n",
        "model2 = XGBClassifier(tree_method='gpu_hist', predictor='gpu_predictor',\n",
        "                       n_jobs=-1, verbosity=0, use_label_encoder=False)\n",
        "# 최적의 하이퍼 파라미터를 찾는다.\n",
        "kfold = KFold(n_splits=10, shuffle=True, random_state=1)\n",
        "grid_clf2 = GridSearchCV(model2, param_grid=params, scoring='f1_weighted', cv=kfold)\n",
        "grid_clf2.fit(train_X, train_y)\n",
        "print(f'최적의 하이퍼 파라미터 : {grid_clf2.best_params_}')\n",
        "print(f'최적의 모델 평균 성능 : {grid_clf2.best_score_}')"
      ]
    },
    {
      "cell_type": "markdown",
      "id": "229155b6-a4cb-4e7e-a37b-13406219717f",
      "metadata": {
        "id": "229155b6-a4cb-4e7e-a37b-13406219717f"
      },
      "source": [
        "### 예측을 수행한다"
      ]
    },
    {
      "cell_type": "code",
      "execution_count": null,
      "id": "b5d4ff02-dc1c-4c5e-9917-3267c02a061f",
      "metadata": {
        "id": "b5d4ff02-dc1c-4c5e-9917-3267c02a061f"
      },
      "outputs": [],
      "source": [
        "# 예측할 데이터를 읽어온다.\n",
        "df2 = pd.read_parquet('/content/drive/MyDrive/test데이터/test_pca.parquet')\n",
        "df3 = df2.copy()\n",
        "df4 = df3.copy()\n",
        "df5 = df4.copy()\n",
        "df6 = df5.copy()\n",
        "df1 = df6.copy()\n",
        "\n",
        "df3.columns = train_X.columns\n",
        "df4.columns = train_X.columns\n",
        "df5.columns = train_X.columns\n",
        "df6.columns = train_X.columns\n",
        "df3.head()"
      ]
    },
    {
      "cell_type": "code",
      "source": [
        "df3"
      ],
      "metadata": {
        "id": "nJ7m16TyxHg6"
      },
      "id": "nJ7m16TyxHg6",
      "execution_count": null,
      "outputs": []
    },
    {
      "cell_type": "code",
      "source": [
        "model3.fit(train_X, train_y)"
      ],
      "metadata": {
        "id": "-zQrB5FDvVwO"
      },
      "id": "-zQrB5FDvVwO",
      "execution_count": null,
      "outputs": []
    },
    {
      "cell_type": "code",
      "source": [
        "model4.fit(train_X, train_y)"
      ],
      "metadata": {
        "id": "9vRDBKfCvXm2"
      },
      "id": "9vRDBKfCvXm2",
      "execution_count": null,
      "outputs": []
    },
    {
      "cell_type": "code",
      "source": [
        "model5.fit(train_X, train_y)"
      ],
      "metadata": {
        "id": "WsW_xfuRvZKs"
      },
      "id": "WsW_xfuRvZKs",
      "execution_count": null,
      "outputs": []
    },
    {
      "cell_type": "code",
      "source": [
        "model6.fit(train_X, train_y)"
      ],
      "metadata": {
        "id": "y8Ma0ePqvaqS"
      },
      "id": "y8Ma0ePqvaqS",
      "execution_count": null,
      "outputs": []
    },
    {
      "cell_type": "code",
      "source": [
        "y_pred3= model3.predict(df3)\n",
        "y_pred3"
      ],
      "metadata": {
        "id": "LPQrKQo2vsAK"
      },
      "id": "LPQrKQo2vsAK",
      "execution_count": null,
      "outputs": []
    },
    {
      "cell_type": "code",
      "source": [
        "# 결과를 예측한다.\n",
        "y_pred4= model4.predict(df4)"
      ],
      "metadata": {
        "id": "9cQxXqtfvv9w"
      },
      "id": "9cQxXqtfvv9w",
      "execution_count": null,
      "outputs": []
    },
    {
      "cell_type": "code",
      "source": [
        "y_pred5= model5.predict(df5)"
      ],
      "metadata": {
        "id": "Dq1hvwn1v4Mi"
      },
      "id": "Dq1hvwn1v4Mi",
      "execution_count": null,
      "outputs": []
    },
    {
      "cell_type": "code",
      "source": [
        "y_pred6= model6.predict(df6)"
      ],
      "metadata": {
        "id": "ZtaNt-_Tv7Pj"
      },
      "id": "ZtaNt-_Tv7Pj",
      "execution_count": null,
      "outputs": []
    },
    {
      "cell_type": "code",
      "execution_count": null,
      "id": "45a01bf1-433b-405a-868a-3b997b87c847",
      "metadata": {
        "id": "45a01bf1-433b-405a-868a-3b997b87c847"
      },
      "outputs": [],
      "source": [
        "# 결과 데이터를 복원한다.\n",
        "result_data3 = encoder1.inverse_transform(y_pred3)\n",
        "result_data4 = encoder1.inverse_transform(y_pred4)\n",
        "result_data5 = encoder1.inverse_transform(y_pred5)\n",
        "result_data6 = encoder1.inverse_transform(y_pred6)"
      ]
    },
    {
      "cell_type": "code",
      "source": [
        "df6['Segment']"
      ],
      "metadata": {
        "id": "zxYYjs8ez5Zg"
      },
      "id": "zxYYjs8ez5Zg",
      "execution_count": null,
      "outputs": []
    },
    {
      "cell_type": "code",
      "source": [
        "submission_df = pd.read_parquet('/content/drive/MyDrive/test데이터/신용카드데이터_test.parquet')\n",
        "submission_df3 = submission_df.copy()\n",
        "submission_df4 = submission_df.copy()\n",
        "submission_df5 = submission_df.copy()\n",
        "submission_df6 = submission_df.copy()"
      ],
      "metadata": {
        "id": "eqNXZMxuzvDw"
      },
      "id": "eqNXZMxuzvDw",
      "execution_count": null,
      "outputs": []
    },
    {
      "cell_type": "code",
      "source": [
        "submission_df3 = submission_df3[['ID','기준년월']]\n",
        "submission_df4 = submission_df4[['ID','기준년월']]\n",
        "submission_df5 = submission_df5[['ID','기준년월']]\n",
        "submission_df6 = submission_df6[['ID','기준년월']]"
      ],
      "metadata": {
        "id": "q4fpYoQ-11NV"
      },
      "id": "q4fpYoQ-11NV",
      "execution_count": null,
      "outputs": []
    },
    {
      "cell_type": "code",
      "source": [
        "submission_df3"
      ],
      "metadata": {
        "id": "rLFheahc3FCt"
      },
      "id": "rLFheahc3FCt",
      "execution_count": null,
      "outputs": []
    },
    {
      "cell_type": "code",
      "source": [
        "from pickle import FALSE\n",
        "# 결과를 저장한다.\n",
        "\n",
        "submission_df3['Segment'] = result_data3\n",
        "submission_df4['Segment'] = result_data4\n",
        "submission_df5['Segment'] = result_data5\n",
        "submission_df6['Segment'] = result_data6\n",
        "\n",
        "\n",
        "print('저장완료')"
      ],
      "metadata": {
        "id": "6LQ9_iF40aEo"
      },
      "id": "6LQ9_iF40aEo",
      "execution_count": null,
      "outputs": []
    },
    {
      "cell_type": "code",
      "source": [
        "submission_df6['Segment'] = result_data6"
      ],
      "metadata": {
        "id": "uFSM_n1xBcD0"
      },
      "id": "uFSM_n1xBcD0",
      "execution_count": null,
      "outputs": []
    },
    {
      "cell_type": "code",
      "source": [
        "\n",
        "submission_df6_7 = submission_df6[submission_df6['기준년월'] == 201807]\n",
        "submission_df6_8 = submission_df6[submission_df6['기준년월'] == 201808]\n",
        "submission_df6_9 = submission_df6[submission_df6['기준년월'] == 201809]\n",
        "submission_df6_10 = submission_df6[submission_df6['기준년월'] == 201810]\n",
        "submission_df6_11 = submission_df6[submission_df6['기준년월'] == 201811]\n",
        "submission_df6_12 = submission_df6[submission_df6['기준년월'] == 201812]"
      ],
      "metadata": {
        "id": "MtampJJZB7Ko"
      },
      "id": "MtampJJZB7Ko",
      "execution_count": null,
      "outputs": []
    },
    {
      "cell_type": "code",
      "source": [
        "submission_df6_7.drop('기준년월', axis=1, inplace=True)\n",
        "submission_df6_8.drop('기준년월', axis=1, inplace=True)\n",
        "submission_df6_9.drop('기준년월', axis=1, inplace=True)\n",
        "submission_df6_10.drop('기준년월', axis=1, inplace=True)\n",
        "submission_df6_11.drop('기준년월', axis=1, inplace=True)\n",
        "submission_df6_12.drop('기준년월', axis=1, inplace=True)"
      ],
      "metadata": {
        "id": "HLU3T5TZCaVK"
      },
      "id": "HLU3T5TZCaVK",
      "execution_count": null,
      "outputs": []
    },
    {
      "cell_type": "code",
      "source": [
        "submission_df6_7"
      ],
      "metadata": {
        "id": "s-xegtVNC13P"
      },
      "id": "s-xegtVNC13P",
      "execution_count": null,
      "outputs": []
    },
    {
      "cell_type": "code",
      "source": [
        "submission_df6_7.to_csv('/content/drive/MyDrive/test데이터/Kaggle테스트용7월.csv', index=False)\n",
        "submission_df6_8.to_csv('/content/drive/MyDrive/test데이터/Kaggle테스트용8월.csv', index=False)\n",
        "submission_df6_9.to_csv('/content/drive/MyDrive/test데이터/Kaggle테스트용9월.csv', index=False)\n",
        "submission_df6_10.to_csv('/content/drive/MyDrive/test데이터/Kaggle테스트용10월.csv', index=False)\n",
        "submission_df6_11.to_csv('/content/drive/MyDrive/test데이터/Kaggle테스트용11월.csv', index=False)\n",
        "submission_df6_12.to_csv('/content/drive/MyDrive/test데이터/Kaggle테스트용12월.csv', index=False)\n"
      ],
      "metadata": {
        "id": "FgeBDkV6C_bi"
      },
      "id": "FgeBDkV6C_bi",
      "execution_count": null,
      "outputs": []
    },
    {
      "cell_type": "code",
      "source": [
        "#확인한다\n",
        "submission_df6_12"
      ],
      "metadata": {
        "id": "_r7o6cugEAJI"
      },
      "id": "_r7o6cugEAJI",
      "execution_count": null,
      "outputs": []
    },
    {
      "cell_type": "code",
      "source": [
        "submission_df6"
      ],
      "metadata": {
        "id": "XrgK3hgEFvfI"
      },
      "id": "XrgK3hgEFvfI",
      "execution_count": null,
      "outputs": []
    },
    {
      "cell_type": "code",
      "source": [
        "# ID의 값이 몇개인지 본다.\n",
        "submission_df6['ID'].value_counts()"
      ],
      "metadata": {
        "id": "smo8reLuFz54"
      },
      "id": "smo8reLuFz54",
      "execution_count": null,
      "outputs": []
    },
    {
      "cell_type": "code",
      "source": [
        "# 랜덤으로 하나씩 추출해본다\n",
        "unique_random_df = submission_df6.groupby('ID', group_keys=False).sample(n=1, random_state=42)"
      ],
      "metadata": {
        "id": "2qBsVRkMEEAx"
      },
      "id": "2qBsVRkMEEAx",
      "execution_count": null,
      "outputs": []
    },
    {
      "cell_type": "code",
      "source": [
        "print(unique_random_df.shape)"
      ],
      "metadata": {
        "id": "SCA-ZSMgGXPY"
      },
      "id": "SCA-ZSMgGXPY",
      "execution_count": null,
      "outputs": []
    },
    {
      "cell_type": "code",
      "source": [
        "unique_random_df.value_counts()"
      ],
      "metadata": {
        "id": "7f1Q4VUqGYuc"
      },
      "id": "7f1Q4VUqGYuc",
      "execution_count": null,
      "outputs": []
    },
    {
      "cell_type": "code",
      "source": [
        "sample_sub_df = unique_random_df.copy()\n",
        "sample_sub_df.drop('기준년월', axis=1, inplace=True)\n",
        "sample_sub_df"
      ],
      "metadata": {
        "id": "sDIpy-c_Gy5r"
      },
      "id": "sDIpy-c_Gy5r",
      "execution_count": null,
      "outputs": []
    },
    {
      "cell_type": "code",
      "source": [
        "# 인덱스 초기화\n",
        "sample_sub_df = sample_sub_df.reset_index(drop=True)"
      ],
      "metadata": {
        "id": "2-C9Le3IG9rx"
      },
      "id": "2-C9Le3IG9rx",
      "execution_count": null,
      "outputs": []
    },
    {
      "cell_type": "code",
      "source": [
        "# 중복된 값 있는지 한번 확인\n",
        "sample_sub_df['ID'].value_counts()[sample_sub_df['ID'].value_counts() > 1]"
      ],
      "metadata": {
        "id": "zdyEdT6yHrL7"
      },
      "id": "zdyEdT6yHrL7",
      "execution_count": null,
      "outputs": []
    },
    {
      "cell_type": "code",
      "source": [
        "# csv로 저장한다.\n",
        "sample_sub_df.to_csv('/content/drive/MyDrive/test데이터/Kaggle테스트용s.csv', index=False)"
      ],
      "metadata": {
        "id": "VaKA31UJHumF"
      },
      "id": "VaKA31UJHumF",
      "execution_count": null,
      "outputs": []
    },
    {
      "cell_type": "code",
      "source": [
        "sample_sub_df"
      ],
      "metadata": {
        "id": "qVSrZ9p3IOvW"
      },
      "id": "qVSrZ9p3IOvW",
      "execution_count": null,
      "outputs": []
    },
    {
      "cell_type": "code",
      "source": [],
      "metadata": {
        "id": "ELFViDLnITm0"
      },
      "id": "ELFViDLnITm0",
      "execution_count": null,
      "outputs": []
    }
  ],
  "metadata": {
    "kernelspec": {
      "display_name": "Python 3",
      "name": "python3"
    },
    "language_info": {
      "codemirror_mode": {
        "name": "ipython",
        "version": 3
      },
      "file_extension": ".py",
      "mimetype": "text/x-python",
      "name": "python",
      "nbconvert_exporter": "python",
      "pygments_lexer": "ipython3",
      "version": "3.10.18"
    },
    "colab": {
      "provenance": [],
      "gpuType": "T4"
    },
    "accelerator": "GPU"
  },
  "nbformat": 4,
  "nbformat_minor": 5
}
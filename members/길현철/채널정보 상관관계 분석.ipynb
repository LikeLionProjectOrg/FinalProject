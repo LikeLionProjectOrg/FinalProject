{
 "cells": [
  {
   "cell_type": "code",
   "execution_count": 1,
   "id": "1cd5474b",
   "metadata": {},
   "outputs": [],
   "source": [
    "import pandas as pd \n",
    "import numpy as np \n",
    "import matplotlib.pyplot as plt \n",
    "import seaborn as sns \n",
    "\n",
    "import warnings \n",
    "warnings.filterwarnings('ignore')\n",
    "\n",
    "sns.set() \n",
    "\n",
    "plt.rcParams['font.family'] = 'Malgun Gothic'\n",
    "plt.rcParams['figure.figsize'] = 12, 6 \n",
    "plt.rcParams['font.size'] = 14 \n",
    "plt.rcParams['axes.unicode_minus'] = False \n",
    "\n",
    "# 결측치 시각화를 위한 라이브러리\n",
    "import missingno \n",
    "\n",
    "# 데이터 전처리 알고리즘 \n",
    "from sklearn.preprocessing import LabelEncoder \n",
    "from sklearn.preprocessing import StandardScaler \n",
    "\n",
    "# 학습용과 검증용으로 나누는  함수 \n",
    "from sklearn.model_selection import train_test_split \n",
    "\n",
    "# 교차검증 \n",
    "from sklearn.model_selection import cross_val_score\n",
    "from sklearn.model_selection import cross_validate\n",
    "from sklearn.model_selection import KFold\n",
    "from sklearn.model_selection import StratifiedKFold\n",
    "\n",
    "# 평가함수\n",
    "# 분류용\n",
    "from sklearn.metrics import accuracy_score\n",
    "from sklearn.metrics import precision_score\n",
    "from sklearn.metrics import recall_score\n",
    "from sklearn.metrics import f1_score\n",
    "from sklearn.metrics import roc_auc_score\n",
    "\n",
    "# 회귀용\n",
    "from sklearn.metrics import r2_score\n",
    "from sklearn.metrics import mean_squared_error\n",
    "\n",
    "# 모델의 최적의 하이퍼 파라미터를 찾기 위한도구 \n",
    "from sklearn.model_selection import GridSearchCV \n",
    "\n",
    "# 머신러닝 알고리즘 - 분류 \n",
    "from sklearn.neighbors import KNeighborsClassifier\n",
    "from sklearn.linear_model import LogisticRegression \n",
    "from sklearn.svm import SVC \n",
    "from sklearn.tree import DecisionTreeClassifier \n",
    "from sklearn.ensemble import RandomForestClassifier \n",
    "from sklearn.ensemble import AdaBoostClassifier \n",
    "from sklearn.ensemble import GradientBoostingClassifier \n",
    "from lightgbm import LGBMClassifier \n",
    "from xgboost import XGBClassifier \n",
    "from sklearn.ensemble import VotingClassifier\n",
    "\n",
    "# 머신러닝 알고리즘 - 회귀 \n",
    "from sklearn.neighbors import KNeighborsRegressor \n",
    "from sklearn.linear_model import LinearRegression \n",
    "from sklearn.linear_model import Ridge \n",
    "from sklearn.linear_model import Lasso \n",
    "from sklearn.linear_model import ElasticNet \n",
    "from sklearn.svm import SVR \n",
    "from sklearn.tree import DecisionTreeRegressor \n",
    "from sklearn.ensemble import RandomForestRegressor\n",
    "from sklearn.ensemble import AdaBoostRegressor \n",
    "from sklearn.ensemble import GradientBoostingRegressor \n",
    "from lightgbm import LGBMRegressor \n",
    "from xgboost import XGBRegressor \n",
    "from sklearn.ensemble import VotingRegressor \n",
    "\n",
    "# 학습 모델 저장을 위한 라이브러리\n",
    "import pickle "
   ]
  },
  {
   "cell_type": "markdown",
   "id": "4f5e2144",
   "metadata": {},
   "source": [
    "데이터 불러오기 "
   ]
  },
  {
   "cell_type": "code",
   "execution_count": 10,
   "id": "e77f986a",
   "metadata": {},
   "outputs": [],
   "source": [
    "train_df  = pd.read_parquet(r'C:\\Users\\SAMSUNG\\OneDrive\\바탕 화면\\파이널 프로젝트\\train\\6.채널정보\\201807_train_채널정보.parquet')\n",
    "sg_df = pd.read_csv(r'C:\\Users\\SAMSUNG\\OneDrive\\바탕 화면\\파이널 프로젝트\\july_segment.csv', encoding='utf-8-sig')\n"
   ]
  },
  {
   "cell_type": "code",
   "execution_count": 11,
   "id": "f97000b1",
   "metadata": {},
   "outputs": [
    {
     "data": {
      "text/html": [
       "<div>\n",
       "<style scoped>\n",
       "    .dataframe tbody tr th:only-of-type {\n",
       "        vertical-align: middle;\n",
       "    }\n",
       "\n",
       "    .dataframe tbody tr th {\n",
       "        vertical-align: top;\n",
       "    }\n",
       "\n",
       "    .dataframe thead th {\n",
       "        text-align: right;\n",
       "    }\n",
       "</style>\n",
       "<table border=\"1\" class=\"dataframe\">\n",
       "  <thead>\n",
       "    <tr style=\"text-align: right;\">\n",
       "      <th></th>\n",
       "      <th>기준년월</th>\n",
       "      <th>ID</th>\n",
       "      <th>인입횟수_ARS_R6M</th>\n",
       "      <th>이용메뉴건수_ARS_R6M</th>\n",
       "      <th>인입일수_ARS_R6M</th>\n",
       "      <th>인입월수_ARS_R6M</th>\n",
       "      <th>인입후경과월_ARS</th>\n",
       "      <th>인입횟수_ARS_B0M</th>\n",
       "      <th>이용메뉴건수_ARS_B0M</th>\n",
       "      <th>인입일수_ARS_B0M</th>\n",
       "      <th>...</th>\n",
       "      <th>당사PAY_방문횟수_R6M</th>\n",
       "      <th>당사PAY_방문월수_R6M</th>\n",
       "      <th>당사멤버쉽_방문횟수_B0M</th>\n",
       "      <th>당사멤버쉽_방문횟수_R6M</th>\n",
       "      <th>당사멤버쉽_방문월수_R6M</th>\n",
       "      <th>OS구분코드</th>\n",
       "      <th>홈페이지_금융건수_R6M</th>\n",
       "      <th>홈페이지_선결제건수_R6M</th>\n",
       "      <th>홈페이지_금융건수_R3M</th>\n",
       "      <th>홈페이지_선결제건수_R3M</th>\n",
       "    </tr>\n",
       "  </thead>\n",
       "  <tbody>\n",
       "    <tr>\n",
       "      <th>0</th>\n",
       "      <td>201807</td>\n",
       "      <td>TRAIN_000000</td>\n",
       "      <td>10회 이상</td>\n",
       "      <td>10회 이상</td>\n",
       "      <td>8</td>\n",
       "      <td>6</td>\n",
       "      <td>0</td>\n",
       "      <td>2</td>\n",
       "      <td>6</td>\n",
       "      <td>2</td>\n",
       "      <td>...</td>\n",
       "      <td>0</td>\n",
       "      <td>0</td>\n",
       "      <td>22</td>\n",
       "      <td>221</td>\n",
       "      <td>6</td>\n",
       "      <td>Android</td>\n",
       "      <td>0</td>\n",
       "      <td>0</td>\n",
       "      <td>0</td>\n",
       "      <td>0</td>\n",
       "    </tr>\n",
       "    <tr>\n",
       "      <th>1</th>\n",
       "      <td>201807</td>\n",
       "      <td>TRAIN_000001</td>\n",
       "      <td>1회 이상</td>\n",
       "      <td>1회 이상</td>\n",
       "      <td>0</td>\n",
       "      <td>0</td>\n",
       "      <td>0</td>\n",
       "      <td>0</td>\n",
       "      <td>0</td>\n",
       "      <td>0</td>\n",
       "      <td>...</td>\n",
       "      <td>0</td>\n",
       "      <td>0</td>\n",
       "      <td>0</td>\n",
       "      <td>0</td>\n",
       "      <td>0</td>\n",
       "      <td>None</td>\n",
       "      <td>0</td>\n",
       "      <td>0</td>\n",
       "      <td>0</td>\n",
       "      <td>0</td>\n",
       "    </tr>\n",
       "    <tr>\n",
       "      <th>2</th>\n",
       "      <td>201807</td>\n",
       "      <td>TRAIN_000002</td>\n",
       "      <td>1회 이상</td>\n",
       "      <td>1회 이상</td>\n",
       "      <td>1</td>\n",
       "      <td>1</td>\n",
       "      <td>0</td>\n",
       "      <td>2</td>\n",
       "      <td>5</td>\n",
       "      <td>1</td>\n",
       "      <td>...</td>\n",
       "      <td>0</td>\n",
       "      <td>0</td>\n",
       "      <td>0</td>\n",
       "      <td>0</td>\n",
       "      <td>0</td>\n",
       "      <td>Android</td>\n",
       "      <td>11</td>\n",
       "      <td>6</td>\n",
       "      <td>5</td>\n",
       "      <td>5</td>\n",
       "    </tr>\n",
       "    <tr>\n",
       "      <th>3</th>\n",
       "      <td>201807</td>\n",
       "      <td>TRAIN_000003</td>\n",
       "      <td>10회 이상</td>\n",
       "      <td>10회 이상</td>\n",
       "      <td>10</td>\n",
       "      <td>6</td>\n",
       "      <td>0</td>\n",
       "      <td>2</td>\n",
       "      <td>6</td>\n",
       "      <td>2</td>\n",
       "      <td>...</td>\n",
       "      <td>0</td>\n",
       "      <td>0</td>\n",
       "      <td>23</td>\n",
       "      <td>219</td>\n",
       "      <td>6</td>\n",
       "      <td>Android</td>\n",
       "      <td>0</td>\n",
       "      <td>0</td>\n",
       "      <td>0</td>\n",
       "      <td>0</td>\n",
       "    </tr>\n",
       "    <tr>\n",
       "      <th>4</th>\n",
       "      <td>201807</td>\n",
       "      <td>TRAIN_000004</td>\n",
       "      <td>1회 이상</td>\n",
       "      <td>1회 이상</td>\n",
       "      <td>0</td>\n",
       "      <td>0</td>\n",
       "      <td>0</td>\n",
       "      <td>0</td>\n",
       "      <td>0</td>\n",
       "      <td>0</td>\n",
       "      <td>...</td>\n",
       "      <td>0</td>\n",
       "      <td>0</td>\n",
       "      <td>0</td>\n",
       "      <td>0</td>\n",
       "      <td>0</td>\n",
       "      <td>Android</td>\n",
       "      <td>0</td>\n",
       "      <td>0</td>\n",
       "      <td>0</td>\n",
       "      <td>0</td>\n",
       "    </tr>\n",
       "    <tr>\n",
       "      <th>...</th>\n",
       "      <td>...</td>\n",
       "      <td>...</td>\n",
       "      <td>...</td>\n",
       "      <td>...</td>\n",
       "      <td>...</td>\n",
       "      <td>...</td>\n",
       "      <td>...</td>\n",
       "      <td>...</td>\n",
       "      <td>...</td>\n",
       "      <td>...</td>\n",
       "      <td>...</td>\n",
       "      <td>...</td>\n",
       "      <td>...</td>\n",
       "      <td>...</td>\n",
       "      <td>...</td>\n",
       "      <td>...</td>\n",
       "      <td>...</td>\n",
       "      <td>...</td>\n",
       "      <td>...</td>\n",
       "      <td>...</td>\n",
       "      <td>...</td>\n",
       "    </tr>\n",
       "    <tr>\n",
       "      <th>399995</th>\n",
       "      <td>201807</td>\n",
       "      <td>TRAIN_399995</td>\n",
       "      <td>1회 이상</td>\n",
       "      <td>1회 이상</td>\n",
       "      <td>0</td>\n",
       "      <td>0</td>\n",
       "      <td>0</td>\n",
       "      <td>0</td>\n",
       "      <td>0</td>\n",
       "      <td>0</td>\n",
       "      <td>...</td>\n",
       "      <td>0</td>\n",
       "      <td>0</td>\n",
       "      <td>0</td>\n",
       "      <td>0</td>\n",
       "      <td>0</td>\n",
       "      <td>None</td>\n",
       "      <td>0</td>\n",
       "      <td>0</td>\n",
       "      <td>0</td>\n",
       "      <td>0</td>\n",
       "    </tr>\n",
       "    <tr>\n",
       "      <th>399996</th>\n",
       "      <td>201807</td>\n",
       "      <td>TRAIN_399996</td>\n",
       "      <td>1회 이상</td>\n",
       "      <td>1회 이상</td>\n",
       "      <td>1</td>\n",
       "      <td>1</td>\n",
       "      <td>2</td>\n",
       "      <td>0</td>\n",
       "      <td>0</td>\n",
       "      <td>0</td>\n",
       "      <td>...</td>\n",
       "      <td>0</td>\n",
       "      <td>0</td>\n",
       "      <td>0</td>\n",
       "      <td>8</td>\n",
       "      <td>1</td>\n",
       "      <td>None</td>\n",
       "      <td>0</td>\n",
       "      <td>0</td>\n",
       "      <td>0</td>\n",
       "      <td>0</td>\n",
       "    </tr>\n",
       "    <tr>\n",
       "      <th>399997</th>\n",
       "      <td>201807</td>\n",
       "      <td>TRAIN_399997</td>\n",
       "      <td>1회 이상</td>\n",
       "      <td>1회 이상</td>\n",
       "      <td>0</td>\n",
       "      <td>0</td>\n",
       "      <td>0</td>\n",
       "      <td>0</td>\n",
       "      <td>0</td>\n",
       "      <td>0</td>\n",
       "      <td>...</td>\n",
       "      <td>0</td>\n",
       "      <td>0</td>\n",
       "      <td>0</td>\n",
       "      <td>0</td>\n",
       "      <td>0</td>\n",
       "      <td>None</td>\n",
       "      <td>0</td>\n",
       "      <td>0</td>\n",
       "      <td>0</td>\n",
       "      <td>0</td>\n",
       "    </tr>\n",
       "    <tr>\n",
       "      <th>399998</th>\n",
       "      <td>201807</td>\n",
       "      <td>TRAIN_399998</td>\n",
       "      <td>1회 이상</td>\n",
       "      <td>1회 이상</td>\n",
       "      <td>0</td>\n",
       "      <td>0</td>\n",
       "      <td>0</td>\n",
       "      <td>0</td>\n",
       "      <td>0</td>\n",
       "      <td>0</td>\n",
       "      <td>...</td>\n",
       "      <td>0</td>\n",
       "      <td>0</td>\n",
       "      <td>0</td>\n",
       "      <td>0</td>\n",
       "      <td>0</td>\n",
       "      <td>None</td>\n",
       "      <td>0</td>\n",
       "      <td>0</td>\n",
       "      <td>0</td>\n",
       "      <td>0</td>\n",
       "    </tr>\n",
       "    <tr>\n",
       "      <th>399999</th>\n",
       "      <td>201807</td>\n",
       "      <td>TRAIN_399999</td>\n",
       "      <td>1회 이상</td>\n",
       "      <td>1회 이상</td>\n",
       "      <td>0</td>\n",
       "      <td>0</td>\n",
       "      <td>0</td>\n",
       "      <td>0</td>\n",
       "      <td>0</td>\n",
       "      <td>0</td>\n",
       "      <td>...</td>\n",
       "      <td>0</td>\n",
       "      <td>0</td>\n",
       "      <td>0</td>\n",
       "      <td>0</td>\n",
       "      <td>0</td>\n",
       "      <td>None</td>\n",
       "      <td>0</td>\n",
       "      <td>0</td>\n",
       "      <td>0</td>\n",
       "      <td>0</td>\n",
       "    </tr>\n",
       "  </tbody>\n",
       "</table>\n",
       "<p>400000 rows × 105 columns</p>\n",
       "</div>"
      ],
      "text/plain": [
       "          기준년월            ID 인입횟수_ARS_R6M 이용메뉴건수_ARS_R6M  인입일수_ARS_R6M  \\\n",
       "0       201807  TRAIN_000000       10회 이상         10회 이상             8   \n",
       "1       201807  TRAIN_000001        1회 이상          1회 이상             0   \n",
       "2       201807  TRAIN_000002        1회 이상          1회 이상             1   \n",
       "3       201807  TRAIN_000003       10회 이상         10회 이상            10   \n",
       "4       201807  TRAIN_000004        1회 이상          1회 이상             0   \n",
       "...        ...           ...          ...            ...           ...   \n",
       "399995  201807  TRAIN_399995        1회 이상          1회 이상             0   \n",
       "399996  201807  TRAIN_399996        1회 이상          1회 이상             1   \n",
       "399997  201807  TRAIN_399997        1회 이상          1회 이상             0   \n",
       "399998  201807  TRAIN_399998        1회 이상          1회 이상             0   \n",
       "399999  201807  TRAIN_399999        1회 이상          1회 이상             0   \n",
       "\n",
       "        인입월수_ARS_R6M  인입후경과월_ARS  인입횟수_ARS_B0M  이용메뉴건수_ARS_B0M  인입일수_ARS_B0M  \\\n",
       "0                  6           0             2               6             2   \n",
       "1                  0           0             0               0             0   \n",
       "2                  1           0             2               5             1   \n",
       "3                  6           0             2               6             2   \n",
       "4                  0           0             0               0             0   \n",
       "...              ...         ...           ...             ...           ...   \n",
       "399995             0           0             0               0             0   \n",
       "399996             1           2             0               0             0   \n",
       "399997             0           0             0               0             0   \n",
       "399998             0           0             0               0             0   \n",
       "399999             0           0             0               0             0   \n",
       "\n",
       "        ... 당사PAY_방문횟수_R6M 당사PAY_방문월수_R6M  당사멤버쉽_방문횟수_B0M  당사멤버쉽_방문횟수_R6M  \\\n",
       "0       ...              0              0              22             221   \n",
       "1       ...              0              0               0               0   \n",
       "2       ...              0              0               0               0   \n",
       "3       ...              0              0              23             219   \n",
       "4       ...              0              0               0               0   \n",
       "...     ...            ...            ...             ...             ...   \n",
       "399995  ...              0              0               0               0   \n",
       "399996  ...              0              0               0               8   \n",
       "399997  ...              0              0               0               0   \n",
       "399998  ...              0              0               0               0   \n",
       "399999  ...              0              0               0               0   \n",
       "\n",
       "       당사멤버쉽_방문월수_R6M   OS구분코드  홈페이지_금융건수_R6M  홈페이지_선결제건수_R6M  홈페이지_금융건수_R3M  \\\n",
       "0                   6  Android              0               0              0   \n",
       "1                   0     None              0               0              0   \n",
       "2                   0  Android             11               6              5   \n",
       "3                   6  Android              0               0              0   \n",
       "4                   0  Android              0               0              0   \n",
       "...               ...      ...            ...             ...            ...   \n",
       "399995              0     None              0               0              0   \n",
       "399996              1     None              0               0              0   \n",
       "399997              0     None              0               0              0   \n",
       "399998              0     None              0               0              0   \n",
       "399999              0     None              0               0              0   \n",
       "\n",
       "        홈페이지_선결제건수_R3M  \n",
       "0                    0  \n",
       "1                    0  \n",
       "2                    5  \n",
       "3                    0  \n",
       "4                    0  \n",
       "...                ...  \n",
       "399995               0  \n",
       "399996               0  \n",
       "399997               0  \n",
       "399998               0  \n",
       "399999               0  \n",
       "\n",
       "[400000 rows x 105 columns]"
      ]
     },
     "execution_count": 11,
     "metadata": {},
     "output_type": "execute_result"
    }
   ],
   "source": [
    "train_df"
   ]
  },
  {
   "cell_type": "code",
   "execution_count": 23,
   "id": "99891068",
   "metadata": {},
   "outputs": [
    {
     "data": {
      "text/plain": [
       "기준년월                   0\n",
       "ID                     0\n",
       "인입횟수_ARS_R6M           0\n",
       "이용메뉴건수_ARS_R6M         0\n",
       "인입일수_ARS_R6M           0\n",
       "                   ...  \n",
       "OS구분코드            272261\n",
       "홈페이지_금융건수_R6M          0\n",
       "홈페이지_선결제건수_R6M         0\n",
       "홈페이지_금융건수_R3M          0\n",
       "홈페이지_선결제건수_R3M         0\n",
       "Length: 105, dtype: int64"
      ]
     },
     "execution_count": 23,
     "metadata": {},
     "output_type": "execute_result"
    }
   ],
   "source": [
    "train_df.isna().sum()"
   ]
  },
  {
   "cell_type": "code",
   "execution_count": null,
   "id": "2c971877",
   "metadata": {},
   "outputs": [],
   "source": [
    "# 입력과 결과로 나눈다.\n",
    "x = train_df.select_dtypes(include=['number']).drop(['기준년월'], axis=1)\n",
    "y = sg_df['Segment']\n",
    "\n",
    "# Segment에서 문자열 -> 숫자\n",
    "encoder1 = LabelEncoder()\n",
    "encoder1.fit(y)\n",
    "y_encoded = encoder1.transform(y)"
   ]
  },
  {
   "cell_type": "code",
   "execution_count": 22,
   "id": "3e3bc742",
   "metadata": {},
   "outputs": [
    {
     "name": "stdout",
     "output_type": "stream",
     "text": [
      "방문후경과월_PC_R6M     0.184445\n",
      "홈페이지_금융건수_R6M    -0.179133\n",
      "인입일수_ARS_R6M     -0.177438\n",
      "불만제기후경과월_R12M    -0.173899\n",
      "인입월수_ARS_R6M     -0.172912\n",
      "                    ...   \n",
      "불만제기건수_B0M             NaN\n",
      "불만제기건수_R12M            NaN\n",
      "당사PAY_방문횟수_B0M         NaN\n",
      "당사PAY_방문횟수_R6M         NaN\n",
      "당사PAY_방문월수_R6M         NaN\n",
      "Length: 97, dtype: float64\n"
     ]
    }
   ],
   "source": [
    "# 숫자형 데이터들의 상관계수를 계산한다.\n",
    "\n",
    "correlations = pd.Series(\n",
    "    [pd.Series(x[col]).corr(pd.Series(y_encoded)) for col in x.columns],\n",
    "    index=x.columns\n",
    ").sort_values(key=abs, ascending=False)\n",
    "\n",
    "print(correlations)"
   ]
  },
  {
   "cell_type": "code",
   "execution_count": 32,
   "id": "2b2ba259",
   "metadata": {},
   "outputs": [
    {
     "data": {
      "application/vnd.plotly.v1+json": {
       "config": {
        "plotlyServerURL": "https://plot.ly"
       },
       "data": [
        {
         "alignmentgroup": "True",
         "hovertemplate": "variable=0<br>Correlation=%{x}<br>Feature=%{y}<extra></extra>",
         "legendgroup": "0",
         "marker": {
          "color": "#636efa",
          "pattern": {
           "shape": ""
          }
         },
         "name": "0",
         "offsetgroup": "0",
         "orientation": "h",
         "showlegend": true,
         "textposition": "auto",
         "type": "bar",
         "x": [
          0.18444486907628005,
          -0.17913326671192195,
          -0.17743825014889567,
          -0.17389906372055958,
          -0.17291197961600382,
          -0.1638431396271259,
          -0.1620095518037875,
          -0.16196324052637992,
          -0.16052722417379978,
          0.15842205762701309,
          -0.15741954153736015,
          -0.15733840397831045,
          -0.1534921216428991,
          -0.15304598365047234,
          -0.15199966566446388,
          -0.1486638343882212,
          -0.1474307310211755,
          -0.14682268157950332,
          -0.14522875691957238,
          0.14516490584487443,
          -0.14287085922208842,
          -0.14081709496784944,
          -0.13177282904132656,
          -0.12447802643582558,
          -0.1210348405452323,
          -0.11270807158623782,
          -0.111932112503415,
          -0.11125991884656042,
          -0.0982206171762568,
          -0.09438331650262356,
          -0.08857085215781714,
          -0.08856959486049451,
          -0.08608037646763544,
          -0.0852321621285909,
          -0.07448390777063002,
          -0.07407656817157807,
          -0.07304899880096494,
          -0.06255098221110587,
          -0.05983108139837795,
          -0.05903267744843523,
          -0.05640787759754533,
          0.05489218256499515,
          -0.03422143223689884,
          -0.030323285507725468,
          -0.02431771185560688,
          -0.02060498876195629,
          0.015323838725511886,
          -0.015002472078746186,
          -0.01460936706221726,
          0.013553166939277168,
          0.01222515601579586,
          0.010133739571794928,
          -0.006780687355557457,
          0.006450163675375084,
          0.006086409412964338,
          -0.005034154504936858,
          -0.003552070393337163,
          -0.0032532155945509513,
          0.0030147309441514816,
          0.0016349428847855462,
          0.00028178157379539097
         ],
         "xaxis": "x",
         "y": [
          "방문후경과월_PC_R6M",
          "홈페이지_금융건수_R6M",
          "인입일수_ARS_R6M",
          "불만제기후경과월_R12M",
          "인입월수_ARS_R6M",
          "방문월수_PC_R6M",
          "인입월수_IB_R6M",
          "인입일수_IB_R6M",
          "홈페이지_금융건수_R3M",
          "방문후경과월_앱_R6M",
          "인입횟수_IB_R6M",
          "상담건수_R6M",
          "방문월수_앱_R6M",
          "이용메뉴건수_IB_R6M",
          "홈페이지_선결제건수_R6M",
          "방문횟수_앱_B0M",
          "방문일수_앱_B0M",
          "홈페이지_선결제건수_R3M",
          "방문일수_앱_R6M",
          "인입후경과월_IB_R6M",
          "방문일수_PC_B0M",
          "방문횟수_PC_B0M",
          "당사멤버쉽_방문월수_R6M",
          "인입일수_ARS_B0M",
          "IB문의건수_사용승인내역_R6M",
          "IB문의건수_선결제_R6M",
          "인입횟수_ARS_B0M",
          "이용메뉴건수_ARS_B0M",
          "당사멤버쉽_방문횟수_R6M",
          "당사멤버쉽_방문횟수_B0M",
          "상담건수_B0M",
          "인입횟수_IB_B0M",
          "인입일수_IB_B0M",
          "이용메뉴건수_IB_B0M",
          "방문횟수_모바일웹_R6M",
          "방문월수_모바일웹_R6M",
          "방문일수_모바일웹_R6M",
          "인입후경과월_ARS",
          "IB문의건수_선결제_B0M",
          "IB문의건수_카드발급_R6M",
          "IB문의건수_분실도난_R6M",
          "방문후경과월_모바일웹_R6M",
          "IB문의건수_결제_R6M",
          "IB문의건수_정보변경_R6M",
          "IB문의건수_한도_R6M",
          "IB문의건수_CA_R6M",
          "IB문의건수_CS_R6M",
          "IB문의건수_사용승인내역_B0M",
          "IB문의건수_BL_R6M",
          "IB문의건수_CS_B0M",
          "IB문의건수_결제일변경_R6M",
          "IB문의건수_SMS_R6M",
          "IB문의건수_할부_R6M",
          "IB문의건수_CL_RV_B0M",
          "IB문의건수_비밀번호_R6M",
          "IB문의건수_포인트_R6M",
          "방문일수_모바일웹_B0M",
          "방문횟수_모바일웹_B0M",
          "IB문의건수_부대서비스_R6M",
          "IB문의건수_카드발급_B0M",
          "IB문의건수_CL_RV_R6M"
         ],
         "yaxis": "y"
        }
       ],
       "layout": {
        "barmode": "relative",
        "height": 1525,
        "legend": {
         "title": {
          "text": "variable"
         },
         "tracegroupgap": 0
        },
        "margin": {
         "l": 150
        },
        "template": {
         "data": {
          "bar": [
           {
            "error_x": {
             "color": "#2a3f5f"
            },
            "error_y": {
             "color": "#2a3f5f"
            },
            "marker": {
             "line": {
              "color": "#E5ECF6",
              "width": 0.5
             },
             "pattern": {
              "fillmode": "overlay",
              "size": 10,
              "solidity": 0.2
             }
            },
            "type": "bar"
           }
          ],
          "barpolar": [
           {
            "marker": {
             "line": {
              "color": "#E5ECF6",
              "width": 0.5
             },
             "pattern": {
              "fillmode": "overlay",
              "size": 10,
              "solidity": 0.2
             }
            },
            "type": "barpolar"
           }
          ],
          "carpet": [
           {
            "aaxis": {
             "endlinecolor": "#2a3f5f",
             "gridcolor": "white",
             "linecolor": "white",
             "minorgridcolor": "white",
             "startlinecolor": "#2a3f5f"
            },
            "baxis": {
             "endlinecolor": "#2a3f5f",
             "gridcolor": "white",
             "linecolor": "white",
             "minorgridcolor": "white",
             "startlinecolor": "#2a3f5f"
            },
            "type": "carpet"
           }
          ],
          "choropleth": [
           {
            "colorbar": {
             "outlinewidth": 0,
             "ticks": ""
            },
            "type": "choropleth"
           }
          ],
          "contour": [
           {
            "colorbar": {
             "outlinewidth": 0,
             "ticks": ""
            },
            "colorscale": [
             [
              0,
              "#0d0887"
             ],
             [
              0.1111111111111111,
              "#46039f"
             ],
             [
              0.2222222222222222,
              "#7201a8"
             ],
             [
              0.3333333333333333,
              "#9c179e"
             ],
             [
              0.4444444444444444,
              "#bd3786"
             ],
             [
              0.5555555555555556,
              "#d8576b"
             ],
             [
              0.6666666666666666,
              "#ed7953"
             ],
             [
              0.7777777777777778,
              "#fb9f3a"
             ],
             [
              0.8888888888888888,
              "#fdca26"
             ],
             [
              1,
              "#f0f921"
             ]
            ],
            "type": "contour"
           }
          ],
          "contourcarpet": [
           {
            "colorbar": {
             "outlinewidth": 0,
             "ticks": ""
            },
            "type": "contourcarpet"
           }
          ],
          "heatmap": [
           {
            "colorbar": {
             "outlinewidth": 0,
             "ticks": ""
            },
            "colorscale": [
             [
              0,
              "#0d0887"
             ],
             [
              0.1111111111111111,
              "#46039f"
             ],
             [
              0.2222222222222222,
              "#7201a8"
             ],
             [
              0.3333333333333333,
              "#9c179e"
             ],
             [
              0.4444444444444444,
              "#bd3786"
             ],
             [
              0.5555555555555556,
              "#d8576b"
             ],
             [
              0.6666666666666666,
              "#ed7953"
             ],
             [
              0.7777777777777778,
              "#fb9f3a"
             ],
             [
              0.8888888888888888,
              "#fdca26"
             ],
             [
              1,
              "#f0f921"
             ]
            ],
            "type": "heatmap"
           }
          ],
          "heatmapgl": [
           {
            "colorbar": {
             "outlinewidth": 0,
             "ticks": ""
            },
            "colorscale": [
             [
              0,
              "#0d0887"
             ],
             [
              0.1111111111111111,
              "#46039f"
             ],
             [
              0.2222222222222222,
              "#7201a8"
             ],
             [
              0.3333333333333333,
              "#9c179e"
             ],
             [
              0.4444444444444444,
              "#bd3786"
             ],
             [
              0.5555555555555556,
              "#d8576b"
             ],
             [
              0.6666666666666666,
              "#ed7953"
             ],
             [
              0.7777777777777778,
              "#fb9f3a"
             ],
             [
              0.8888888888888888,
              "#fdca26"
             ],
             [
              1,
              "#f0f921"
             ]
            ],
            "type": "heatmapgl"
           }
          ],
          "histogram": [
           {
            "marker": {
             "pattern": {
              "fillmode": "overlay",
              "size": 10,
              "solidity": 0.2
             }
            },
            "type": "histogram"
           }
          ],
          "histogram2d": [
           {
            "colorbar": {
             "outlinewidth": 0,
             "ticks": ""
            },
            "colorscale": [
             [
              0,
              "#0d0887"
             ],
             [
              0.1111111111111111,
              "#46039f"
             ],
             [
              0.2222222222222222,
              "#7201a8"
             ],
             [
              0.3333333333333333,
              "#9c179e"
             ],
             [
              0.4444444444444444,
              "#bd3786"
             ],
             [
              0.5555555555555556,
              "#d8576b"
             ],
             [
              0.6666666666666666,
              "#ed7953"
             ],
             [
              0.7777777777777778,
              "#fb9f3a"
             ],
             [
              0.8888888888888888,
              "#fdca26"
             ],
             [
              1,
              "#f0f921"
             ]
            ],
            "type": "histogram2d"
           }
          ],
          "histogram2dcontour": [
           {
            "colorbar": {
             "outlinewidth": 0,
             "ticks": ""
            },
            "colorscale": [
             [
              0,
              "#0d0887"
             ],
             [
              0.1111111111111111,
              "#46039f"
             ],
             [
              0.2222222222222222,
              "#7201a8"
             ],
             [
              0.3333333333333333,
              "#9c179e"
             ],
             [
              0.4444444444444444,
              "#bd3786"
             ],
             [
              0.5555555555555556,
              "#d8576b"
             ],
             [
              0.6666666666666666,
              "#ed7953"
             ],
             [
              0.7777777777777778,
              "#fb9f3a"
             ],
             [
              0.8888888888888888,
              "#fdca26"
             ],
             [
              1,
              "#f0f921"
             ]
            ],
            "type": "histogram2dcontour"
           }
          ],
          "mesh3d": [
           {
            "colorbar": {
             "outlinewidth": 0,
             "ticks": ""
            },
            "type": "mesh3d"
           }
          ],
          "parcoords": [
           {
            "line": {
             "colorbar": {
              "outlinewidth": 0,
              "ticks": ""
             }
            },
            "type": "parcoords"
           }
          ],
          "pie": [
           {
            "automargin": true,
            "type": "pie"
           }
          ],
          "scatter": [
           {
            "fillpattern": {
             "fillmode": "overlay",
             "size": 10,
             "solidity": 0.2
            },
            "type": "scatter"
           }
          ],
          "scatter3d": [
           {
            "line": {
             "colorbar": {
              "outlinewidth": 0,
              "ticks": ""
             }
            },
            "marker": {
             "colorbar": {
              "outlinewidth": 0,
              "ticks": ""
             }
            },
            "type": "scatter3d"
           }
          ],
          "scattercarpet": [
           {
            "marker": {
             "colorbar": {
              "outlinewidth": 0,
              "ticks": ""
             }
            },
            "type": "scattercarpet"
           }
          ],
          "scattergeo": [
           {
            "marker": {
             "colorbar": {
              "outlinewidth": 0,
              "ticks": ""
             }
            },
            "type": "scattergeo"
           }
          ],
          "scattergl": [
           {
            "marker": {
             "colorbar": {
              "outlinewidth": 0,
              "ticks": ""
             }
            },
            "type": "scattergl"
           }
          ],
          "scattermapbox": [
           {
            "marker": {
             "colorbar": {
              "outlinewidth": 0,
              "ticks": ""
             }
            },
            "type": "scattermapbox"
           }
          ],
          "scatterpolar": [
           {
            "marker": {
             "colorbar": {
              "outlinewidth": 0,
              "ticks": ""
             }
            },
            "type": "scatterpolar"
           }
          ],
          "scatterpolargl": [
           {
            "marker": {
             "colorbar": {
              "outlinewidth": 0,
              "ticks": ""
             }
            },
            "type": "scatterpolargl"
           }
          ],
          "scatterternary": [
           {
            "marker": {
             "colorbar": {
              "outlinewidth": 0,
              "ticks": ""
             }
            },
            "type": "scatterternary"
           }
          ],
          "surface": [
           {
            "colorbar": {
             "outlinewidth": 0,
             "ticks": ""
            },
            "colorscale": [
             [
              0,
              "#0d0887"
             ],
             [
              0.1111111111111111,
              "#46039f"
             ],
             [
              0.2222222222222222,
              "#7201a8"
             ],
             [
              0.3333333333333333,
              "#9c179e"
             ],
             [
              0.4444444444444444,
              "#bd3786"
             ],
             [
              0.5555555555555556,
              "#d8576b"
             ],
             [
              0.6666666666666666,
              "#ed7953"
             ],
             [
              0.7777777777777778,
              "#fb9f3a"
             ],
             [
              0.8888888888888888,
              "#fdca26"
             ],
             [
              1,
              "#f0f921"
             ]
            ],
            "type": "surface"
           }
          ],
          "table": [
           {
            "cells": {
             "fill": {
              "color": "#EBF0F8"
             },
             "line": {
              "color": "white"
             }
            },
            "header": {
             "fill": {
              "color": "#C8D4E3"
             },
             "line": {
              "color": "white"
             }
            },
            "type": "table"
           }
          ]
         },
         "layout": {
          "annotationdefaults": {
           "arrowcolor": "#2a3f5f",
           "arrowhead": 0,
           "arrowwidth": 1
          },
          "autotypenumbers": "strict",
          "coloraxis": {
           "colorbar": {
            "outlinewidth": 0,
            "ticks": ""
           }
          },
          "colorscale": {
           "diverging": [
            [
             0,
             "#8e0152"
            ],
            [
             0.1,
             "#c51b7d"
            ],
            [
             0.2,
             "#de77ae"
            ],
            [
             0.3,
             "#f1b6da"
            ],
            [
             0.4,
             "#fde0ef"
            ],
            [
             0.5,
             "#f7f7f7"
            ],
            [
             0.6,
             "#e6f5d0"
            ],
            [
             0.7,
             "#b8e186"
            ],
            [
             0.8,
             "#7fbc41"
            ],
            [
             0.9,
             "#4d9221"
            ],
            [
             1,
             "#276419"
            ]
           ],
           "sequential": [
            [
             0,
             "#0d0887"
            ],
            [
             0.1111111111111111,
             "#46039f"
            ],
            [
             0.2222222222222222,
             "#7201a8"
            ],
            [
             0.3333333333333333,
             "#9c179e"
            ],
            [
             0.4444444444444444,
             "#bd3786"
            ],
            [
             0.5555555555555556,
             "#d8576b"
            ],
            [
             0.6666666666666666,
             "#ed7953"
            ],
            [
             0.7777777777777778,
             "#fb9f3a"
            ],
            [
             0.8888888888888888,
             "#fdca26"
            ],
            [
             1,
             "#f0f921"
            ]
           ],
           "sequentialminus": [
            [
             0,
             "#0d0887"
            ],
            [
             0.1111111111111111,
             "#46039f"
            ],
            [
             0.2222222222222222,
             "#7201a8"
            ],
            [
             0.3333333333333333,
             "#9c179e"
            ],
            [
             0.4444444444444444,
             "#bd3786"
            ],
            [
             0.5555555555555556,
             "#d8576b"
            ],
            [
             0.6666666666666666,
             "#ed7953"
            ],
            [
             0.7777777777777778,
             "#fb9f3a"
            ],
            [
             0.8888888888888888,
             "#fdca26"
            ],
            [
             1,
             "#f0f921"
            ]
           ]
          },
          "colorway": [
           "#636efa",
           "#EF553B",
           "#00cc96",
           "#ab63fa",
           "#FFA15A",
           "#19d3f3",
           "#FF6692",
           "#B6E880",
           "#FF97FF",
           "#FECB52"
          ],
          "font": {
           "color": "#2a3f5f"
          },
          "geo": {
           "bgcolor": "white",
           "lakecolor": "white",
           "landcolor": "#E5ECF6",
           "showlakes": true,
           "showland": true,
           "subunitcolor": "white"
          },
          "hoverlabel": {
           "align": "left"
          },
          "hovermode": "closest",
          "mapbox": {
           "style": "light"
          },
          "paper_bgcolor": "white",
          "plot_bgcolor": "#E5ECF6",
          "polar": {
           "angularaxis": {
            "gridcolor": "white",
            "linecolor": "white",
            "ticks": ""
           },
           "bgcolor": "#E5ECF6",
           "radialaxis": {
            "gridcolor": "white",
            "linecolor": "white",
            "ticks": ""
           }
          },
          "scene": {
           "xaxis": {
            "backgroundcolor": "#E5ECF6",
            "gridcolor": "white",
            "gridwidth": 2,
            "linecolor": "white",
            "showbackground": true,
            "ticks": "",
            "zerolinecolor": "white"
           },
           "yaxis": {
            "backgroundcolor": "#E5ECF6",
            "gridcolor": "white",
            "gridwidth": 2,
            "linecolor": "white",
            "showbackground": true,
            "ticks": "",
            "zerolinecolor": "white"
           },
           "zaxis": {
            "backgroundcolor": "#E5ECF6",
            "gridcolor": "white",
            "gridwidth": 2,
            "linecolor": "white",
            "showbackground": true,
            "ticks": "",
            "zerolinecolor": "white"
           }
          },
          "shapedefaults": {
           "line": {
            "color": "#2a3f5f"
           }
          },
          "ternary": {
           "aaxis": {
            "gridcolor": "white",
            "linecolor": "white",
            "ticks": ""
           },
           "baxis": {
            "gridcolor": "white",
            "linecolor": "white",
            "ticks": ""
           },
           "bgcolor": "#E5ECF6",
           "caxis": {
            "gridcolor": "white",
            "linecolor": "white",
            "ticks": ""
           }
          },
          "title": {
           "x": 0.05
          },
          "xaxis": {
           "automargin": true,
           "gridcolor": "white",
           "linecolor": "white",
           "ticks": "",
           "title": {
            "standoff": 15
           },
           "zerolinecolor": "white",
           "zerolinewidth": 2
          },
          "yaxis": {
           "automargin": true,
           "gridcolor": "white",
           "linecolor": "white",
           "ticks": "",
           "title": {
            "standoff": 15
           },
           "zerolinecolor": "white",
           "zerolinewidth": 2
          }
         }
        },
        "title": {
         "text": "Segment와의 상관계수"
        },
        "xaxis": {
         "anchor": "y",
         "domain": [
          0,
          1
         ],
         "title": {
          "text": "Correlation"
         }
        },
        "yaxis": {
         "anchor": "x",
         "domain": [
          0,
          1
         ],
         "title": {
          "text": "Feature"
         }
        }
       }
      }
     },
     "metadata": {},
     "output_type": "display_data"
    }
   ],
   "source": [
    "import plotly.express as px\n",
    "\n",
    "# 상관분석이 가능한 값들만 추출하기\n",
    "valid_corr = correlations[correlations.notna()]\n",
    "\n",
    "# Plotly 시각화 (인터랙티브 + 안겹침)\n",
    "fig = px.bar(valid_corr, orientation='h', title='Segment와의 상관계수', labels={'value': 'Correlation', 'index': 'Feature'})\n",
    "fig.update_layout(height=25 * len(valid_corr), margin=dict(l=150))  # 자동 길이 조절\n",
    "fig.show()\n"
   ]
  },
  {
   "cell_type": "code",
   "execution_count": 28,
   "id": "d80a84ea",
   "metadata": {},
   "outputs": [
    {
     "name": "stdout",
     "output_type": "stream",
     "text": [
      "인입횟수_금융_IB_R6M -> 고유값 수 : 1\n",
      "인입불만횟수_IB_R6M -> 고유값 수 : 1\n",
      "인입불만일수_IB_R6M -> 고유값 수 : 1\n",
      "인입불만월수_IB_R6M -> 고유값 수 : 1\n",
      "인입불만후경과월_IB_R6M -> 고유값 수 : 1\n",
      "인입불만횟수_IB_B0M -> 고유값 수 : 1\n",
      "인입불만일수_IB_B0M -> 고유값 수 : 1\n",
      "IB문의건수_한도_B0M -> 고유값 수 : 1\n",
      "IB문의건수_결제_B0M -> 고유값 수 : 1\n",
      "IB문의건수_할부_B0M -> 고유값 수 : 1\n",
      "IB문의건수_정보변경_B0M -> 고유값 수 : 1\n",
      "IB문의건수_결제일변경_B0M -> 고유값 수 : 1\n",
      "IB문의건수_명세서_B0M -> 고유값 수 : 1\n",
      "IB문의건수_비밀번호_B0M -> 고유값 수 : 1\n",
      "IB문의건수_SMS_B0M -> 고유값 수 : 1\n",
      "IB문의건수_APP_B0M -> 고유값 수 : 1\n",
      "IB문의건수_부대서비스_B0M -> 고유값 수 : 1\n",
      "IB문의건수_포인트_B0M -> 고유값 수 : 1\n",
      "IB문의건수_BL_B0M -> 고유값 수 : 1\n",
      "IB문의건수_분실도난_B0M -> 고유값 수 : 1\n",
      "IB문의건수_CA_B0M -> 고유값 수 : 1\n",
      "IB상담건수_VOC_B0M -> 고유값 수 : 1\n",
      "IB상담건수_VOC민원_B0M -> 고유값 수 : 1\n",
      "IB상담건수_VOC불만_B0M -> 고유값 수 : 1\n",
      "IB상담건수_금감원_B0M -> 고유값 수 : 1\n",
      "IB문의건수_명세서_R6M -> 고유값 수 : 1\n",
      "IB문의건수_APP_R6M -> 고유값 수 : 1\n",
      "IB상담건수_VOC_R6M -> 고유값 수 : 1\n",
      "IB상담건수_VOC민원_R6M -> 고유값 수 : 1\n",
      "IB상담건수_VOC불만_R6M -> 고유값 수 : 1\n",
      "IB상담건수_금감원_R6M -> 고유값 수 : 1\n",
      "불만제기건수_B0M -> 고유값 수 : 1\n",
      "불만제기건수_R12M -> 고유값 수 : 1\n",
      "당사PAY_방문횟수_B0M -> 고유값 수 : 1\n",
      "당사PAY_방문횟수_R6M -> 고유값 수 : 1\n",
      "당사PAY_방문월수_R6M -> 고유값 수 : 1\n"
     ]
    }
   ],
   "source": [
    "# 상관계수가 결측치로 나오는 칼럼들의 분산을 확인해본다.\n",
    "for col in correlations[correlations.isna()].index:\n",
    "    print(f\"{col} -> 고유값 수 : {x[col].nunique()}\")"
   ]
  },
  {
   "cell_type": "markdown",
   "id": "87aff410",
   "metadata": {},
   "source": [
    "위 칼럼들은 x축 값이 전부 0으로 동일하기 때문에, 분산이 0이다. 상관계수 계산이 불가한 칼럼이라고 볼 수 있다. \n"
   ]
  },
  {
   "cell_type": "code",
   "execution_count": 30,
   "id": "444816d7",
   "metadata": {},
   "outputs": [
    {
     "name": "stdout",
     "output_type": "stream",
     "text": [
      "           column       p_value    chi2_stat\n",
      "1    인입횟수_ARS_R6M  0.000000e+00  4902.508001\n",
      "2  이용메뉴건수_ARS_R6M  0.000000e+00  4812.968577\n",
      "3     방문횟수_PC_R6M  0.000000e+00  8652.210788\n",
      "4     방문일수_PC_R6M  0.000000e+00  7849.537427\n",
      "5      방문횟수_앱_R6M  0.000000e+00  8692.204370\n",
      "6          OS구분코드  3.909444e-28   134.666772\n"
     ]
    }
   ],
   "source": [
    "from scipy.stats import chi2_contingency\n",
    "\n",
    "\n",
    "# object 타입(문자형) 컬럼들만 추출\n",
    "cat_cols = train_df.select_dtypes(include='object').columns\n",
    "\n",
    "# 결과 저장용 리스트\n",
    "chi2_results = []\n",
    "\n",
    "# 타겟 컬럼 이름\n",
    "target_col = 'Segment'  \n",
    "\n",
    "for col in cat_cols:\n",
    "    if train_df[col].nunique() <= 1:\n",
    "        continue  # 고유값이 1개인 건 패스\n",
    "    \n",
    "    # 교차표 생성\n",
    "    contingency = pd.crosstab(train_df[col], sg_df[target_col])\n",
    "    \n",
    "    # 카이제곱 독립성 검정\n",
    "    try:\n",
    "        chi2, p, dof, expected = chi2_contingency(contingency)\n",
    "        chi2_results.append({'column': col, 'p_value': p, 'chi2_stat': chi2})\n",
    "    except:\n",
    "        chi2_results.append({'column': col, 'p_value': None, 'chi2_stat': None})\n",
    "\n",
    "# 결과를 데이터프레임으로 정리\n",
    "chi2_df = pd.DataFrame(chi2_results)\n",
    "chi2_df = chi2_df.sort_values('p_value', ascending=True)\n",
    "\n",
    "# 유의미한 변수 출력 (p-value < 0.05)\n",
    "print(chi2_df[chi2_df['p_value'] < 0.05])\n"
   ]
  },
  {
   "cell_type": "markdown",
   "id": "c215c4f3",
   "metadata": {},
   "source": [
    "문자형 변수들이 Segment와 어떤 관련이 있는지를 검토하기 위해 카이제곱 독립성 검정(두 범주형 변수 간의 통계적 독립 여부를 검정하는 방법)을 사용하였다. \n",
    "상관계수는 수치형 변수 간의 관계만 측정할 수 있기 때문에, 문자형 변수와의 연관성 측정에는 적절하지 않기 때문이다. \n",
    "결과로는 6개의 컬럼 모두 유의미한 결과가 나왔다."
   ]
  },
  {
   "cell_type": "markdown",
   "id": "edeb957e",
   "metadata": {},
   "source": [
    "p-value가 적다는 것은, 해당 변수와 Segment가 완전히 독립적이지 않다는 의미로 해석될 수 있다. \n",
    "즉, 시스템(앱, 모바일, PC 등)에 따라 고객 세그멘트가 구분될 수 있다는 것이다. \n",
    "\n",
    "방문횟수_앱_R6M, 방문횟수_PC_R6M은 값이 높게 나타났는데, 이는 Segment별로 방문 패턴 차이가 존재함을 의미함. \n",
    "OS구분코드는 유의미는 하지만, 그 영향력은 상대적으로 약하다."
   ]
  },
  {
   "cell_type": "code",
   "execution_count": 38,
   "id": "fa5016b5",
   "metadata": {},
   "outputs": [],
   "source": [
    "# Corr을 DataFrame 형태로 변환 \n",
    "corr_df = correlations.reset_index()\n",
    "corr_df.columns = ['변수명', '상관계수']\n",
    "\n",
    "corr_df = corr_df.dropna()"
   ]
  },
  {
   "cell_type": "code",
   "execution_count": 50,
   "id": "293762e7",
   "metadata": {},
   "outputs": [],
   "source": [
    "# 카이제곱 독립성 검정을 DataFrame으로 변환 \n",
    "chi2_df = pd.DataFrame(chi2_results)\n",
    "\n",
    "chi2_df = chi2_df.rename(columns={'column': '변수명'})\n"
   ]
  },
  {
   "cell_type": "code",
   "execution_count": 54,
   "id": "2936c2d5",
   "metadata": {},
   "outputs": [],
   "source": [
    "# 병합 및 CSV로 내보내기 \n",
    "merged_df = pd.merge(corr_df, chi2_df, on='변수명', how='outer')\n",
    "\n",
    "merged_df.to_csv('C:/Users/SAMSUNG/OneDrive/바탕 화면/6.채널정보/corr.csv', index=False, encoding='utf-8-sig')\n"
   ]
  },
  {
   "cell_type": "code",
   "execution_count": null,
   "id": "35f6b66b",
   "metadata": {},
   "outputs": [],
   "source": []
  }
 ],
 "metadata": {
  "kernelspec": {
   "display_name": "base",
   "language": "python",
   "name": "python3"
  },
  "language_info": {
   "codemirror_mode": {
    "name": "ipython",
    "version": 3
   },
   "file_extension": ".py",
   "mimetype": "text/x-python",
   "name": "python",
   "nbconvert_exporter": "python",
   "pygments_lexer": "ipython3",
   "version": "3.12.7"
  }
 },
 "nbformat": 4,
 "nbformat_minor": 5
}
